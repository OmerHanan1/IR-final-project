{
  "nbformat": 4,
  "nbformat_minor": 0,
  "metadata": {
    "colab": {
      "provenance": []
    },
    "kernelspec": {
      "name": "python3",
      "display_name": "Python 3"
    },
    "language_info": {
      "name": "python"
    }
  },
  "cells": [
    {
      "cell_type": "markdown",
      "metadata": {
        "id": "Na0MC_1nzDbi"
      },
      "source": [
        "# Testing your app\n",
        "\n",
        "Once your app is running you can query it. You can simply do that by navigating to the URL that ngrok gave you above or through code in a different python session. For example, once the frontend app is running, you can navigate to:\n",
        "http://YOUR_SERVER_DOMAIN/search?query=hello+world where YOUR_SERVER_DOMAIN is something like XXXX-XX-XX-XX-XX.ngrok.io, which is printed above in Colab or that is your external IP on GCP.\n",
        "\n",
        "The code below shows how to issue a query from python. This is also how our testing code will issue queries to your search engine, so make sure to test your search engine this way after you deploy it to GCP and before submission. Command line instructions for deploying your search engine to GCP are available at `run_frontend_in_gcp.sh`. Note that we will not only issue training queries to your search engine, but also test queries, i.e. queries that you've never seen before."
      ]
    },
    {
      "cell_type": "markdown",
      "source": [],
      "metadata": {
        "id": "_Ol1OArbtK-X"
      }
    },
    {
      "cell_type": "code",
      "execution_count": 2,
      "metadata": {
        "id": "EM5ePrRHojbG"
      },
      "outputs": [],
      "source": [
        "import json\n",
        "\n",
        "with open('queries_train.json', 'rt') as f:\n",
        "  queries = json.load(f)"
      ]
    },
    {
      "cell_type": "code",
      "execution_count": 3,
      "metadata": {
        "id": "gWimZWCOy3Ei"
      },
      "outputs": [],
      "source": [
        "def average_precision(true_list, predicted_list, k=40):\n",
        "    true_set = frozenset(true_list)\n",
        "    predicted_list = predicted_list[:k]\n",
        "    precisions = []\n",
        "    for i,doc_id in enumerate(predicted_list):        \n",
        "        if doc_id in true_set:\n",
        "            prec = (len(precisions)+1) / (i+1)            \n",
        "            precisions.append(prec)\n",
        "    if len(precisions) == 0:\n",
        "        return 0.0\n",
        "    sum = 0\n",
        "    for item in precisions:\n",
        "      sum += item\n",
        "    return round(item/len(precisions),3)"
      ]
    },
    {
      "cell_type": "code",
      "execution_count": 4,
      "metadata": {
        "id": "dYmNTq9u0ChK",
        "colab": {
          "base_uri": "https://localhost:8080/"
        },
        "outputId": "8d84ce3a-98db-4d90-abd0-a076b568af72"
      },
      "outputs": [
        {
          "output_type": "stream",
          "name": "stdout",
          "text": [
            "[('best marvel movie', 3.1101293563842773, 0.026), ('How do kids come to world?', 2.8349804878234863, 0.0), ('Information retrieval', 0.8622043132781982, 0.026), ('LinkedIn', 0.06853628158569336, 0.031), ('How to make coffee?', 0.8889825344085693, 0.027), ('Ritalin', 0.05195283889770508, 0.025), ('How to make wine at home?', 2.8573379516601562, 0.062), ('Most expensive city in the world', 3.4178199768066406, 1.0), ('India', 1.047957181930542, 0.025), ('how to make money fast?', 1.659315824508667, 0.026), ('Netflix', 0.14011859893798828, 0.143), ('Apple computer', 0.9464163780212402, 0.091), ('The Simpsons', 0.08690023422241211, 0.071), ('World cup', 2.049920082092285, 0.077), ('How to lose weight?', 0.8704202175140381, 0.028), ('Java', 0.17435407638549805, 0.059), ('Air Jordan', 1.806544303894043, 0.034), ('how to deal with depression?', 0.5784780979156494, 0.025), ('How do you make gold', 1.1889348030090332, 0.026), ('Marijuana', 0.09549951553344727, 0.028), ('How to make hummus', 0.6760072708129883, 0.025), ('Winter', 0.2837364673614502, 0.143), ('Rick and Morty', 0.15891122817993164, 0.026), ('Natural Language processing', 2.2254226207733154, 0.029), ('World Cup 2022', 2.1764378547668457, 0.0), ('Dolly the sheep', 0.2746586799621582, 0.029), ('cigarettes', 0.08796167373657227, 0.026), ('What is the best place to live in?', 4.633524179458618, 0.0), ('Elon musk', 0.08173227310180664, 0.026), ('How do you breed flowers?', 0.5287187099456787, 0.0)]\n",
            "average precision is 0.0711333333333333\n"
          ]
        }
      ],
      "source": [
        "import requests\n",
        "from time import time\n",
        "# url = 'http://35.232.59.3:8080'\n",
        "# place the domain you got from ngrok or GCP IP below. \n",
        "url = 'http://2589-34-86-111-80.ngrok.io'\n",
        "\n",
        "qs_res = []\n",
        "for q, true_wids in queries.items():\n",
        "  duration, ap = None, None\n",
        "  t_start = time()\n",
        "  try:\n",
        "    res = requests.get(url + '/search_body', {'query': q}, timeout=35)\n",
        "    duration = time() - t_start\n",
        "    if res.status_code == 200:\n",
        "      pred_wids, _ = zip(*res.json())\n",
        "      ap = average_precision(true_wids, pred_wids)\n",
        "  except:\n",
        "    pass\n",
        "  \n",
        "  qs_res.append((q, duration, ap))\n",
        "print(qs_res)\n",
        "sum = 0\n",
        "for tup in qs_res:\n",
        "  sum += tup[2]\n",
        "avg = sum/len(qs_res)\n",
        "print(f\"average precision is {avg}\")"
      ]
    }
  ]
}