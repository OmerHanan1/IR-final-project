{
  "nbformat": 4,
  "nbformat_minor": 0,
  "metadata": {
    "colab": {
      "provenance": []
    },
    "kernelspec": {
      "name": "python3",
      "display_name": "Python 3"
    },
    "language_info": {
      "name": "python"
    }
  },
  "cells": [
    {
      "cell_type": "markdown",
      "metadata": {
        "id": "Na0MC_1nzDbi"
      },
      "source": [
        "# Testing your app\n",
        "\n",
        "Once your app is running you can query it. You can simply do that by navigating to the URL that ngrok gave you above or through code in a different python session. For example, once the frontend app is running, you can navigate to:\n",
        "http://YOUR_SERVER_DOMAIN/search?query=hello+world where YOUR_SERVER_DOMAIN is something like XXXX-XX-XX-XX-XX.ngrok.io, which is printed above in Colab or that is your external IP on GCP.\n",
        "\n",
        "The code below shows how to issue a query from python. This is also how our testing code will issue queries to your search engine, so make sure to test your search engine this way after you deploy it to GCP and before submission. Command line instructions for deploying your search engine to GCP are available at `run_frontend_in_gcp.sh`. Note that we will not only issue training queries to your search engine, but also test queries, i.e. queries that you've never seen before."
      ]
    },
    {
      "cell_type": "markdown",
      "source": [],
      "metadata": {
        "id": "_Ol1OArbtK-X"
      }
    },
    {
      "cell_type": "code",
      "execution_count": 17,
      "metadata": {
        "id": "EM5ePrRHojbG"
      },
      "outputs": [],
      "source": [
        "import json\n",
        "\n",
        "with open('queries_train.json', 'rt') as f:\n",
        "  queries = json.load(f)"
      ]
    },
    {
      "cell_type": "code",
      "execution_count": 22,
      "metadata": {
        "id": "gWimZWCOy3Ei"
      },
      "outputs": [],
      "source": [
        "def average_precision_at_40(true_list, predicted_list, k=40):\n",
        "    true_set = frozenset(true_list)\n",
        "    predicted_list = predicted_list[:k]\n",
        "    precisions = []\n",
        "    for i,doc_id in enumerate(predicted_list):        \n",
        "        if doc_id in true_set:\n",
        "            prec = (len(precisions)+1) / (i+1)            \n",
        "            precisions.append(prec)\n",
        "    if len(precisions) == 0:\n",
        "        return 0.0\n",
        "    return round(sum(precisions)/len(precisions),3)\n",
        "\n",
        "def average_precision(true_list, predicted_list):\n",
        "    true_set = frozenset(true_list)\n",
        "    precisions = []\n",
        "    for i,doc_id in enumerate(predicted_list):        \n",
        "        if doc_id in true_set:\n",
        "            prec = (len(precisions)+1) / (i+1)            \n",
        "            precisions.append(prec)\n",
        "    if len(precisions) == 0:\n",
        "        return 0.0\n",
        "    return round(sum(precisions)/len(precisions),3)\n",
        "\n",
        "def recall(true_list, predicted_list):\n",
        "    true_set = frozenset(true_list)\n",
        "    rec = 0\n",
        "    for i in predicted_list:\n",
        "      if i in true_set:\n",
        "        rec += 1\n",
        "    return rec"
      ]
    },
    {
      "cell_type": "code",
      "execution_count": 33,
      "metadata": {
        "id": "dYmNTq9u0ChK",
        "colab": {
          "base_uri": "https://localhost:8080/"
        },
        "outputId": "b0bc20ce-01b6-4f58-ac3b-32ca5b59764b"
      },
      "outputs": [
        {
          "output_type": "stream",
          "name": "stdout",
          "text": [
            "best marvel movie -> 59\n",
            "How do kids come to world? -> 53\n",
            "Information retrieval -> 36\n",
            "LinkedIn -> 46\n",
            "How to make coffee? -> 60\n",
            "Ritalin -> 49\n",
            "How to make wine at home? -> 50\n",
            "Most expensive city in the world -> 57\n",
            "India -> 28\n",
            "how to make money fast? -> 47\n",
            "Netflix -> 20\n",
            "Apple computer -> 77\n",
            "The Simpsons -> 91\n",
            "World cup -> 63\n",
            "How to lose weight? -> 42\n",
            "Java -> 74\n",
            "Air Jordan -> 48\n",
            "how to deal with depression? -> 53\n",
            "How do you make gold -> 48\n",
            "Marijuana -> 54\n",
            "How to make hummus -> 45\n",
            "Winter -> 44\n",
            "Rick and Morty -> 50\n",
            "Natural Language processing -> 48\n",
            "World Cup 2022 -> 26\n",
            "Dolly the sheep -> 61\n",
            "Cigarettes -> 82\n",
            "What is the best place to live in? -> 45\n",
            "Elon musk -> 32\n",
            "How do you breed flowers? -> 49\n",
            "[('best marvel movie', 2.310427188873291, 0.266, 0.266, 3), ('How do kids come to world?', 2.8809807300567627, 0.116, 0.116, 3), ('Information retrieval', 1.2235896587371826, 0.979, 0.979, 12), ('LinkedIn', 0.3314673900604248, 0.877, 0.877, 13), ('How to make coffee?', 1.6079816818237305, 0.598, 0.507, 15), ('Ritalin', 0.3205912113189697, 0.673, 0.649, 15), ('How to make wine at home?', 2.949293613433838, 0.118, 0.108, 5), ('Most expensive city in the world', 3.591933488845825, 1.0, 1.0, 1), ('India', 1.114576816558838, 0.394, 0.394, 3), ('how to make money fast?', 2.2978994846343994, 0.559, 0.559, 6), ('Netflix', 0.3740653991699219, 0.766, 0.766, 9), ('Apple computer', 1.0147850513458252, 0.605, 0.523, 14), ('The Simpsons', 0.4523763656616211, 1.0, 0.361, 3), ('World cup', 2.904207706451416, 0.512, 0.512, 12), ('How to lose weight?', 1.0060343742370605, 0.425, 0.41, 11), ('Java', 0.3877856731414795, 0.733, 0.661, 21), ('Air Jordan', 1.3725025653839111, 0.456, 0.456, 8), ('how to deal with depression?', 1.102180004119873, 0.286, 0.3, 17), ('How do you make gold', 2.355557441711426, 0.142, 0.142, 5), ('Marijuana', 0.3435642719268799, 0.37, 0.37, 5), ('How to make hummus', 1.509178638458252, 0.344, 0.344, 8), ('Winter', 0.8475849628448486, 0.421, 0.392, 8), ('Rick and Morty', 0.4739718437194824, 0.81, 0.788, 24), ('Natural Language processing', 2.3308939933776855, 0.568, 0.549, 14), ('World Cup 2022', 2.9725420475006104, 0.668, 0.668, 7), ('Dolly the sheep', 0.41975879669189453, 0.796, 0.796, 6), ('Cigarettes', 0.35382890701293945, 0.415, 0.321, 7), ('What is the best place to live in?', 5.579766750335693, 0.0, 0.0, 0), ('Elon musk', 0.3325512409210205, 0.717, 0.717, 6), ('How do you breed flowers?', 0.6700439453125, 0.887, 0.733, 5)]\n",
            "average recall is 8.866666666666667\n",
            "average precision is 0.5087999999999999\n",
            "average precision at 40 is 0.5500333333333333\n",
            "average time is 1.5143973747889201\n"
          ]
        }
      ],
      "source": [
        "import requests\n",
        "from time import time\n",
        "\n",
        "url = 'http://35.225.7.222:8080'\n",
        "\n",
        "qs_res = []\n",
        "for q, true_wids in queries.items():\n",
        "  duration, ap = None, None\n",
        "  t_start = time()\n",
        "  try:\n",
        "    res = requests.get(url + '/search', {'query': q}, timeout=35)\n",
        "    duration = time() - t_start\n",
        "    if res.status_code == 200:\n",
        "      pred_wids, _ = zip(*res.json())\n",
        "      apa40 = average_precision_at_40(true_wids, pred_wids)\n",
        "      ap = average_precision(true_wids, pred_wids)\n",
        "      r = recall(true_wids, pred_wids)\n",
        "  except:\n",
        "    pass\n",
        "  print(f\"{q} -> {len(pred_wids)}\")\n",
        "  \n",
        "  qs_res.append((q, duration, apa40, ap, r))\n",
        "\n",
        "print(qs_res)\n",
        "sum_duration = 0\n",
        "sum_apa40 = 0\n",
        "sum_ap = 0\n",
        "sum_r = 0\n",
        "for tup in qs_res:\n",
        "  sum_duration += tup[1]\n",
        "  sum_apa40 += tup[2]\n",
        "  sum_ap += tup[3]\n",
        "  sum_r += tup[4]\n",
        "\n",
        "avg_duration = sum_duration/len(qs_res)\n",
        "avg_apa40 = sum_apa40/len(qs_res)\n",
        "avg_ap = sum_ap/len(qs_res)\n",
        "avg_r = sum_r/len(qs_res)\n",
        "\n",
        "print(f\"average recall is {avg_r}\")\n",
        "print(f\"average precision is {avg_ap}\")\n",
        "print(f\"average precision at 40 is {avg_apa40}\")\n",
        "print(f\"average time is {avg_duration}\")"
      ]
    },
    {
      "cell_type": "code",
      "source": [
        "try:\n",
        "  page_rank = requests.post(url + '/get_pagerank', json=[22634890, 23154189, 306742])\n",
        "  print(page_rank.json())\n",
        "  page_view = requests.post(url + '/get_pageview', json=[22634890, 23154189, 306742])\n",
        "  print(page_view.json())\n",
        "except:\n",
        "  print(\"some error\")"
      ],
      "metadata": {
        "id": "FwH6iCESiKHW"
      },
      "execution_count": null,
      "outputs": []
    }
  ]
}