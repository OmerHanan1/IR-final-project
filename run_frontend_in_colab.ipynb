{
  "cells": [
    {
      "cell_type": "code",
      "execution_count": null,
      "metadata": {
        "id": "bCPDHP7zTQJZ"
      },
      "outputs": [],
      "source": [
        "# download nltk stopwords\n",
        "import nltk\n",
        "from google.cloud import storage\n",
        "nltk.download('stopwords')"
      ]
    },
    {
      "cell_type": "code",
      "execution_count": null,
      "metadata": {
        "id": "lAt6KT8xOgHH"
      },
      "outputs": [],
      "source": [
        "# Install a particular version of `google-cloud-storage` because (oddly enough) \n",
        "# the  version on Colab and GCP is old. A dependency error below is okay.\n",
        "!pip install -q google-cloud-storage==1.43.0\n",
        "!pip install pyspark"
      ]
    },
    {
      "cell_type": "code",
      "execution_count": 3,
      "metadata": {
        "id": "-oKFly5jFLFn"
      },
      "outputs": [],
      "source": [
        "# authenticate below for Google Storage access as needed\n",
        "from google.colab import auth\n",
        "auth.authenticate_user()"
      ]
    },
    {
      "cell_type": "code",
      "execution_count": null,
      "metadata": {
        "id": "vDuikxFbN9B7"
      },
      "outputs": [],
      "source": [
        "# Copy one wikidumps files \n",
        "import os\n",
        "from pathlib import Path\n",
        "\n",
        "project_id = 'assignment3-370517'\n",
        "\n",
        "!gcloud config set project {project_id}\n",
        "\n",
        "bucket_name = 'amit-chen-bucket-1'\n",
        "\n",
        "postings_gcp_text = 'postings_gcp_text'\n",
        "postings_gcp_anchor = 'postings_gcp_anchor'\n",
        "postings_gcp_title = 'postings_gcp_title'\n",
        "postings_gcp_text_stemmed = 'postings_gcp_text_stemmed'\n",
        "postings_gcp_anchor_stemmed = 'postings_gcp_anchor_stemmed'\n",
        "postings_gcp_title_stemmed = 'postings_gcp_title_stemmed'\n",
        "doc_len = 'dl'\n",
        "doc_title = 'dt'\n",
        "nf_body = 'nf'\n",
        "\n",
        "# uncoment data you want to upload from bucket \n",
        "\n",
        "!gsutil -m cp -r gs://{bucket_name}/{postings_gcp_text}/ . \n",
        "!gsutil -m cp -r gs://{bucket_name}/{postings_gcp_anchor}/ . \n",
        "!gsutil -m cp -r gs://{bucket_name}/{postings_gcp_title}/ .  \n",
        "!gsutil -m cp -r gs://{bucket_name}/{postings_gcp_text_stemmed}/ . \n",
        "!gsutil -m cp -r gs://{bucket_name}/{postings_gcp_anchor_stemmed}/ . \n",
        "!gsutil -m cp -r gs://{bucket_name}/{postings_gcp_title_stemmed}/ .  \n",
        "!gsutil -m cp -r gs://{bucket_name}/{nf_body}/ . \n",
        "!gsutil -m cp -r gs://{bucket_name}/{doc_len}/ . \n",
        "!gsutil -m cp -r gs://{bucket_name}/{doc_title}/ . "
      ]
    },
    {
      "cell_type": "code",
      "source": [
        "!mkdir pr/\n",
        "!mkdir pv/\n",
        "client = storage.Client()\n",
        "blobs = client.list_blobs(f\"{bucket_name}\")\n",
        "for b in blobs:\n",
        "    if \"part-00000-8b293cd5-fd79-47e7-a641-3d067da0c2b0-c000.csv.gz\" in b.name:\n",
        "      b.download_to_filename(\"pr/pr.csv.gz\")\n",
        "    if \"pageview_pageviews-202108-user.pkl\" in b.name:\n",
        "      b.download_to_filename(\"pv/pv.pkl\")"
      ],
      "metadata": {
        "id": "WtpZik475DY4"
      },
      "execution_count": 5,
      "outputs": []
    },
    {
      "cell_type": "code",
      "execution_count": null,
      "metadata": {
        "id": "FrBdFNYgiyab"
      },
      "outputs": [],
      "source": [
        "# install ngrok to emulate public IP / address\n",
        "!wget -N https://bin.equinox.io/c/4VmDzA7iaHb/ngrok-stable-linux-amd64.zip -O ngrok-stable-linux-amd64.zip\n",
        "!unzip -u ngrok-stable-linux-amd64.zip"
      ]
    },
    {
      "cell_type": "code",
      "execution_count": null,
      "metadata": {
        "id": "xA-_dKEZbsXW"
      },
      "outputs": [],
      "source": [
        "# TODO: sign up for an ngrok account\n",
        "# then put your ngrok token below, uncomment, and execute\n",
        "!./ngrok authtoken 2JsDuuUTH9LwAeBbnQqZXkbbdod_5NLnteyuKr4NCqq1Knyok"
      ]
    },
    {
      "cell_type": "code",
      "execution_count": null,
      "metadata": {
        "id": "nXn5PlyGORQr"
      },
      "outputs": [],
      "source": [
        "# install a ngrok python package and a version of flask that works with it in \n",
        "# colab\n",
        "!pip -q install flask-ngrok\n",
        "!pip -q install flask==0.12.2\n",
        "# !pip -q install flask_restful"
      ]
    },
    {
      "cell_type": "markdown",
      "metadata": {
        "id": "LWL3L3TIgI1S"
      },
      "source": [
        "# Unzip training files\n",
        "upload and run below code:"
      ]
    },
    {
      "cell_type": "code",
      "execution_count": null,
      "metadata": {
        "id": "gSdrBZ3YgYUI"
      },
      "outputs": [],
      "source": [
        "!unzip all_files_for_frontend.zip"
      ]
    },
    {
      "cell_type": "markdown",
      "metadata": {
        "id": "rOGL4_gg5GK8"
      },
      "source": [
        "# Loading data:"
      ]
    },
    {
      "cell_type": "code",
      "source": [
        "from flask import Flask, request, jsonify, render_template\n",
        "import gzip\n",
        "import pickle\n",
        "import pandas as pd\n",
        "from inverted_index_gcp import *\n",
        "\n",
        "INDEX_FILE = \"index\"\n",
        "POSTINGS_GCP_TEXT_INDEX_FOLDER_URL = \"postings_gcp_text\"\n",
        "POSTINGS_GCP_ANCHOR_INDEX_FOLDER_URL = \"postings_gcp_anchor\"\n",
        "POSTINGS_GCP_TITLE_INDEX_FOLDER_URL = \"postings_gcp_title\"\n",
        "POSTINGS_GCP_TEXT_STEMMED_INDEX_FOLDER_URL = \"postings_gcp_text_stemmed\"\n",
        "POSTINGS_GCP_ANCHOR_STEMMED_INDEX_FOLDER_URL = \"postings_gcp_anchor_stemmed\"\n",
        "POSTINGS_GCP_TITLE_STEMMED_INDEX_FOLDER_URL = \"postings_gcp_title_stemmed\"\n",
        "PAGE_RANK_URL = \"pr/pr.csv.gz\"\n",
        "PAGE_VIEW_URL = \"pv/pv.pkl\"\n",
        "DT_PATH = \"dt/dt.pkl\"\n",
        "DL_PATH = \"dl/dl.pkl\"\n",
        "NF_PATH = \"nf/nf.pkl\"\n",
        "\n",
        "# open files (inverted indexes etc...)\n",
        "inverted_index_body = InvertedIndex.read_index(POSTINGS_GCP_TEXT_INDEX_FOLDER_URL, INDEX_FILE)\n",
        "inverted_index_anchor = InvertedIndex.read_index(POSTINGS_GCP_ANCHOR_INDEX_FOLDER_URL, INDEX_FILE)\n",
        "inverted_index_title = InvertedIndex.read_index(POSTINGS_GCP_TITLE_INDEX_FOLDER_URL, INDEX_FILE)\n",
        "inverted_index_body_stemmed = InvertedIndex.read_index(POSTINGS_GCP_TEXT_STEMMED_INDEX_FOLDER_URL, INDEX_FILE)\n",
        "inverted_index_anchor_stemmed = InvertedIndex.read_index(POSTINGS_GCP_ANCHOR_STEMMED_INDEX_FOLDER_URL, INDEX_FILE)\n",
        "inverted_index_title_stemmed = InvertedIndex.read_index(POSTINGS_GCP_TITLE_STEMMED_INDEX_FOLDER_URL, INDEX_FILE)\n",
        "\n",
        "with open(DL_PATH, 'rb') as f:\n",
        "    DL = pickle.load(f)\n",
        "    DL_LEN = len(DL)\n",
        "\n",
        "with open(DT_PATH, 'rb') as f:\n",
        "    DT = pickle.load(f)\n",
        "\n",
        "with open(NF_PATH, 'rb') as f:\n",
        "    NF = pickle.load(f)\n",
        "\n",
        "with open(PAGE_VIEW_URL, 'rb') as f:\n",
        "    page_view = pickle.load(f)\n",
        "\n",
        "with gzip.open(PAGE_RANK_URL) as f:\n",
        "    page_rank = pd.read_csv(f, header=None, index_col=0).squeeze(\"columns\").to_dict()\n",
        "    max_pr_value = max(page_rank.values())\n",
        "    page_rank = {doc_id: rank/max_pr_value for doc_id, rank in page_rank.items()}\n",
        "    "
      ],
      "metadata": {
        "id": "9EJyP5CnWHBt"
      },
      "execution_count": 1,
      "outputs": []
    },
    {
      "cell_type": "markdown",
      "source": [
        "# Utils:"
      ],
      "metadata": {
        "id": "X5bxpJGB2DoB"
      }
    },
    {
      "cell_type": "code",
      "source": [
        "import re\n",
        "import math\n",
        "from collections import Counter\n",
        "from nltk.stem.porter import *\n",
        "from nltk.corpus import stopwords\n",
        "\n",
        "\n",
        "def tokenize(text, STEMMING=False):\n",
        "    RE_WORD = re.compile(r\"\"\"[\\#\\@\\w](['\\-]?[\\w,]?[\\w.]?(?:['\\-]?[\\w,]?[\\w])){0,24}\"\"\", re.UNICODE)\n",
        "    english_stopwords = frozenset(stopwords.words('english'))\n",
        "    corpus_stopwords = [\"category\", \"references\", \"also\", \"external\", \"links\",\n",
        "                        \"may\", \"first\", \"see\", \"history\", \"people\", \"one\", \"two\",\n",
        "                        \"part\", \"thumb\", \"including\", \"second\", \"following\",\n",
        "                        \"many\", \"however\", \"would\", \"became\"]\n",
        "\n",
        "    all_stopwords = english_stopwords.union(corpus_stopwords)\n",
        "\n",
        "    tokens = [token.group() for token in RE_WORD.finditer(text.lower())]\n",
        "\n",
        "    if STEMMING:\n",
        "        stemmer = PorterStemmer()\n",
        "        list_of_tokens = [stemmer.stem(x) for x in tokens if x not in all_stopwords]\n",
        "    else:\n",
        "        list_of_tokens = [x for x in tokens if x not in all_stopwords]\n",
        "  \n",
        "    return list_of_tokens\n",
        "\n",
        "\n",
        "def BM25(tokens, K, B, AVGDL, inverted_index, index_folder_url, DL, DL_LEN):\n",
        "    \n",
        "    doc_BM25_value = Counter()\n",
        "\n",
        "    for token in tokens:\n",
        "\n",
        "        # calc idf for specific token\n",
        "        try:\n",
        "          token_df = inverted_index.df[token]\n",
        "        except:\n",
        "            continue\n",
        "        token_idf = math.log(DL_LEN/token_df,10)\n",
        "\n",
        "        # loading posting list with (word, (doc_id, tf))\n",
        "        posting_list = inverted_index.read_posting_list(token, index_folder_url)\n",
        "        for page_id, word_freq in posting_list:\n",
        "            #normalized tf (by the length of document)\n",
        "            try:\n",
        "                numerator = word_freq*(K+1)\n",
        "                denominator = word_freq + K*(1-B + (B*DL[page_id])/AVGDL)\n",
        "                doc_BM25_value[page_id] += token_idf*(numerator/denominator)\n",
        "            except:\n",
        "                pass\n",
        "        \n",
        "    sorted_doc_BM25_value = doc_BM25_value.most_common()\n",
        "    return sorted_doc_BM25_value\n",
        "\n",
        "\n",
        "def cossim(tokens, inverted_index, index_folder_url, DL, DL_LEN, NF):\n",
        "    \n",
        "    # get frequency of each token in query\n",
        "    query_freq = Counter(tokens)\n",
        "\n",
        "    numerator = Counter()\n",
        "    query_denominator = 0\n",
        "    weight_token_query = 0\n",
        "\n",
        "    query_len = len(tokens)\n",
        "    for token in tokens:\n",
        "\n",
        "        # calc idf for specific token\n",
        "        try:\n",
        "          token_df = inverted_index.df[token]\n",
        "        except:\n",
        "            continue\n",
        "        token_idf = math.log(DL_LEN/token_df,10)\n",
        "\n",
        "        # calc query_token_tf\n",
        "        tf_of_query_token = query_freq[token]/query_len\n",
        "        weight_token_query = tf_of_query_token*token_idf\n",
        "        query_denominator += math.pow(weight_token_query ,2)\n",
        "\n",
        "        # loading posting list with (word, (doc_id, tf))\n",
        "        posting_list = inverted_index.read_posting_list(token, index_folder_url)\n",
        "        for page_id, word_freq in posting_list:\n",
        "            #normalized tf (by the length of document)\n",
        "            try:\n",
        "                tf = (word_freq/DL[page_id])\n",
        "                weight_word_page = tf*token_idf\n",
        "                numerator[page_id] += weight_word_page*weight_token_query\n",
        "            except:\n",
        "                pass\n",
        "\n",
        "    cosim = Counter()\n",
        "    for page_id in numerator.keys():\n",
        "      cosim[page_id] = numerator[page_id]/((math.sqrt(query_denominator)*NF[page_id]))\n",
        "    \n",
        "    sorted_doc_cossim_value = cosim.most_common()\n",
        "    return sorted_doc_cossim_value\n",
        "\n",
        "\n",
        "def get_binary_score(tokens, inverted_index, index_folder_url):\n",
        "\n",
        "    # loading posting list with (word, (doc_id, tf))\n",
        "    posting_lists = inverted_index.get_posting_lists(tokens, index_folder_url)\n",
        "\n",
        "    tf_dict = {}\n",
        "    for posting in posting_lists:\n",
        "        for doc_id, _ in posting:\n",
        "            if doc_id in tf_dict:\n",
        "                tf_dict[doc_id] += 1\n",
        "            else:\n",
        "                tf_dict[doc_id] = 1\n",
        "\n",
        "    list_of_docs = sorted([(doc_id, score) for doc_id, score in tf_dict.items()], key=lambda x: x[1], reverse=True)   \n",
        "    return list_of_docs"
      ],
      "metadata": {
        "id": "zA5ZD76w1-ky"
      },
      "execution_count": 2,
      "outputs": []
    },
    {
      "cell_type": "markdown",
      "source": [
        "# Functions:"
      ],
      "metadata": {
        "id": "DzpAEw5W8Psq"
      }
    },
    {
      "cell_type": "code",
      "execution_count": 8,
      "metadata": {
        "id": "Yrl5Tvx521cE"
      },
      "outputs": [],
      "source": [
        "def search(query):\n",
        "    res = []\n",
        "    if len(query) == 0:\n",
        "      return res\n",
        "\n",
        "    # const bool  \n",
        "    STEMMING = True\n",
        "    COSSIM = False\n",
        "\n",
        "    K = 1.2\n",
        "    B = 0.75\n",
        "    AVGDL = 341.0890174848911\n",
        "\n",
        "    # tokenizing the query\n",
        "    tokens = tokenize(query, STEMMING)\n",
        "\n",
        "    if STEMMING:\n",
        "        inverted_index = inverted_index_body_stemmed\n",
        "        inverted_index_folder_url = POSTINGS_GCP_TEXT_STEMMED_INDEX_FOLDER_URL\n",
        "    else:\n",
        "        inverted_index = inverted_index_body\n",
        "        inverted_index_folder_url = POSTINGS_GCP_TEXT_INDEX_FOLDER_URL\n",
        "\n",
        "    if COSSIM:\n",
        "        print(f\"COSSIM {'STEMMED' if STEMMING else ''}:\")\n",
        "        sorted_doc_score_pairs = cossim(tokens, inverted_index, inverted_index_folder_url, DL, DL_LEN, NF)\n",
        "    else:\n",
        "        print(f\"BM25 {'STEMMED' if STEMMING else ''}:\")\n",
        "        sorted_doc_score_pairs = BM25(tokens, K, B, AVGDL, inverted_index, inverted_index_folder_url, DL, DL_LEN)\n",
        "    \n",
        "    # take first 100 \n",
        "    best = sorted_doc_score_pairs[:100]\n",
        "    print(best)\n",
        "\n",
        "    # take page titles according to id\n",
        "    res = [(x[0], DT[x[0]]) for x in best]\n",
        "    \n",
        "    return res\n",
        "\n",
        "def search_body(query):\n",
        "    res = []\n",
        "    if len(query) == 0:\n",
        "      return res\n",
        "\n",
        "    # tokenizing the query\n",
        "    tokens = tokenize(query)\n",
        "\n",
        "    # cossim\n",
        "    sorted_doc_score_pairs = cossim(tokens, inverted_index_body, POSTINGS_GCP_TEXT_INDEX_FOLDER_URL, DL, DL_LEN, NF)\n",
        "    \n",
        "    # take first 100 \n",
        "    best = sorted_doc_score_pairs[:100]\n",
        "    print(best)\n",
        "\n",
        "    # take page titles according to id\n",
        "    res = [(x[0], DT[x[0]]) for x in best]\n",
        "\n",
        "    return res\n",
        "\n",
        "\n",
        "def search_title(query):\n",
        "    res = []\n",
        "    if len(query) == 0:\n",
        "      return res\n",
        "\n",
        "    # tokenizing the query\n",
        "    tokens = tokenize(query)\n",
        "\n",
        "    # get number of query tokens in doc_title\n",
        "    list_of_docs = get_binary_score(tokens, inverted_index_title, POSTINGS_GCP_TITLE_INDEX_FOLDER_URL)\n",
        "    print(list_of_docs)\n",
        "\n",
        "    # generate doc_title for each doc_id\n",
        "    for doc_id, _ in list_of_docs:\n",
        "        try:\n",
        "            res.append((doc_id, DT[doc_id]))\n",
        "        except:\n",
        "            pass   \n",
        "\n",
        "    return res\n",
        "\n",
        "\n",
        "def search_anchor(query):\n",
        "    res = []\n",
        "    if len(query) == 0:\n",
        "      return res\n",
        "\n",
        "    # tokenizing the query\n",
        "    tokens = tokenize(query)\n",
        "\n",
        "    # get number of query tokens in doc_anchor_text\n",
        "    list_of_docs = get_binary_score(tokens, inverted_index_anchor, POSTINGS_GCP_ANCHOR_INDEX_FOLDER_URL)\n",
        "    print(list_of_docs)\n",
        "\n",
        "    # generate doc_title for each doc_id\n",
        "    for doc_id, _ in list_of_docs:\n",
        "        try:\n",
        "            res.append((doc_id, DT[doc_id]))\n",
        "        except:\n",
        "            pass   \n",
        "\n",
        "    return res\n",
        "\n",
        "\n",
        "def get_pagerank(wiki_ids):\n",
        "    res = []\n",
        "    if len(wiki_ids) == 0:\n",
        "      return res\n",
        "\n",
        "    for wiki_id in wiki_ids:\n",
        "      try:\n",
        "        res.append(page_rank[wiki_id])\n",
        "      except:\n",
        "        res.append(None)\n",
        "\n",
        "    return res\n",
        "\n",
        "\n",
        "def get_pageview(wiki_ids):\n",
        "    res = []\n",
        "    if len(wiki_ids) == 0:\n",
        "      return res\n",
        "      \n",
        "    for wiki_id in wiki_ids:\n",
        "      try:\n",
        "        res.append(page_rank[wiki_id])\n",
        "      except:\n",
        "        res.append(None)\n",
        "\n",
        "    return res\n"
      ]
    },
    {
      "cell_type": "markdown",
      "metadata": {
        "id": "WeueNwmN46jo"
      },
      "source": [
        "# Run Quries\n"
      ]
    },
    {
      "cell_type": "code",
      "execution_count": 9,
      "metadata": {
        "colab": {
          "base_uri": "https://localhost:8080/"
        },
        "id": "G-TGkfGu31iD",
        "outputId": "479e6530-2d6a-4b33-8031-6db13c410ac4"
      },
      "outputs": [
        {
          "output_type": "stream",
          "name": "stdout",
          "text": [
            "BM25 STEMMED:\n",
            "[(7722858, 7.953164309759178), (1499483, 7.8098590120984195), (1275470, 7.624724424499659), (1074657, 7.608064268579172), (6253998, 7.604818351446154), (910407, 7.54868017026951), (5676692, 7.483434395880227), (5454213, 7.466972675054993), (9110929, 7.421795855981193), (5720905, 7.365575933198417), (619048, 7.2581462252127515), (14577142, 7.234447168626588), (3483096, 7.230687714373347), (622415, 7.207202433747371), (4275087, 7.194794574753801), (743391, 7.193303949404867), (2117716, 7.190201294822571), (1535704, 7.188355178204184), (4667205, 7.151594010068294), (817441, 7.112124903095004), (18674251, 7.105145229391836), (1484143, 7.0890454783456125), (1305399, 7.061958687698432), (17101700, 7.049844398575196), (3146871, 7.043594702293403), (8807756, 7.019045221612669), (2173540, 7.0153309915519895), (2982611, 6.990844507520782), (1756788, 6.9622371255804065), (618979, 6.951650097802821), (1916589, 6.935051562757767), (2493991, 6.933253063110356), (2742150, 6.932574036421018), (2437152, 6.932094637909871), (2824628, 6.9175327031509735), (11767009, 6.9083172878446915), (2903140, 6.903838435553583), (2268649, 6.899648085923564), (3049032, 6.889747088023951), (8778746, 6.888593566562202), (2179341, 6.874954527202152), (3518817, 6.855985221534377), (850492, 6.84697109589263), (3198087, 6.794578841837781), (2328901, 6.765296729155026), (15662537, 6.764766342008729), (4451883, 6.748288734256796), (16373987, 6.744276067401465), (2445142, 6.741867466423554), (3501052, 6.732208765094981), (9179583, 6.728033690705667), (2066366, 6.71602208422241), (689437, 6.7145305799325605), (1108610, 6.71179959447617), (1519783, 6.70089869516333), (1754904, 6.698348394480346), (3585285, 6.689866958281649), (3255312, 6.678678032024333), (17254472, 6.6741858082387076), (12673434, 6.658932678068496), (5476946, 6.65776849644069), (12174522, 6.653111294867703), (3198284, 6.639563433118727), (12085102, 6.625518663255951), (150346, 6.619451738599425), (4179276, 6.613983344802683), (2869579, 6.598279538966619), (3572274, 6.589213367204463), (6045489, 6.583805023109872), (9491316, 6.572880322613905), (12449118, 6.568102203638524), (2647835, 6.557004962343938), (9739997, 6.540514892343441), (2287910, 6.52494591828299), (3175684, 6.510228868234227), (5153159, 6.507894515217567), (2203351, 6.5022614146420326), (6746723, 6.496076572025231), (2771081, 6.494328281736442), (9870224, 6.4917391368197634), (5027882, 6.4914995323644025), (2089421, 6.484107623303133), (633317, 6.479570422697264), (18384567, 6.467289868055157), (1875331, 6.466805418276566), (1368672, 6.466738943932667), (16274641, 6.466306219677112), (3329591, 6.463299623895601), (1743852, 6.459630730743372), (2332086, 6.448751393407507), (2110058, 6.4428317709736636), (11402229, 6.44131502820977), (17586817, 6.436317297654144), (297368, 6.425264051664041), (14004696, 6.408367462310792), (3663654, 6.401513302255513), (2452345, 6.399399723076685), (14970420, 6.384692284473023), (545617, 6.378237646532593), (464051, 6.377920867469385)]\n",
            "[(7722858, 'Eric Powell (comics)'), (1499483, 'Animal Logic'), (1275470, 'Superhero film'), (1074657, 'Marvel Studios'), (6253998, 'Pinar Toprak'), (910407, '1940s in comics'), (5676692, 'Iron Man (2008 film)'), (5454213, 'Conan (comics)'), (9110929, 'Sebastian Stan'), (5720905, 'Arthur Suydam'), (619048, 'Frank Brunner'), (14577142, 'Magazine Management'), (3483096, 'Alley Award'), (622415, 'Avi Arad'), (4275087, 'Viewtiful Joe (character)'), (743391, 'Bob Budiansky'), (2117716, 'Stuart Moore'), (1535704, 'Chris Evans (actor)'), (4667205, 'Daredevil: The Album'), (817441, 'Doug Moench'), (18674251, 'Marvel Zombies 3'), (1484143, 'Arsenic and Old Lace'), (1305399, 'Kyle Baker'), (17101700, 'Pizzazz (magazine)'), (3146871, 'Sunbow Entertainment'), (8807756, 'Staz Johnson'), (2173540, 'Cal Dodd'), (2982611, 'John Tartaglione'), (1756788, 'Jock (cartoonist)'), (618979, 'John Buscema'), (1916589, 'Chris Pratt'), (2493991, 'Steve Skroce'), (2742150, 'Paul Renaud'), (2437152, 'Art Thibert'), (2824628, 'Geoff Senior'), (11767009, 'Marvel Rea'), (2903140, 'Mike Ploog'), (2268649, 'Transformers (comics)'), (3049032, 'Julian Farino'), (8778746, 'List of The Incredible Hulk (1978 TV series) episodes'), (2179341, 'Al Ewing'), (3518817, \"Bill & Ted's Excellent Comic Book\"), (850492, 'Brent Anderson'), (3198087, 'A Marvel Comics Super Special: Blade Runner'), (2328901, 'Danny Fingeroth'), (15662537, 'Norm Spencer'), (4451883, 'Anthony Mackie'), (16373987, 'Satomi Satō'), (2445142, 'Jorge Lucas'), (3501052, 'Jackson Bostwick'), (9179583, 'Alex Irvine'), (2066366, 'Bill Parker (comics)'), (689437, 'Alex Ross'), (1108610, 'Xero (SF fanzine)'), (1519783, 'Fantastic Four (2005 film)'), (1754904, 'Spidey Super Stories'), (3585285, 'Martin Goodman (publisher)'), (3255312, 'Robin Green'), (17254472, 'Iron Man (soundtrack)'), (12673434, 'Thor (film)'), (5476946, 'The Incredible Hulk (film)'), (12174522, 'Zizzle'), (3198284, 'Marvel Comics Super Special'), (12085102, 'Christos Gage'), (150346, 'Doctor Strange (disambiguation)'), (4179276, 'David Gallaher'), (2869579, '333 (album)'), (3572274, 'Olivier Coipel'), (6045489, 'Ruth E. Carter'), (9491316, 'David Aja'), (12449118, 'Screen Novelties'), (2647835, 'Zachary Levi'), (9739997, 'Mark Griskey'), (2287910, 'Chris Wiggins'), (3175684, 'Spider-Man (Japanese TV series)'), (5153159, 'List of G.I. Joe: A Real American Hero episodes'), (2203351, 'Willie Lumpkin'), (6746723, 'Killdozer! (short story)'), (2771081, 'Ernie Hart'), (9870224, 'Vision (comics)'), (5027882, 'Marvel Entertainment'), (2089421, 'Alex Schomburg'), (633317, 'Brian Michael Bendis'), (18384567, 'ItsJustSomeRandomGuy'), (1875331, 'Carmine Infantino'), (1368672, 'Paul Gulacy'), (16274641, 'Agent X'), (3329591, 'Frantic Magazine'), (1743852, 'Marvel Productions'), (2332086, 'Batwing'), (2110058, 'Ben Karlin'), (11402229, 'Aaron Taylor-Johnson'), (17586817, 'Marcos Martín (cartoonist)'), (297368, 'Garth Ennis'), (14004696, 'Kevin Delaney'), (3663654, 'Clifford B. Hicks'), (2452345, 'Starburst (magazine)'), (14970420, 'Tommy Lee Edwards'), (545617, 'Jim Steranko'), (464051, 'Brian Clevinger')]\n"
          ]
        }
      ],
      "source": [
        "print(search(\"best marvel movies\"))"
      ]
    },
    {
      "cell_type": "markdown",
      "metadata": {
        "id": "dURhb5t45FLZ"
      },
      "source": [
        "# Run App"
      ]
    },
    {
      "cell_type": "code",
      "execution_count": 12,
      "metadata": {
        "id": "7opNkV6uRHIv"
      },
      "outputs": [],
      "source": [
        "# you need to upload your implementation of search_app.py\n",
        "import search_frontend as se"
      ]
    },
    {
      "cell_type": "code",
      "execution_count": null,
      "metadata": {
        "id": "oTGXXYEXV5l8"
      },
      "outputs": [],
      "source": [
        "# uncomment the code below and execute to reload the module when you make \n",
        "# changes to search_frontend.py (after you upload again).\n",
        "import importlib\n",
        "importlib.reload(se)"
      ]
    },
    {
      "cell_type": "code",
      "execution_count": 15,
      "metadata": {
        "colab": {
          "base_uri": "https://localhost:8080/"
        },
        "id": "6dpGaX3y2uKU",
        "outputId": "38c4fef3-1a2b-4bf4-b60f-2e982eec9ab0"
      },
      "outputs": [
        {
          "output_type": "stream",
          "name": "stderr",
          "text": [
            "INFO:werkzeug: * Running on http://127.0.0.1:5000/ (Press CTRL+C to quit)\n"
          ]
        },
        {
          "output_type": "stream",
          "name": "stdout",
          "text": [
            " * Running on http://ee02-35-186-191-230.ngrok.io\n",
            " * Traffic stats available on http://127.0.0.1:4040\n"
          ]
        },
        {
          "output_type": "stream",
          "name": "stderr",
          "text": [
            "[2023-01-13 13:05:16,638] ERROR in app: Exception on / [GET]\n",
            "Traceback (most recent call last):\n",
            "  File \"/usr/local/lib/python3.8/dist-packages/flask/app.py\", line 1982, in wsgi_app\n",
            "    response = self.full_dispatch_request()\n",
            "  File \"/usr/local/lib/python3.8/dist-packages/flask/app.py\", line 1614, in full_dispatch_request\n",
            "    rv = self.handle_user_exception(e)\n",
            "  File \"/usr/local/lib/python3.8/dist-packages/flask/app.py\", line 1517, in handle_user_exception\n",
            "    reraise(exc_type, exc_value, tb)\n",
            "  File \"/usr/local/lib/python3.8/dist-packages/flask/_compat.py\", line 33, in reraise\n",
            "    raise value\n",
            "  File \"/usr/local/lib/python3.8/dist-packages/flask/app.py\", line 1612, in full_dispatch_request\n",
            "    rv = self.dispatch_request()\n",
            "  File \"/usr/local/lib/python3.8/dist-packages/flask/app.py\", line 1598, in dispatch_request\n",
            "    return self.view_functions[rule.endpoint](**req.view_args)\n",
            "  File \"/content/search_frontend.py\", line 60, in show_shmoogle\n",
            "    return render_template('shmoogle.html')\n",
            "  File \"/usr/local/lib/python3.8/dist-packages/flask/templating.py\", line 133, in render_template\n",
            "    return _render(ctx.app.jinja_env.get_or_select_template(template_name_or_list),\n",
            "  File \"/usr/local/lib/python3.8/dist-packages/jinja2/environment.py\", line 930, in get_or_select_template\n",
            "    return self.get_template(template_name_or_list, parent, globals)\n",
            "  File \"/usr/local/lib/python3.8/dist-packages/jinja2/environment.py\", line 883, in get_template\n",
            "    return self._load_template(name, self.make_globals(globals))\n",
            "  File \"/usr/local/lib/python3.8/dist-packages/jinja2/environment.py\", line 857, in _load_template\n",
            "    template = self.loader.load(self, name, globals)\n",
            "  File \"/usr/local/lib/python3.8/dist-packages/jinja2/loaders.py\", line 115, in load\n",
            "    source, filename, uptodate = self.get_source(environment, name)\n",
            "  File \"/usr/local/lib/python3.8/dist-packages/flask/templating.py\", line 57, in get_source\n",
            "    return self._get_source_fast(environment, template)\n",
            "  File \"/usr/local/lib/python3.8/dist-packages/flask/templating.py\", line 85, in _get_source_fast\n",
            "    raise TemplateNotFound(template)\n",
            "jinja2.exceptions.TemplateNotFound: shmoogle.html\n",
            "INFO:werkzeug:127.0.0.1 - - [13/Jan/2023 13:05:16] \"\u001b[35m\u001b[1mGET / HTTP/1.1\u001b[0m\" 500 -\n",
            "INFO:werkzeug:127.0.0.1 - - [13/Jan/2023 13:05:16] \"\u001b[33mGET /favicon.ico HTTP/1.1\u001b[0m\" 404 -\n",
            "[2023-01-13 13:05:26,802] ERROR in app: Exception on /search_anchor [GET]\n",
            "Traceback (most recent call last):\n",
            "  File \"/usr/local/lib/python3.8/dist-packages/flask/app.py\", line 1982, in wsgi_app\n",
            "    response = self.full_dispatch_request()\n",
            "  File \"/usr/local/lib/python3.8/dist-packages/flask/app.py\", line 1614, in full_dispatch_request\n",
            "    rv = self.handle_user_exception(e)\n",
            "  File \"/usr/local/lib/python3.8/dist-packages/flask/app.py\", line 1517, in handle_user_exception\n",
            "    reraise(exc_type, exc_value, tb)\n",
            "  File \"/usr/local/lib/python3.8/dist-packages/flask/_compat.py\", line 33, in reraise\n",
            "    raise value\n",
            "  File \"/usr/local/lib/python3.8/dist-packages/flask/app.py\", line 1612, in full_dispatch_request\n",
            "    rv = self.dispatch_request()\n",
            "  File \"/usr/local/lib/python3.8/dist-packages/flask/app.py\", line 1598, in dispatch_request\n",
            "    return self.view_functions[rule.endpoint](**req.view_args)\n",
            "  File \"/content/search_frontend.py\", line 214, in search_anchor\n",
            "    list_of_docs = get_binary_score(tokens, inverted_index_anchor, POSTINGS_GCP_ANCHOR_INDEX_FOLDER_URL)\n",
            "NameError: name 'get_binary_score' is not defined\n",
            "INFO:werkzeug:127.0.0.1 - - [13/Jan/2023 13:05:26] \"\u001b[35m\u001b[1mGET /search_anchor?query=hello+world HTTP/1.1\u001b[0m\" 500 -\n",
            "INFO:werkzeug:127.0.0.1 - - [13/Jan/2023 13:05:27] \"\u001b[33mGET /favicon.ico HTTP/1.1\u001b[0m\" 404 -\n"
          ]
        }
      ],
      "source": [
        "from flask_ngrok import run_with_ngrok\n",
        "run_with_ngrok(se.app) \n",
        "se.app.run()"
      ]
    },
    {
      "cell_type": "markdown",
      "metadata": {
        "id": "Na0MC_1nzDbi"
      },
      "source": [
        "# Testing your app\n",
        "\n",
        "Once your app is running you can query it. You can simply do that by navigating to the URL that ngrok gave you above or through code in a different python session. For example, once the frontend app is running, you can navigate to:\n",
        "http://YOUR_SERVER_DOMAIN/search?query=hello+world where YOUR_SERVER_DOMAIN is something like XXXX-XX-XX-XX-XX.ngrok.io, which is printed above in Colab or that is your external IP on GCP.\n",
        "\n",
        "The code below shows how to issue a query from python. This is also how our testing code will issue queries to your search engine, so make sure to test your search engine this way after you deploy it to GCP and before submission. Command line instructions for deploying your search engine to GCP are available at `run_frontend_in_gcp.sh`. Note that we will not only issue training queries to your search engine, but also test queries, i.e. queries that you've never seen before."
      ]
    },
    {
      "cell_type": "code",
      "execution_count": null,
      "metadata": {
        "id": "EM5ePrRHojbG"
      },
      "outputs": [],
      "source": [
        "import json\n",
        "\n",
        "with open('queries_train.json', 'rt') as f:\n",
        "  queries = json.load(f)"
      ]
    },
    {
      "cell_type": "code",
      "execution_count": null,
      "metadata": {
        "id": "gWimZWCOy3Ei"
      },
      "outputs": [],
      "source": [
        "def average_precision(true_list, predicted_list, k=40):\n",
        "    true_set = frozenset(true_list)\n",
        "    predicted_list = predicted_list[:k]\n",
        "    precisions = []\n",
        "    for i,doc_id in enumerate(predicted_list):        \n",
        "        if doc_id in true_set:\n",
        "            prec = (len(precisions)+1) / (i+1)            \n",
        "            precisions.append(prec)\n",
        "    if len(precisions) == 0:\n",
        "        return 0.0\n",
        "    return round(sum(precisions)/len(precisions),3)"
      ]
    },
    {
      "cell_type": "code",
      "execution_count": null,
      "metadata": {
        "id": "dYmNTq9u0ChK"
      },
      "outputs": [],
      "source": [
        "import requests\n",
        "from time import time\n",
        "# url = 'http://35.232.59.3:8080'\n",
        "# place the domain you got from ngrok or GCP IP below. \n",
        "url = 'http://cded-35-192-160-143.ngrok.io'\n",
        "\n",
        "qs_res = []\n",
        "for q, true_wids in queries.items():\n",
        "  duration, ap = None, None\n",
        "  t_start = time()\n",
        "  try:\n",
        "    res = requests.get(url + '/search_body', {'query': q}, timeout=35)\n",
        "    duration = time() - t_start\n",
        "    if res.status_code == 200:\n",
        "      pred_wids, _ = zip(*res.json())\n",
        "      ap = average_precision(true_wids, pred_wids)\n",
        "  except:\n",
        "    pass\n",
        "  \n",
        "  qs_res.append((q, duration, ap))\n",
        "print(qs_res)"
      ]
    }
  ],
  "metadata": {
    "colab": {
      "provenance": [],
      "collapsed_sections": [
        "LWL3L3TIgI1S",
        "dURhb5t45FLZ",
        "Na0MC_1nzDbi"
      ]
    },
    "kernelspec": {
      "display_name": "Python 3",
      "name": "python3"
    },
    "language_info": {
      "name": "python"
    }
  },
  "nbformat": 4,
  "nbformat_minor": 0
}