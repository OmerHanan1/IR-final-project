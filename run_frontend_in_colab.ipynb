{
  "cells": [
    {
      "cell_type": "code",
      "execution_count": 1,
      "metadata": {
        "id": "bCPDHP7zTQJZ",
        "colab": {
          "base_uri": "https://localhost:8080/"
        },
        "outputId": "2ed2a96f-e0fe-42ab-957f-e697988418c5"
      },
      "outputs": [
        {
          "output_type": "stream",
          "name": "stderr",
          "text": [
            "[nltk_data] Downloading package stopwords to /root/nltk_data...\n",
            "[nltk_data]   Unzipping corpora/stopwords.zip.\n"
          ]
        },
        {
          "output_type": "execute_result",
          "data": {
            "text/plain": [
              "True"
            ]
          },
          "metadata": {},
          "execution_count": 1
        }
      ],
      "source": [
        "# download nltk stopwords\n",
        "import nltk\n",
        "nltk.download('stopwords')"
      ]
    },
    {
      "cell_type": "code",
      "execution_count": 2,
      "metadata": {
        "id": "lAt6KT8xOgHH",
        "colab": {
          "base_uri": "https://localhost:8080/"
        },
        "outputId": "5dd20bd1-97e5-44b0-d8ad-df5cb745d4c5"
      },
      "outputs": [
        {
          "output_type": "stream",
          "name": "stdout",
          "text": [
            "\u001b[?25l     \u001b[90m━━━━━━━━━━━━━━━━━━━━━━━━━━━━━━━━━━━━━━━━\u001b[0m \u001b[32m0.0/106.6 KB\u001b[0m \u001b[31m?\u001b[0m eta \u001b[36m-:--:--\u001b[0m\r\u001b[2K     \u001b[90m━━━━━━━━━━━━━━━━━━━━━━━━━━━━━━━━━━━━━━━\u001b[0m \u001b[32m106.6/106.6 KB\u001b[0m \u001b[31m5.8 MB/s\u001b[0m eta \u001b[36m0:00:00\u001b[0m\n",
            "\u001b[?25hLooking in indexes: https://pypi.org/simple, https://us-python.pkg.dev/colab-wheels/public/simple/\n",
            "Collecting pyspark\n",
            "  Downloading pyspark-3.3.1.tar.gz (281.4 MB)\n",
            "\u001b[2K     \u001b[90m━━━━━━━━━━━━━━━━━━━━━━━━━━━━━━━━━━━━━━━\u001b[0m \u001b[32m281.4/281.4 MB\u001b[0m \u001b[31m4.5 MB/s\u001b[0m eta \u001b[36m0:00:00\u001b[0m\n",
            "\u001b[?25h  Preparing metadata (setup.py) ... \u001b[?25l\u001b[?25hdone\n",
            "Collecting py4j==0.10.9.5\n",
            "  Downloading py4j-0.10.9.5-py2.py3-none-any.whl (199 kB)\n",
            "\u001b[2K     \u001b[90m━━━━━━━━━━━━━━━━━━━━━━━━━━━━━━━━━━━━━━\u001b[0m \u001b[32m199.7/199.7 KB\u001b[0m \u001b[31m19.6 MB/s\u001b[0m eta \u001b[36m0:00:00\u001b[0m\n",
            "\u001b[?25hBuilding wheels for collected packages: pyspark\n",
            "  Building wheel for pyspark (setup.py) ... \u001b[?25l\u001b[?25hdone\n",
            "  Created wheel for pyspark: filename=pyspark-3.3.1-py2.py3-none-any.whl size=281845512 sha256=60bd799caf619c27e31937882fcc34026f8620dfe211d69f856e0b9f3717d93f\n",
            "  Stored in directory: /root/.cache/pip/wheels/43/dc/11/ec201cd671da62fa9c5cc77078235e40722170ceba231d7598\n",
            "Successfully built pyspark\n",
            "Installing collected packages: py4j, pyspark\n",
            "Successfully installed py4j-0.10.9.5 pyspark-3.3.1\n"
          ]
        }
      ],
      "source": [
        "# Install a particular version of `google-cloud-storage` because (oddly enough) \n",
        "# the  version on Colab and GCP is old. A dependency error below is okay.\n",
        "!pip install -q google-cloud-storage==1.43.0\n",
        "!pip install pyspark"
      ]
    },
    {
      "cell_type": "code",
      "execution_count": 3,
      "metadata": {
        "id": "-oKFly5jFLFn"
      },
      "outputs": [],
      "source": [
        "# authenticate below for Google Storage access as needed\n",
        "from google.colab import auth\n",
        "auth.authenticate_user()"
      ]
    },
    {
      "cell_type": "code",
      "execution_count": 10,
      "metadata": {
        "deletable": false,
        "editable": false,
        "id": "vDuikxFbN9B7",
        "nbgrader": {
          "cell_type": "code",
          "checksum": "862688e2c720977cb14caa4309c593c5",
          "grade": false,
          "grade_id": "cell-e19184d540ed3d67",
          "locked": true,
          "schema_version": 3,
          "solution": false,
          "task": false
        },
        "colab": {
          "base_uri": "https://localhost:8080/"
        },
        "outputId": "ca0ec2a2-d45c-4c5d-f5d0-17252f74e0b2"
      },
      "outputs": [
        {
          "output_type": "stream",
          "name": "stdout",
          "text": [
            "Updated property [core/project].\n"
          ]
        }
      ],
      "source": [
        "# Copy one wikidumps files \n",
        "import os\n",
        "from pathlib import Path\n",
        "\n",
        "project_id = 'assignment3-370517'\n",
        "\n",
        "!gcloud config set project {project_id}\n",
        "\n",
        "bucket_name = 'amit-chen-bucket-1'\n",
        "\n",
        "postings_gcp_text = 'postings_gcp_text'\n",
        "postings_gcp_anchor = 'postings_gcp_anchor'\n",
        "postings_gcp_title = 'postings_gcp_title'\n",
        "page_rank = 'pr'\n",
        "page_view = 'pv'\n",
        "doc_len = 'dl'\n",
        "doc_title = 'dt'\n",
        "\n",
        "# uncoment data you want to upload from bucket \n",
        "\n",
        "!gsutil -m cp -r gs://{bucket_name}/{postings_gcp_text}/ . \n",
        "!gsutil -m cp -r gs://{bucket_name}/{postings_gcp_anchor}/ . \n",
        "!gsutil -m cp -r gs://{bucket_name}/{postings_gcp_title}/ . \n",
        "!gsutil -m cp -r gs://{bucket_name}/{page_rank}/ . \n",
        "!gsutil -m cp -r gs://{bucket_name}/{page_view}/ . \n",
        "!gsutil -m cp -r gs://{bucket_name}/{doc_len}/ . \n",
        "!gsutil -m cp -r gs://{bucket_name}/{doc_title}/ . "
      ]
    },
    {
      "cell_type": "code",
      "execution_count": 5,
      "metadata": {
        "id": "FrBdFNYgiyab",
        "colab": {
          "base_uri": "https://localhost:8080/"
        },
        "outputId": "a104079f-44d6-4fcc-92fa-9dfc1d35500d"
      },
      "outputs": [
        {
          "output_type": "stream",
          "name": "stdout",
          "text": [
            "WARNING: timestamping does nothing in combination with -O. See the manual\n",
            "for details.\n",
            "\n",
            "--2023-01-06 13:14:02--  https://bin.equinox.io/c/4VmDzA7iaHb/ngrok-stable-linux-amd64.zip\n",
            "Resolving bin.equinox.io (bin.equinox.io)... 52.202.168.65, 54.161.241.46, 18.205.222.128, ...\n",
            "Connecting to bin.equinox.io (bin.equinox.io)|52.202.168.65|:443... connected.\n",
            "HTTP request sent, awaiting response... 200 OK\n",
            "Length: 13832437 (13M) [application/octet-stream]\n",
            "Saving to: ‘ngrok-stable-linux-amd64.zip’\n",
            "\n",
            "ngrok-stable-linux- 100%[===================>]  13.19M  19.5MB/s    in 0.7s    \n",
            "\n",
            "2023-01-06 13:14:03 (19.5 MB/s) - ‘ngrok-stable-linux-amd64.zip’ saved [13832437/13832437]\n",
            "\n",
            "Archive:  ngrok-stable-linux-amd64.zip\n",
            "  inflating: ngrok                   \n"
          ]
        }
      ],
      "source": [
        "# install ngrok to emulate public IP / address\n",
        "!wget -N https://bin.equinox.io/c/4VmDzA7iaHb/ngrok-stable-linux-amd64.zip -O ngrok-stable-linux-amd64.zip\n",
        "!unzip -u ngrok-stable-linux-amd64.zip"
      ]
    },
    {
      "cell_type": "code",
      "execution_count": 6,
      "metadata": {
        "id": "xA-_dKEZbsXW",
        "colab": {
          "base_uri": "https://localhost:8080/"
        },
        "outputId": "aae0817c-d69c-467c-f2ae-f3850708a1ae"
      },
      "outputs": [
        {
          "output_type": "stream",
          "name": "stdout",
          "text": [
            "Authtoken saved to configuration file: /root/.ngrok2/ngrok.yml\n"
          ]
        }
      ],
      "source": [
        "# TODO: sign up for an ngrok account\n",
        "# then put your ngrok token below, uncomment, and execute\n",
        "!./ngrok authtoken 2JsDuuUTH9LwAeBbnQqZXkbbdod_5NLnteyuKr4NCqq1Knyok"
      ]
    },
    {
      "cell_type": "code",
      "execution_count": 7,
      "metadata": {
        "id": "nXn5PlyGORQr",
        "colab": {
          "base_uri": "https://localhost:8080/"
        },
        "outputId": "9536676b-16f5-4bba-9f43-846c391bb6fa"
      },
      "outputs": [
        {
          "output_type": "stream",
          "name": "stdout",
          "text": [
            "\u001b[?25l     \u001b[90m━━━━━━━━━━━━━━━━━━━━━━━━━━━━━━━━━━━━━━━━\u001b[0m \u001b[32m0.0/83.0 KB\u001b[0m \u001b[31m?\u001b[0m eta \u001b[36m-:--:--\u001b[0m\r\u001b[2K     \u001b[90m━━━━━━━━━━━━━━━━━━━━━━━━━━━━━━━━━━━━━━━━\u001b[0m \u001b[32m83.0/83.0 KB\u001b[0m \u001b[31m5.3 MB/s\u001b[0m eta \u001b[36m0:00:00\u001b[0m\n",
            "\u001b[?25h"
          ]
        }
      ],
      "source": [
        "# install a ngrok python package and a version of flask that works with it in \n",
        "# colab\n",
        "!pip -q install flask-ngrok\n",
        "!pip -q install flask==0.12.2\n",
        "# !pip -q install flask_restful"
      ]
    },
    {
      "cell_type": "markdown",
      "metadata": {
        "id": "LWL3L3TIgI1S"
      },
      "source": [
        "# Unzip training files\n",
        "upload and run below code:"
      ]
    },
    {
      "cell_type": "code",
      "execution_count": 8,
      "metadata": {
        "id": "gSdrBZ3YgYUI",
        "colab": {
          "base_uri": "https://localhost:8080/"
        },
        "outputId": "91874c9e-273a-4073-ba71-827d3eabbadf"
      },
      "outputs": [
        {
          "output_type": "stream",
          "name": "stdout",
          "text": [
            "Archive:  all_files_for_frontend.zip\n",
            "  inflating: frontend_utils.py       \n",
            "  inflating: inverted_index_gcp.py   \n",
            "  inflating: search_frontend.py      \n",
            "  inflating: templates/banana.html   \n",
            "  inflating: templates/beautiful.html  \n",
            "  inflating: templates/shmoogle.html  \n"
          ]
        }
      ],
      "source": [
        "!unzip all_files_for_frontend.zip"
      ]
    },
    {
      "cell_type": "markdown",
      "source": [
        "# Messing Around 🦖"
      ],
      "metadata": {
        "id": "rOGL4_gg5GK8"
      }
    },
    {
      "cell_type": "code",
      "source": [
        "from flask import Flask, request, jsonify, render_template\n",
        "from nltk.corpus import stopwords\n",
        "import gzip\n",
        "import os\n",
        "import pickle\n",
        "import math\n",
        "import pandas as pd\n",
        "from collections import Counter\n",
        "from inverted_index_gcp import *\n",
        "from frontend_utils import *\n",
        "\n",
        "INDEX_FILE = \"index\"\n",
        "POSTINGS_GCP_TEXT_INDEX_FOLDER_URL = \"postings_gcp_text\"\n",
        "POSTINGS_GCP_ANCHOR_INDEX_FOLDER_URL = \"postings_gcp_anchor\"\n",
        "POSTINGS_GCP_TITLE_INDEX_FOLDER_URL = \"postings_gcp_title\"\n",
        "PAGE_RANK_URL = \"pr_part-00000-8b293cd5-fd79-47e7-a641-3d067da0c2b0-c000.csv.gz\"\n",
        "PAGE_VIEW_URL = \"pv/pageview_pageviews-202108-user.pkl\"\n",
        "DT_PATH = \"dt/dt.pkl\"\n",
        "DL_PATH = \"dl/dl.pkl\"\n",
        "\n",
        "# open files (inverted indexes etc...)\n",
        "inverted_index_body = InvertedIndex.read_index(POSTINGS_GCP_TEXT_INDEX_FOLDER_URL, INDEX_FILE)\n",
        "inverted_index_anchor = InvertedIndex.read_index(POSTINGS_GCP_ANCHOR_INDEX_FOLDER_URL, INDEX_FILE)\n",
        "inverted_index_title = InvertedIndex.read_index(POSTINGS_GCP_TITLE_INDEX_FOLDER_URL, INDEX_FILE)\n",
        "\n",
        "with open(DL_PATH, 'rb') as f:\n",
        "    DL = pickle.load(f)\n",
        "    DL_LEN = len(DL)\n",
        "\n",
        "with open(DT_PATH, 'rb') as f:\n",
        "    DT = pickle.load(f)\n",
        "\n",
        "# with open(PAGE_VIEW_URL, 'rb') as f:\n",
        "#     page_view = pickle.load(f)\n",
        "\n",
        "# with gzip.open(PAGE_RANK_CSV_URL) as f:\n",
        "#     page_rank = pd.read_csv(f, header=None, index_col=0).squeeze(\"columns\").to_dict()\n",
        "#     max_pr_value = max(page_rank.values())\n",
        "#     page_rank = {doc_id: rank/max_pr_value for doc_id, rank in page_rank.items()}\n",
        "\n",
        "\n",
        "def search(query):\n",
        "    ''' Returns up to a 100 of your best search results for the query. This is \n",
        "        the place to put forward your best search engine, and you are free to\n",
        "        implement the retrieval whoever you'd like within the bound of the \n",
        "        project requirements (efficiency, quality, etc.). That means it is up to\n",
        "        you to decide on whether to use stemming, remove stopwords, use \n",
        "        PageRank, query expansion, etc.\n",
        "\n",
        "        To issue a query navigate to a URL like:\n",
        "         http://YOUR_SERVER_DOMAIN/search?query=hello+world\n",
        "        where YOUR_SERVER_DOMAIN is something like XXXX-XX-XX-XX-XX.ngrok.io\n",
        "        if you're using ngrok on Colab or your external IP on GCP.\n",
        "    Returns:\n",
        "    --------\n",
        "        list of up to 100 search results, ordered from best to worst where each \n",
        "        element is a tuple (wiki_id, title).\n",
        "    '''\n",
        "    res = []\n",
        "    query = request.args.get('query', '')\n",
        "    if len(query) == 0:\n",
        "      return jsonify(res)\n",
        "    # BEGIN SOLUTION\n",
        "    res.append(\"AMIR\")\n",
        "    # END SOLUTION\n",
        "    return res\n",
        "\n",
        "def search_body(query):\n",
        "    ''' Returns up to a 100 search results for the query using TFIDF AND COSINE\n",
        "        SIMILARITY OF THE BODY OF ARTICLES ONLY. DO NOT use stemming. DO USE the \n",
        "        staff-provided tokenizer from Assignment 3 (GCP part) to do the \n",
        "        tokenization and remove stopwords. \n",
        "\n",
        "        To issue a query navigate to a URL like:\n",
        "         http://YOUR_SERVER_DOMAIN/search_body?query=hello+world\n",
        "        where YOUR_SERVER_DOMAIN is something like XXXX-XX-XX-XX-XX.ngrok.io\n",
        "        if you're using ngrok on Colab or your external IP on GCP.\n",
        "    Returns:\n",
        "    --------\n",
        "        list of up to 100 search results, ordered from best to worst where each \n",
        "        element is a tuple (wiki_id, title).\n",
        "    '''\n",
        "    res = []\n",
        "    if len(query) == 0:\n",
        "      return res\n",
        "\n",
        "    # tokenizing the query\n",
        "    tokens = tokenize(query)\n",
        "\n",
        "    # get tf of each token in query\n",
        "    query_tf = Counter(tokens)\n",
        "\n",
        "    numerator = Counter()\n",
        "    docs_denominator = Counter()\n",
        "    query_denominator = 0\n",
        "    query_len = len(tokens)\n",
        "\n",
        "    for token in tokens:\n",
        "        weight_token_query = query_tf[token]/query_len\n",
        "        query_denominator += math.pow(weight_token_query,2)\n",
        "\n",
        "        # loading posting list with (word, (doc_id, tf))\n",
        "        posting_list = inverted_index_body.read_posting_list(token, POSTINGS_GCP_TEXT_INDEX_FOLDER_URL)\n",
        "        \n",
        "        # calc idf for specific token\n",
        "        token_df = inverted_index_body.df[token]\n",
        "        token_idf = math.log(DL_LEN/token_df,2)\n",
        "\n",
        "        for page_id, word_freq in posting_list:\n",
        "\n",
        "            #normalized tf (by the length of document)\n",
        "            try:\n",
        "                tf = (word_freq/DL[page_id])\n",
        "                weight_word_page = tf*token_idf\n",
        "                numerator[page_id] += weight_word_page*weight_token_query\n",
        "                docs_denominator[page_id] += math.pow(weight_word_page,2)\n",
        "            except:\n",
        "                pass\n",
        "\n",
        "    cosim = Counter()\n",
        "    for page_id in numerator.keys():\n",
        "        cosim[page_id] = numerator[page_id]/(math.sqrt(docs_denominator[page_id]*query_denominator))\n",
        "\n",
        "    cosim = cosim.most_common()\n",
        "    if (len(cosim)>100):\n",
        "      cosim = cosim[:100]\n",
        "    print(cosim)\n",
        "    try :\n",
        "        res = list(map(lambda x: tuple((x[0], DT[x[0]])), cosim))\n",
        "    except:\n",
        "        new_res = []\n",
        "        for item in cosim:\n",
        "            try:\n",
        "                new_res.append(tuple((item[0], DT[item[0]])))\n",
        "            except:\n",
        "                pass\n",
        "        res = new_res    \n",
        "    return res\n",
        "\n",
        "def search_title(query):\n",
        "    ''' Returns ALL (not just top 100) search results that contain A QUERY WORD \n",
        "        IN THE TITLE of articles, ordered in descending order of the NUMBER OF \n",
        "        QUERY WORDS that appear in the title. For example, a document with a \n",
        "        title that matches two of the query words will be ranked before a \n",
        "        document with a title that matches only one query term. \n",
        "\n",
        "        Test this by navigating to the a URL like:\n",
        "         http://YOUR_SERVER_DOMAIN/search_title?query=hello+world\n",
        "        where YOUR_SERVER_DOMAIN is something like XXXX-XX-XX-XX-XX.ngrok.io\n",
        "        if you're using ngrok on Colab or your external IP on GCP.\n",
        "    Returns:\n",
        "    --------\n",
        "        list of ALL (not just top 100) search results, ordered from best to \n",
        "        worst where each element is a tuple (wiki_id, title).\n",
        "    '''\n",
        "    res = []\n",
        "    if len(query) == 0:\n",
        "      return res\n",
        "    # tokenizing the query\n",
        "    tokens = tokenize(query)\n",
        "\n",
        "    # loading posting list with (word, (doc_id, tf))\n",
        "    posting_lists = inverted_index_title.get_posting_lists(tokens, POSTINGS_GCP_TITLE_INDEX_FOLDER_URL)\n",
        "    tf_dict = {}\n",
        "    for posting in posting_lists:\n",
        "        for doc_id, tf in posting:\n",
        "            if doc_id in tf_dict:\n",
        "                tf_dict[doc_id] += 1\n",
        "            else:\n",
        "                tf_dict[doc_id] = 1\n",
        "\n",
        "    list_of_docs = sorted([(doc_id, score) for doc_id, score in tf_dict.items()], key=lambda x: x[1], reverse=True)\n",
        "    print(list_of_docs)\n",
        "    res = [(doc_id, DT[doc_id]) for doc_id, score in list_of_docs]\n",
        "    return res\n",
        "\n",
        "def search_anchor(query):\n",
        "    ''' Returns ALL (not just top 100) search results that contain A QUERY WORD \n",
        "        IN THE ANCHOR TEXT of articles, ordered in descending order of the \n",
        "        NUMBER OF QUERY WORDS that appear in anchor text linking to the page. \n",
        "        For example, a document with a anchor text that matches two of the \n",
        "        query words will be ranked before a document with anchor text that \n",
        "        matches only one query term. \n",
        "\n",
        "        Test this by navigating to the a URL like:\n",
        "         http://YOUR_SERVER_DOMAIN/search_anchor?query=hello+world\n",
        "        where YOUR_SERVER_DOMAIN is something like XXXX-XX-XX-XX-XX.ngrok.io\n",
        "        if you're using ngrok on Colab or your external IP on GCP.\n",
        "    Returns:\n",
        "    --------\n",
        "        list of ALL (not just top 100) search results, ordered from best to \n",
        "        worst where each element is a tuple (wiki_id, title).\n",
        "    '''\n",
        "    res = []\n",
        "    query = request.args.get('query', '')\n",
        "    if len(query) == 0:\n",
        "      return res\n",
        "    # BEGIN SOLUTION\n",
        "    tokens = [token.group() for token in RE_WORD.finditer(query.lower())]\n",
        "    tokens = [t for t in tokens if t not in all_stopwords]\n",
        "\n",
        "    tf_dict = {}\n",
        "    for token in tokens:\n",
        "        added = []\n",
        "        if token not in inverted_index_anchor.df:\n",
        "            continue\n",
        "\n",
        "        # loading posting list with (word, (doc_id_from, doc_id_dest))\n",
        "        posting = read_posting_list(inverted_index_anchor, token, POSTINGS_GCP_ANCHOR_INDEX_FOLDER_URL+\"/\")\n",
        "        for _, doc_id_dest in posting:\n",
        "            if doc_id_dest in tf_dict:\n",
        "                if doc_id_dest not in added:\n",
        "                    tf_dict[doc_id_dest] += 1\n",
        "            else:\n",
        "                added.append(doc_id_dest)\n",
        "                tf_dict[doc_id_dest] = 1\n",
        "\n",
        "    # Sort Documents by number unique of tokens in doc\n",
        "    list_of_dict = sorted([(doc_id, score) for doc_id, score in tf_dict.items()], key=lambda x: x[1], reverse=True)\n",
        "    # END SOLUTION\n",
        "    return list_of_dict\n",
        "\n",
        "def get_pagerank():\n",
        "    ''' Returns PageRank values for a list of provided wiki article IDs. \n",
        "\n",
        "        Test this by issuing a POST request to a URL like:\n",
        "          http://YOUR_SERVER_DOMAIN/get_pagerank\n",
        "        with a json payload of the list of article ids. In python do:\n",
        "          import requests\n",
        "          requests.post('http://YOUR_SERVER_DOMAIN/get_pagerank', json=[1,5,8])\n",
        "        As before YOUR_SERVER_DOMAIN is something like XXXX-XX-XX-XX-XX.ngrok.io\n",
        "        if you're using ngrok on Colab or your external IP on GCP.\n",
        "    Returns:\n",
        "    --------\n",
        "        list of floats:\n",
        "          list of PageRank scores that correrspond to the provided article IDs.\n",
        "    '''\n",
        "    res = []\n",
        "    wiki_ids = request.get_json()\n",
        "    if len(wiki_ids) == 0:\n",
        "      return jsonify(res)\n",
        "    # BEGIN SOLUTION\n",
        "    res = [page_rank[wiki_id] for wiki_id in wiki_ids] \n",
        "    # END SOLUTION\n",
        "    return jsonify(res)\n",
        "\n",
        "def get_pageview():\n",
        "    ''' Returns the number of page views that each of the provide wiki articles\n",
        "        had in August 2021.\n",
        "\n",
        "        Test this by issuing a POST request to a URL like:\n",
        "          http://YOUR_SERVER_DOMAIN/get_pageview\n",
        "        with a json payload of the list of article ids. In python do:\n",
        "          import requests\n",
        "          requests.post('http://YOUR_SERVER_DOMAIN/get_pageview', json=[1,5,8])\n",
        "        As before YOUR_SERVER_DOMAIN is something like XXXX-XX-XX-XX-XX.ngrok.io\n",
        "        if you're using ngrok on Colab or your external IP on GCP.\n",
        "    Returns:\n",
        "    --------\n",
        "        list of ints:\n",
        "          list of page view numbers from August 2021 that correrspond to the \n",
        "          provided list article IDs.\n",
        "    '''\n",
        "    res = []\n",
        "    wiki_ids = request.get_json()\n",
        "    if len(wiki_ids) == 0:\n",
        "      return jsonify(res)\n",
        "    # BEGIN SOLUTION\n",
        "\n",
        "    # END SOLUTION\n",
        "    return jsonify(res)\n"
      ],
      "metadata": {
        "id": "Yrl5Tvx521cE"
      },
      "execution_count": null,
      "outputs": []
    },
    {
      "cell_type": "markdown",
      "source": [
        "# Run Sample Quries\n"
      ],
      "metadata": {
        "id": "WeueNwmN46jo"
      }
    },
    {
      "cell_type": "code",
      "source": [
        "print(search_body(\"best marvel movies\"))"
      ],
      "metadata": {
        "id": "G-TGkfGu31iD"
      },
      "execution_count": null,
      "outputs": []
    },
    {
      "cell_type": "markdown",
      "source": [
        "# Run App"
      ],
      "metadata": {
        "id": "dURhb5t45FLZ"
      }
    },
    {
      "cell_type": "code",
      "execution_count": 11,
      "metadata": {
        "id": "7opNkV6uRHIv"
      },
      "outputs": [],
      "source": [
        "# you need to upload your implementation of search_app.py\n",
        "import search_frontend as se"
      ]
    },
    {
      "cell_type": "code",
      "execution_count": null,
      "metadata": {
        "id": "oTGXXYEXV5l8"
      },
      "outputs": [],
      "source": [
        "# uncomment the code below and execute to reload the module when you make \n",
        "# changes to search_frontend.py (after you upload again).\n",
        "import importlib\n",
        "importlib.reload(se)"
      ]
    },
    {
      "cell_type": "code",
      "source": [
        "from flask_ngrok import run_with_ngrok\n",
        "run_with_ngrok(se.app) \n",
        "se.app.run()"
      ],
      "metadata": {
        "id": "6dpGaX3y2uKU"
      },
      "execution_count": null,
      "outputs": []
    },
    {
      "cell_type": "markdown",
      "metadata": {
        "id": "Na0MC_1nzDbi"
      },
      "source": [
        "# Testing your app\n",
        "\n",
        "Once your app is running you can query it. You can simply do that by navigating to the URL that ngrok gave you above or through code in a different python session. For example, once the frontend app is running, you can navigate to:\n",
        "http://YOUR_SERVER_DOMAIN/search?query=hello+world where YOUR_SERVER_DOMAIN is something like XXXX-XX-XX-XX-XX.ngrok.io, which is printed above in Colab or that is your external IP on GCP.\n",
        "\n",
        "The code below shows how to issue a query from python. This is also how our testing code will issue queries to your search engine, so make sure to test your search engine this way after you deploy it to GCP and before submission. Command line instructions for deploying your search engine to GCP are available at `run_frontend_in_gcp.sh`. Note that we will not only issue training queries to your search engine, but also test queries, i.e. queries that you've never seen before."
      ]
    },
    {
      "cell_type": "code",
      "execution_count": null,
      "metadata": {
        "id": "EM5ePrRHojbG"
      },
      "outputs": [],
      "source": [
        "import json\n",
        "\n",
        "with open('queries_train.json', 'rt') as f:\n",
        "  queries = json.load(f)"
      ]
    },
    {
      "cell_type": "code",
      "execution_count": null,
      "metadata": {
        "id": "gWimZWCOy3Ei"
      },
      "outputs": [],
      "source": [
        "def average_precision(true_list, predicted_list, k=40):\n",
        "    true_set = frozenset(true_list)\n",
        "    predicted_list = predicted_list[:k]\n",
        "    precisions = []\n",
        "    for i,doc_id in enumerate(predicted_list):        \n",
        "        if doc_id in true_set:\n",
        "            prec = (len(precisions)+1) / (i+1)            \n",
        "            precisions.append(prec)\n",
        "    if len(precisions) == 0:\n",
        "        return 0.0\n",
        "    return round(sum(precisions)/len(precisions),3)"
      ]
    },
    {
      "cell_type": "code",
      "execution_count": null,
      "metadata": {
        "id": "dYmNTq9u0ChK"
      },
      "outputs": [],
      "source": [
        "import requests\n",
        "from time import time\n",
        "# url = 'http://35.232.59.3:8080'\n",
        "# place the domain you got from ngrok or GCP IP below. \n",
        "url = 'http://XXXX-XX-XX-XX-XX.ngrok.io'\n",
        "\n",
        "qs_res = []\n",
        "for q, true_wids in queries.items():\n",
        "  duration, ap = None, None\n",
        "  t_start = time()\n",
        "  try:\n",
        "    res = requests.get(url + '/search', {'query': q}, timeout=35)\n",
        "    duration = time() - t_start\n",
        "    if res.status_code == 200:\n",
        "      pred_wids, _ = zip(*res.json())\n",
        "      ap = average_precision(true_wids, pred_wids)\n",
        "  except:\n",
        "    pass\n",
        "  \n",
        "  qs_res.append((q, duration, ap))"
      ]
    }
  ],
  "metadata": {
    "colab": {
      "provenance": []
    },
    "kernelspec": {
      "display_name": "Python 3",
      "name": "python3"
    },
    "language_info": {
      "name": "python"
    }
  },
  "nbformat": 4,
  "nbformat_minor": 0
}