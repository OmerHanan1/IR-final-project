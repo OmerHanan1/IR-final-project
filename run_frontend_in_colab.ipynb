{
  "cells": [
    {
      "cell_type": "code",
      "execution_count": null,
      "metadata": {
        "id": "bCPDHP7zTQJZ"
      },
      "outputs": [],
      "source": [
        "# download nltk stopwords\n",
        "import nltk\n",
        "nltk.download('stopwords')"
      ]
    },
    {
      "cell_type": "code",
      "execution_count": null,
      "metadata": {
        "id": "lAt6KT8xOgHH"
      },
      "outputs": [],
      "source": [
        "# Install a particular version of `google-cloud-storage` because (oddly enough) \n",
        "# the  version on Colab and GCP is old. A dependency error below is okay.\n",
        "!pip install -q google-cloud-storage==1.43.0\n",
        "!pip install pyspark"
      ]
    },
    {
      "cell_type": "code",
      "execution_count": null,
      "metadata": {
        "id": "-oKFly5jFLFn"
      },
      "outputs": [],
      "source": [
        "# authenticate below for Google Storage access as needed\n",
        "from google.colab import auth\n",
        "auth.authenticate_user()"
      ]
    },
    {
      "cell_type": "code",
      "execution_count": null,
      "metadata": {
        "id": "vDuikxFbN9B7"
      },
      "outputs": [],
      "source": [
        "# Copy one wikidumps files \n",
        "import os\n",
        "from pathlib import Path\n",
        "\n",
        "project_id = 'assignment3-370517'\n",
        "\n",
        "!gcloud config set project {project_id}\n",
        "\n",
        "bucket_name = 'amit-chen-bucket-1'\n",
        "\n",
        "postings_gcp_text = 'postings_gcp_text'\n",
        "postings_gcp_anchor = 'postings_gcp_anchor'\n",
        "postings_gcp_title = 'postings_gcp_title'\n",
        "page_view = 'pv'\n",
        "page_rank = 'pr'\n",
        "doc_len = 'dl'\n",
        "doc_title = 'dt'\n",
        "nf_body = 'nf'\n",
        "\n",
        "# uncoment data you want to upload from bucket \n",
        "\n",
        "!gsutil -m cp -r gs://{bucket_name}/{postings_gcp_text}/ . \n",
        "!gsutil -m cp -r gs://{bucket_name}/{postings_gcp_anchor}/ . \n",
        "!gsutil -m cp -r gs://{bucket_name}/{postings_gcp_title}/ . \n",
        "!gsutil -m cp -r gs://{bucket_name}/{page_rank}/ . \n",
        "!gsutil -m cp -r gs://{bucket_name}/{page_view}/ . \n",
        "!gsutil -m cp -r gs://{bucket_name}/{nf_body}/ . \n",
        "!gsutil -m cp -r gs://{bucket_name}/{doc_len}/ . \n",
        "!gsutil -m cp -r gs://{bucket_name}/{doc_title}/ . "
      ]
    },
    {
      "cell_type": "code",
      "execution_count": null,
      "metadata": {
        "id": "FrBdFNYgiyab"
      },
      "outputs": [],
      "source": [
        "# install ngrok to emulate public IP / address\n",
        "!wget -N https://bin.equinox.io/c/4VmDzA7iaHb/ngrok-stable-linux-amd64.zip -O ngrok-stable-linux-amd64.zip\n",
        "!unzip -u ngrok-stable-linux-amd64.zip"
      ]
    },
    {
      "cell_type": "code",
      "execution_count": null,
      "metadata": {
        "id": "xA-_dKEZbsXW"
      },
      "outputs": [],
      "source": [
        "# TODO: sign up for an ngrok account\n",
        "# then put your ngrok token below, uncomment, and execute\n",
        "!./ngrok authtoken 2JsDuuUTH9LwAeBbnQqZXkbbdod_5NLnteyuKr4NCqq1Knyok"
      ]
    },
    {
      "cell_type": "code",
      "execution_count": null,
      "metadata": {
        "id": "nXn5PlyGORQr"
      },
      "outputs": [],
      "source": [
        "# install a ngrok python package and a version of flask that works with it in \n",
        "# colab\n",
        "!pip -q install flask-ngrok\n",
        "!pip -q install flask==0.12.2\n",
        "# !pip -q install flask_restful"
      ]
    },
    {
      "cell_type": "markdown",
      "metadata": {
        "id": "LWL3L3TIgI1S"
      },
      "source": [
        "# Unzip training files\n",
        "upload and run below code:"
      ]
    },
    {
      "cell_type": "code",
      "execution_count": null,
      "metadata": {
        "id": "gSdrBZ3YgYUI"
      },
      "outputs": [],
      "source": [
        "!unzip all_files_for_frontend.zip"
      ]
    },
    {
      "cell_type": "markdown",
      "metadata": {
        "id": "rOGL4_gg5GK8"
      },
      "source": [
        "# Messing Around 🦖"
      ]
    },
    {
      "cell_type": "code",
      "execution_count": null,
      "metadata": {
        "id": "Yrl5Tvx521cE"
      },
      "outputs": [],
      "source": [
        "from flask import Flask, request, jsonify, render_template\n",
        "import gzip\n",
        "import os\n",
        "import pickle\n",
        "import math\n",
        "import pandas as pd\n",
        "from collections import Counter\n",
        "from inverted_index_gcp import *\n",
        "from frontend_utils import *\n",
        "\n",
        "INDEX_FILE = \"index\"\n",
        "POSTINGS_GCP_TEXT_INDEX_FOLDER_URL = \"postings_gcp_text\"\n",
        "POSTINGS_GCP_ANCHOR_INDEX_FOLDER_URL = \"postings_gcp_anchor\"\n",
        "POSTINGS_GCP_TITLE_INDEX_FOLDER_URL = \"postings_gcp_title\"\n",
        "PAGE_RANK_URL = \"pr/pr_part-00000-8b293cd5-fd79-47e7-a641-3d067da0c2b0-c000.csv.gz\"\n",
        "PAGE_VIEW_URL = \"pv/pageview_pageviews-202108-user.pkl\"\n",
        "DT_PATH = \"dt/dt.pkl\"\n",
        "DL_PATH = \"dl/dl.pkl\"\n",
        "NF_PATH = \"nf/nf.pkl\"\n",
        "\n",
        "\n",
        "# open files (inverted indexes etc...)\n",
        "inverted_index_body = InvertedIndex.read_index(POSTINGS_GCP_TEXT_INDEX_FOLDER_URL, INDEX_FILE)\n",
        "inverted_index_anchor = InvertedIndex.read_index(POSTINGS_GCP_ANCHOR_INDEX_FOLDER_URL, INDEX_FILE)\n",
        "inverted_index_title = InvertedIndex.read_index(POSTINGS_GCP_TITLE_INDEX_FOLDER_URL, INDEX_FILE)\n",
        "\n",
        "with open(DL_PATH, 'rb') as f:\n",
        "    DL = pickle.load(f)\n",
        "    DL_LEN = len(DL)\n",
        "\n",
        "with open(DT_PATH, 'rb') as f:\n",
        "    DT = pickle.load(f)\n",
        "\n",
        "with open(NF_PATH, 'rb') as f:\n",
        "    NF = pickle.load(f)\n",
        "\n",
        "# with open(PAGE_VIEW_URL, 'rb') as f:\n",
        "#     page_view = pickle.load(f)\n",
        "\n",
        "# with gzip.open(PAGE_RANK_URL) as f:\n",
        "#     page_rank = pd.read_csv(f, header=None, index_col=0).squeeze(\"columns\").to_dict()\n",
        "#     max_pr_value = max(page_rank.values())\n",
        "#     page_rank = {doc_id: rank/max_pr_value for doc_id, rank in page_rank.items()}\n",
        "\n",
        "\n",
        "def search(query):\n",
        "    ''' Returns up to a 100 of your best search results for the query. This is \n",
        "        the place to put forward your best search engine, and you are free to\n",
        "        implement the retrieval whoever you'd like within the bound of the \n",
        "        project requirements (efficiency, quality, etc.). That means it is up to\n",
        "        you to decide on whether to use stemming, remove stopwords, use \n",
        "        PageRank, query expansion, etc.\n",
        "\n",
        "        To issue a query navigate to a URL like:\n",
        "         http://YOUR_SERVER_DOMAIN/search?query=hello+world\n",
        "        where YOUR_SERVER_DOMAIN is something like XXXX-XX-XX-XX-XX.ngrok.io\n",
        "        if you're using ngrok on Colab or your external IP on GCP.\n",
        "    Returns:\n",
        "    --------\n",
        "        list of up to 100 search results, ordered from best to worst where each \n",
        "        element is a tuple (wiki_id, title).\n",
        "    '''\n",
        "    res = []\n",
        "    query = request.args.get('query', '')\n",
        "    if len(query) == 0:\n",
        "      return jsonify(res)\n",
        "    # BEGIN SOLUTION\n",
        "    res.append(\"AMIR\")\n",
        "    # END SOLUTION\n",
        "    return res\n",
        "\n",
        "def search_body(query):\n",
        "    res = []\n",
        "    if len(query) == 0:\n",
        "      return res\n",
        "\n",
        "    # tokenizing the query\n",
        "    tokens = tokenize(query)\n",
        "\n",
        "    # get tf of each token in query\n",
        "    query_tf = Counter(tokens)\n",
        "\n",
        "    numerator = Counter()\n",
        "    query_denominator = 0\n",
        "    weight_token_query = 0\n",
        "\n",
        "    query_len = len(tokens)\n",
        "    for token in tokens:\n",
        "\n",
        "        # calc idf for specific token\n",
        "        try:\n",
        "          token_df = inverted_index_body.df[token]\n",
        "        except:\n",
        "            continue\n",
        "        token_idf = math.log(DL_LEN/token_df,2)\n",
        "\n",
        "        # calc query_token_tf\n",
        "        tf_of_query_token = query_tf[token]/query_len\n",
        "        weight_token_query = tf_of_query_token*token_idf\n",
        "        query_denominator += math.pow(weight_token_query ,2) # New line\n",
        "\n",
        "        # loading posting list with (word, (doc_id, tf))\n",
        "        posting_list = inverted_index_body.read_posting_list(token, POSTINGS_GCP_TEXT_INDEX_FOLDER_URL)\n",
        "        for page_id, word_freq in posting_list:\n",
        "            #normalized tf (by the length of document)\n",
        "            try:\n",
        "                tf = (word_freq/DL[page_id])\n",
        "                weight_word_page = tf*token_idf\n",
        "                numerator[page_id] += weight_word_page*weight_token_query\n",
        "            except:\n",
        "                pass\n",
        "\n",
        "    cosim = Counter()\n",
        "    for page_id in numerator.keys():\n",
        "      cosim[page_id] = numerator[page_id]/((math.sqrt(query_denominator)*NF[page_id]))\n",
        "    best = cosim.most_common()\n",
        "    for i in best:\n",
        "      if i[0] == 60283633:\n",
        "        print(i)\n",
        "    if (len(best)>100):\n",
        "      best = best[:100]\n",
        "    print(best)\n",
        "    try :\n",
        "        res = list(map(lambda x: tuple((x[0], DT[x[0]])), best))\n",
        "    except:\n",
        "        new_res = []\n",
        "        for item in best:\n",
        "            try:\n",
        "                new_res.append(tuple((item[0], DT[item[0]])))\n",
        "            except:\n",
        "                pass\n",
        "        res = new_res    \n",
        "    return res\n",
        "\n",
        "\n",
        "def search_title(query):\n",
        "    res = []\n",
        "    if len(query) == 0:\n",
        "      return res\n",
        "    # tokenizing the query\n",
        "    tokens = tokenize(query)\n",
        "\n",
        "    # loading posting list with (word, (doc_id, tf))\n",
        "    posting_lists = inverted_index_title.get_posting_lists(tokens, POSTINGS_GCP_TITLE_INDEX_FOLDER_URL)\n",
        "\n",
        "    tf_dict = {}\n",
        "    for posting in posting_lists:\n",
        "        for doc_id, tf in posting:\n",
        "            if doc_id in tf_dict:\n",
        "                tf_dict[doc_id] += 1\n",
        "            else:\n",
        "                tf_dict[doc_id] = 1\n",
        "\n",
        "    list_of_docs = sorted([(doc_id, score) for doc_id, score in tf_dict.items()], key=lambda x: x[1], reverse=True)\n",
        "    print(list_of_docs)\n",
        "    res = [(doc_id, DT[doc_id]) for doc_id, score in list_of_docs]\n",
        "    return res\n",
        "\n",
        "\n",
        "def search_anchor(query):\n",
        "    res = []\n",
        "    if len(query) == 0:\n",
        "      return res\n",
        "    # tokenizing the query\n",
        "    tokens = tokenize(query)\n",
        "\n",
        "    # loading posting list with (word, (doc_id, tf))\n",
        "    posting_lists = inverted_index_anchor.get_posting_lists(tokens, POSTINGS_GCP_ANCHOR_INDEX_FOLDER_URL)\n",
        "    \n",
        "    tf_dict = {}\n",
        "    for posting in posting_lists:\n",
        "        for doc_id, tf in posting:\n",
        "            if doc_id in tf_dict:\n",
        "                tf_dict[doc_id] += 1\n",
        "            else:\n",
        "                tf_dict[doc_id] = 1\n",
        "\n",
        "    list_of_docs = sorted([(doc_id, score) for doc_id, score in tf_dict.items()], key=lambda x: x[1], reverse=True)\n",
        "    print(list_of_docs)\n",
        "    res = [(doc_id, DT[doc_id]) for doc_id, score in list_of_docs]\n",
        "    return res\n",
        "\n",
        "\n",
        "def get_pagerank():\n",
        "    res = []\n",
        "    wiki_ids = request.get_json()\n",
        "    if len(wiki_ids) == 0:\n",
        "      return jsonify(res)\n",
        "    # BEGIN SOLUTION\n",
        "    res = [page_rank[wiki_id] for wiki_id in wiki_ids] \n",
        "    # END SOLUTION\n",
        "    return jsonify(res)\n",
        "\n",
        "\n",
        "def get_pageview():\n",
        "    res = []\n",
        "    wiki_ids = request.get_json()\n",
        "    if len(wiki_ids) == 0:\n",
        "      return jsonify(res)\n",
        "    # BEGIN SOLUTION\n",
        "\n",
        "    # END SOLUTION\n",
        "    return jsonify(res)\n"
      ]
    },
    {
      "cell_type": "markdown",
      "metadata": {
        "id": "WeueNwmN46jo"
      },
      "source": [
        "# Run Quries\n"
      ]
    },
    {
      "cell_type": "code",
      "execution_count": null,
      "metadata": {
        "id": "G-TGkfGu31iD"
      },
      "outputs": [],
      "source": [
        "print(search_body(\"apple computer\"))\n",
        "print()\n",
        "print(search_body(\"israel\"))"
      ]
    },
    {
      "cell_type": "markdown",
      "metadata": {
        "id": "dURhb5t45FLZ"
      },
      "source": [
        "# Run App"
      ]
    },
    {
      "cell_type": "code",
      "execution_count": null,
      "metadata": {
        "id": "7opNkV6uRHIv"
      },
      "outputs": [],
      "source": [
        "# you need to upload your implementation of search_app.py\n",
        "import search_frontend as se"
      ]
    },
    {
      "cell_type": "code",
      "execution_count": null,
      "metadata": {
        "id": "oTGXXYEXV5l8"
      },
      "outputs": [],
      "source": [
        "# uncomment the code below and execute to reload the module when you make \n",
        "# changes to search_frontend.py (after you upload again).\n",
        "import importlib\n",
        "importlib.reload(se)"
      ]
    },
    {
      "cell_type": "code",
      "execution_count": null,
      "metadata": {
        "id": "6dpGaX3y2uKU"
      },
      "outputs": [],
      "source": [
        "from flask_ngrok import run_with_ngrok\n",
        "run_with_ngrok(se.app) \n",
        "se.app.run()"
      ]
    },
    {
      "cell_type": "markdown",
      "metadata": {
        "id": "Na0MC_1nzDbi"
      },
      "source": [
        "# Testing your app\n",
        "\n",
        "Once your app is running you can query it. You can simply do that by navigating to the URL that ngrok gave you above or through code in a different python session. For example, once the frontend app is running, you can navigate to:\n",
        "http://YOUR_SERVER_DOMAIN/search?query=hello+world where YOUR_SERVER_DOMAIN is something like XXXX-XX-XX-XX-XX.ngrok.io, which is printed above in Colab or that is your external IP on GCP.\n",
        "\n",
        "The code below shows how to issue a query from python. This is also how our testing code will issue queries to your search engine, so make sure to test your search engine this way after you deploy it to GCP and before submission. Command line instructions for deploying your search engine to GCP are available at `run_frontend_in_gcp.sh`. Note that we will not only issue training queries to your search engine, but also test queries, i.e. queries that you've never seen before."
      ]
    },
    {
      "cell_type": "code",
      "execution_count": null,
      "metadata": {
        "id": "EM5ePrRHojbG"
      },
      "outputs": [],
      "source": [
        "import json\n",
        "\n",
        "with open('queries_train.json', 'rt') as f:\n",
        "  queries = json.load(f)"
      ]
    },
    {
      "cell_type": "code",
      "execution_count": null,
      "metadata": {
        "id": "gWimZWCOy3Ei"
      },
      "outputs": [],
      "source": [
        "def average_precision(true_list, predicted_list, k=40):\n",
        "    true_set = frozenset(true_list)\n",
        "    predicted_list = predicted_list[:k]\n",
        "    precisions = []\n",
        "    for i,doc_id in enumerate(predicted_list):        \n",
        "        if doc_id in true_set:\n",
        "            prec = (len(precisions)+1) / (i+1)            \n",
        "            precisions.append(prec)\n",
        "    if len(precisions) == 0:\n",
        "        return 0.0\n",
        "    return round(sum(precisions)/len(precisions),3)"
      ]
    },
    {
      "cell_type": "code",
      "execution_count": null,
      "metadata": {
        "id": "dYmNTq9u0ChK"
      },
      "outputs": [],
      "source": [
        "import requests\n",
        "from time import time\n",
        "# url = 'http://35.232.59.3:8080'\n",
        "# place the domain you got from ngrok or GCP IP below. \n",
        "url = 'http://XXXX-XX-XX-XX-XX.ngrok.io'\n",
        "\n",
        "qs_res = []\n",
        "for q, true_wids in queries.items():\n",
        "  duration, ap = None, None\n",
        "  t_start = time()\n",
        "  try:\n",
        "    res = requests.get(url + '/search', {'query': q}, timeout=35)\n",
        "    duration = time() - t_start\n",
        "    if res.status_code == 200:\n",
        "      pred_wids, _ = zip(*res.json())\n",
        "      ap = average_precision(true_wids, pred_wids)\n",
        "  except:\n",
        "    pass\n",
        "  \n",
        "  qs_res.append((q, duration, ap))"
      ]
    }
  ],
  "metadata": {
    "colab": {
      "provenance": []
    },
    "kernelspec": {
      "display_name": "Python 3",
      "name": "python3"
    },
    "language_info": {
      "name": "python"
    }
  },
  "nbformat": 4,
  "nbformat_minor": 0
}