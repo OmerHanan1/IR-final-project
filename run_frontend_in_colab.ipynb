{
  "cells": [
    {
      "cell_type": "code",
      "execution_count": null,
      "metadata": {
        "id": "bCPDHP7zTQJZ"
      },
      "outputs": [],
      "source": [
        "# download nltk stopwords\n",
        "import nltk\n",
        "nltk.download('stopwords')"
      ]
    },
    {
      "cell_type": "code",
      "execution_count": null,
      "metadata": {
        "id": "lAt6KT8xOgHH"
      },
      "outputs": [],
      "source": [
        "# Install a particular version of `google-cloud-storage` because (oddly enough) \n",
        "# the  version on Colab and GCP is old. A dependency error below is okay.\n",
        "!pip install -q google-cloud-storage==1.43.0\n",
        "!pip install pyspark"
      ]
    },
    {
      "cell_type": "code",
      "execution_count": 3,
      "metadata": {
        "id": "-oKFly5jFLFn"
      },
      "outputs": [],
      "source": [
        "# authenticate below for Google Storage access as needed\n",
        "from google.colab import auth\n",
        "auth.authenticate_user()"
      ]
    },
    {
      "cell_type": "code",
      "execution_count": null,
      "metadata": {
        "deletable": false,
        "editable": false,
        "id": "vDuikxFbN9B7",
        "nbgrader": {
          "cell_type": "code",
          "checksum": "862688e2c720977cb14caa4309c593c5",
          "grade": false,
          "grade_id": "cell-e19184d540ed3d67",
          "locked": true,
          "schema_version": 3,
          "solution": false,
          "task": false
        }
      },
      "outputs": [],
      "source": [
        "# Copy one wikidumps files \n",
        "import os\n",
        "from pathlib import Path\n",
        "\n",
        "project_id = 'assignment3-370517'\n",
        "\n",
        "!gcloud config set project {project_id}\n",
        "\n",
        "bucket_name = 'amit-chen-bucket-1'\n",
        "\n",
        "postings_gcp_text = 'postings_gcp_text'\n",
        "postings_gcp_anchor = 'postings_gcp_anchor'\n",
        "postings_gcp_title = 'postings_gcp_title'\n",
        "page_rank = 'pr'\n",
        "doc_len = 'dl'\n",
        "doc_title = 'dt'\n",
        "\n",
        "# uncoment data you want to upload from bucket \n",
        "\n",
        "!gsutil -m cp -r gs://{bucket_name}/{postings_gcp_text}/ . \n",
        "!gsutil -m cp -r gs://{bucket_name}/{postings_gcp_anchor}/ . \n",
        "!gsutil -m cp -r gs://{bucket_name}/{postings_gcp_title}/ . \n",
        "!gsutil -m cp -r gs://{bucket_name}/{page_rank}/ . \n",
        "!gsutil -m cp -r gs://{bucket_name}/{doc_len}/ . \n",
        "!gsutil -m cp -r gs://{bucket_name}/{doc_title}/ . "
      ]
    },
    {
      "cell_type": "code",
      "execution_count": null,
      "metadata": {
        "id": "FrBdFNYgiyab"
      },
      "outputs": [],
      "source": [
        "# install ngrok to emulate public IP / address\n",
        "!wget -N https://bin.equinox.io/c/4VmDzA7iaHb/ngrok-stable-linux-amd64.zip -O ngrok-stable-linux-amd64.zip\n",
        "!unzip -u ngrok-stable-linux-amd64.zip"
      ]
    },
    {
      "cell_type": "code",
      "execution_count": 6,
      "metadata": {
        "colab": {
          "base_uri": "https://localhost:8080/"
        },
        "id": "xA-_dKEZbsXW",
        "outputId": "1eea47de-175a-43ee-a2f0-8a3690774af4"
      },
      "outputs": [
        {
          "output_type": "stream",
          "name": "stdout",
          "text": [
            "Authtoken saved to configuration file: /root/.ngrok2/ngrok.yml\n"
          ]
        }
      ],
      "source": [
        "# TODO: sign up for an ngrok account\n",
        "# then put your ngrok token below, uncomment, and execute\n",
        "!./ngrok authtoken 2JsDuuUTH9LwAeBbnQqZXkbbdod_5NLnteyuKr4NCqq1Knyok"
      ]
    },
    {
      "cell_type": "code",
      "execution_count": 7,
      "metadata": {
        "id": "nXn5PlyGORQr",
        "colab": {
          "base_uri": "https://localhost:8080/"
        },
        "outputId": "30729dac-b39c-4a0b-84ac-6aab865307a4"
      },
      "outputs": [
        {
          "output_type": "stream",
          "name": "stdout",
          "text": [
            "\u001b[?25l     \u001b[90m━━━━━━━━━━━━━━━━━━━━━━━━━━━━━━━━━━━━━━━━\u001b[0m \u001b[32m0.0/83.0 KB\u001b[0m \u001b[31m?\u001b[0m eta \u001b[36m-:--:--\u001b[0m\r\u001b[2K     \u001b[90m━━━━━━━━━━━━━━━━━━━━━━━━━━━━━━━━━━━━━━━━\u001b[0m \u001b[32m83.0/83.0 KB\u001b[0m \u001b[31m2.8 MB/s\u001b[0m eta \u001b[36m0:00:00\u001b[0m\n",
            "\u001b[?25h"
          ]
        }
      ],
      "source": [
        "# install a ngrok python package and a version of flask that works with it in \n",
        "# colab\n",
        "!pip -q install flask-ngrok\n",
        "!pip -q install flask==0.12.2\n",
        "# !pip -q install flask_restful"
      ]
    },
    {
      "cell_type": "markdown",
      "metadata": {
        "id": "LWL3L3TIgI1S"
      },
      "source": [
        "# Unzip training files\n",
        "upload and run below code:"
      ]
    },
    {
      "cell_type": "code",
      "execution_count": null,
      "metadata": {
        "id": "gSdrBZ3YgYUI"
      },
      "outputs": [],
      "source": [
        "!unzip all_files_for_frontend.zip"
      ]
    },
    {
      "cell_type": "markdown",
      "source": [
        "# Messing Around 🦖"
      ],
      "metadata": {
        "id": "rOGL4_gg5GK8"
      }
    },
    {
      "cell_type": "code",
      "source": [
        "from flask import Flask, request, jsonify, render_template\n",
        "from nltk.corpus import stopwords\n",
        "import gzip\n",
        "import os\n",
        "import pickle\n",
        "import pandas as pd\n",
        "from inverted_index_gcp import *\n",
        "from frontend_utils import *\n",
        "\n",
        "INDEX_FILE = \"index\"\n",
        "POSTINGS_GCP_TEXT_INDEX_FOLDER_URL = \"postings_gcp_text\"\n",
        "POSTINGS_GCP_ANCHOR_INDEX_FOLDER_URL = \"postings_gcp_anchor\"\n",
        "POSTINGS_GCP_TITLE_INDEX_FOLDER_URL = \"postings_gcp_title\"\n",
        "PAGE_RANK_CSV_URL = \"pr_part-00000-8b293cd5-fd79-47e7-a641-3d067da0c2b0-c000.csv.gz\"\n",
        "DT_PATH = \"dt/dt.pkl\"\n",
        "\n",
        "\n",
        "# open files (inverted indexes etc...)\n",
        "inverted_index_body = InvertedIndex.read_index(POSTINGS_GCP_TEXT_INDEX_FOLDER_URL, INDEX_FILE)\n",
        "inverted_index_anchor = InvertedIndex.read_index(POSTINGS_GCP_ANCHOR_INDEX_FOLDER_URL, INDEX_FILE)\n",
        "inverted_index_title = InvertedIndex.read_index(POSTINGS_GCP_TITLE_INDEX_FOLDER_URL, INDEX_FILE)\n",
        "\n",
        "with open(DT_PATH, 'rb') as f:\n",
        "    DT = pickle.load(f)\n",
        "\n",
        "# with gzip.open(PAGE_RANK_CSV_URL) as f:\n",
        "#     page_rank = pd.read_csv(f, header=None, index_col=0).squeeze(\"columns\").to_dict()\n",
        "#     max_pr_value = max(page_rank.values())\n",
        "#     page_rank = {doc_id: rank/max_pr_value for doc_id, rank in page_rank.items()}\n",
        "\n",
        "\n",
        "def search(query):\n",
        "    ''' Returns up to a 100 of your best search results for the query. This is \n",
        "        the place to put forward your best search engine, and you are free to\n",
        "        implement the retrieval whoever you'd like within the bound of the \n",
        "        project requirements (efficiency, quality, etc.). That means it is up to\n",
        "        you to decide on whether to use stemming, remove stopwords, use \n",
        "        PageRank, query expansion, etc.\n",
        "\n",
        "        To issue a query navigate to a URL like:\n",
        "         http://YOUR_SERVER_DOMAIN/search?query=hello+world\n",
        "        where YOUR_SERVER_DOMAIN is something like XXXX-XX-XX-XX-XX.ngrok.io\n",
        "        if you're using ngrok on Colab or your external IP on GCP.\n",
        "    Returns:\n",
        "    --------\n",
        "        list of up to 100 search results, ordered from best to worst where each \n",
        "        element is a tuple (wiki_id, title).\n",
        "    '''\n",
        "    res = []\n",
        "    query = request.args.get('query', '')\n",
        "    if len(query) == 0:\n",
        "      return jsonify(res)\n",
        "    # BEGIN SOLUTION\n",
        "    res.append(\"AMIR\")\n",
        "    # END SOLUTION\n",
        "    return res\n",
        "\n",
        "def search_body(query):\n",
        "    ''' Returns up to a 100 search results for the query using TFIDF AND COSINE\n",
        "        SIMILARITY OF THE BODY OF ARTICLES ONLY. DO NOT use stemming. DO USE the \n",
        "        staff-provided tokenizer from Assignment 3 (GCP part) to do the \n",
        "        tokenization and remove stopwords. \n",
        "\n",
        "        To issue a query navigate to a URL like:\n",
        "         http://YOUR_SERVER_DOMAIN/search_body?query=hello+world\n",
        "        where YOUR_SERVER_DOMAIN is something like XXXX-XX-XX-XX-XX.ngrok.io\n",
        "        if you're using ngrok on Colab or your external IP on GCP.\n",
        "    Returns:\n",
        "    --------\n",
        "        list of up to 100 search results, ordered from best to worst where each \n",
        "        element is a tuple (wiki_id, title).\n",
        "    '''\n",
        "    res = []\n",
        "    if len(query) == 0:\n",
        "      return res\n",
        "    # tokenizing the query\n",
        "    tokens = tokenize(query)\n",
        "    print(tokens)\n",
        "\n",
        "    # loading posting list with (word, (doc_id, tf))\n",
        "    posting_lists = inverted_index_body.get_posting_lists(tokens, POSTINGS_GCP_TEXT_INDEX_FOLDER_URL)\n",
        "    print(posting_lists)\n",
        "    tf_dict = {}\n",
        "    for posting in posting_lists:\n",
        "        for doc_id, tf in posting:\n",
        "            if doc_id in tf_dict:\n",
        "                tf_dict[doc_id] += tf\n",
        "            else:\n",
        "                tf_dict[doc_id] = tf\n",
        "\n",
        "    list_of_docs = sorted([(doc_id, score) for doc_id, score in tf_dict.items()], key=lambda x: x[1], reverse=True)[:100]\n",
        "    print(list_of_docs)\n",
        "    res = [(doc_id, DT[doc_id]) for doc_id, score in list_of_docs if doc_id in DT]\n",
        "    return res\n",
        "\n",
        "def search_title(query):\n",
        "    ''' Returns ALL (not just top 100) search results that contain A QUERY WORD \n",
        "        IN THE TITLE of articles, ordered in descending order of the NUMBER OF \n",
        "        QUERY WORDS that appear in the title. For example, a document with a \n",
        "        title that matches two of the query words will be ranked before a \n",
        "        document with a title that matches only one query term. \n",
        "\n",
        "        Test this by navigating to the a URL like:\n",
        "         http://YOUR_SERVER_DOMAIN/search_title?query=hello+world\n",
        "        where YOUR_SERVER_DOMAIN is something like XXXX-XX-XX-XX-XX.ngrok.io\n",
        "        if you're using ngrok on Colab or your external IP on GCP.\n",
        "    Returns:\n",
        "    --------\n",
        "        list of ALL (not just top 100) search results, ordered from best to \n",
        "        worst where each element is a tuple (wiki_id, title).\n",
        "    '''\n",
        "    res = []\n",
        "    if len(query) == 0:\n",
        "      return res\n",
        "    # tokenizing the query\n",
        "    tokens = tokenize(query)\n",
        "    print(tokens)\n",
        "\n",
        "    # loading posting list with (word, (doc_id, tf))\n",
        "    posting_lists = inverted_index_body.get_posting_lists(tokens, POSTINGS_GCP_TITLE_INDEX_FOLDER_URL)\n",
        "    print(posting_lists)\n",
        "    tf_dict = {}\n",
        "    for posting in posting_lists:\n",
        "        for doc_id, tf in posting:\n",
        "            if doc_id in tf_dict:\n",
        "                tf_dict[doc_id] += tf\n",
        "            else:\n",
        "                tf_dict[doc_id] = tf\n",
        "\n",
        "    list_of_docs = sorted([(doc_id, score) for doc_id, score in tf_dict.items()], key=lambda x: x[1], reverse=True)\n",
        "    res = [(doc_id, DT[doc_id]) for doc_id, score in list_of_docs]\n",
        "    return res\n",
        "\n",
        "def search_anchor(query):\n",
        "    ''' Returns ALL (not just top 100) search results that contain A QUERY WORD \n",
        "        IN THE ANCHOR TEXT of articles, ordered in descending order of the \n",
        "        NUMBER OF QUERY WORDS that appear in anchor text linking to the page. \n",
        "        For example, a document with a anchor text that matches two of the \n",
        "        query words will be ranked before a document with anchor text that \n",
        "        matches only one query term. \n",
        "\n",
        "        Test this by navigating to the a URL like:\n",
        "         http://YOUR_SERVER_DOMAIN/search_anchor?query=hello+world\n",
        "        where YOUR_SERVER_DOMAIN is something like XXXX-XX-XX-XX-XX.ngrok.io\n",
        "        if you're using ngrok on Colab or your external IP on GCP.\n",
        "    Returns:\n",
        "    --------\n",
        "        list of ALL (not just top 100) search results, ordered from best to \n",
        "        worst where each element is a tuple (wiki_id, title).\n",
        "    '''\n",
        "    res = []\n",
        "    query = request.args.get('query', '')\n",
        "    if len(query) == 0:\n",
        "      return res\n",
        "    # BEGIN SOLUTION\n",
        "    tokens = [token.group() for token in RE_WORD.finditer(query.lower())]\n",
        "    tokens = [t for t in tokens if t not in all_stopwords]\n",
        "\n",
        "    tf_dict = {}\n",
        "    for token in tokens:\n",
        "        added = []\n",
        "        if token not in inverted_index_anchor.df:\n",
        "            continue\n",
        "\n",
        "        # loading posting list with (word, (doc_id_from, doc_id_dest))\n",
        "        posting = read_posting_list(inverted_index_anchor, token, POSTINGS_GCP_ANCHOR_INDEX_FOLDER_URL+\"/\")\n",
        "        for _, doc_id_dest in posting:\n",
        "            if doc_id_dest in tf_dict:\n",
        "                if doc_id_dest not in added:\n",
        "                    tf_dict[doc_id_dest] += 1\n",
        "            else:\n",
        "                added.append(doc_id_dest)\n",
        "                tf_dict[doc_id_dest] = 1\n",
        "\n",
        "    # Sort Documents by number unique of tokens in doc\n",
        "    list_of_dict = sorted([(doc_id, score) for doc_id, score in tf_dict.items()], key=lambda x: x[1], reverse=True)\n",
        "    # END SOLUTION\n",
        "    return list_of_dict\n",
        "\n",
        "def get_pagerank():\n",
        "    ''' Returns PageRank values for a list of provided wiki article IDs. \n",
        "\n",
        "        Test this by issuing a POST request to a URL like:\n",
        "          http://YOUR_SERVER_DOMAIN/get_pagerank\n",
        "        with a json payload of the list of article ids. In python do:\n",
        "          import requests\n",
        "          requests.post('http://YOUR_SERVER_DOMAIN/get_pagerank', json=[1,5,8])\n",
        "        As before YOUR_SERVER_DOMAIN is something like XXXX-XX-XX-XX-XX.ngrok.io\n",
        "        if you're using ngrok on Colab or your external IP on GCP.\n",
        "    Returns:\n",
        "    --------\n",
        "        list of floats:\n",
        "          list of PageRank scores that correrspond to the provided article IDs.\n",
        "    '''\n",
        "    res = []\n",
        "    wiki_ids = request.get_json()\n",
        "    if len(wiki_ids) == 0:\n",
        "      return jsonify(res)\n",
        "    # BEGIN SOLUTION\n",
        "    res = [page_rank[wiki_id] for wiki_id in wiki_ids] \n",
        "    # END SOLUTION\n",
        "    return jsonify(res)\n",
        "\n",
        "def get_pageview():\n",
        "    ''' Returns the number of page views that each of the provide wiki articles\n",
        "        had in August 2021.\n",
        "\n",
        "        Test this by issuing a POST request to a URL like:\n",
        "          http://YOUR_SERVER_DOMAIN/get_pageview\n",
        "        with a json payload of the list of article ids. In python do:\n",
        "          import requests\n",
        "          requests.post('http://YOUR_SERVER_DOMAIN/get_pageview', json=[1,5,8])\n",
        "        As before YOUR_SERVER_DOMAIN is something like XXXX-XX-XX-XX-XX.ngrok.io\n",
        "        if you're using ngrok on Colab or your external IP on GCP.\n",
        "    Returns:\n",
        "    --------\n",
        "        list of ints:\n",
        "          list of page view numbers from August 2021 that correrspond to the \n",
        "          provided list article IDs.\n",
        "    '''\n",
        "    res = []\n",
        "    wiki_ids = request.get_json()\n",
        "    if len(wiki_ids) == 0:\n",
        "      return jsonify(res)\n",
        "    # BEGIN SOLUTION\n",
        "\n",
        "    # END SOLUTION\n",
        "    return jsonify(res)\n",
        "\n",
        "\n",
        "print(search_body(\"best marvel movies\"))\n"
      ],
      "metadata": {
        "id": "Yrl5Tvx521cE",
        "colab": {
          "base_uri": "https://localhost:8080/"
        },
        "outputId": "7929e63a-8997-4164-957a-d0b3f1eb296c"
      },
      "execution_count": 26,
      "outputs": [
        {
          "output_type": "stream",
          "name": "stdout",
          "text": [
            "['best', 'marvel', 'movies']\n"
          ]
        },
        {
          "output_type": "stream",
          "name": "stderr",
          "text": [
            "IOPub data rate exceeded.\n",
            "The notebook server will temporarily stop sending output\n",
            "to the client in order to avoid crashing it.\n",
            "To change this limit, set the config variable\n",
            "`--NotebookApp.iopub_data_rate_limit`.\n",
            "\n",
            "Current values:\n",
            "NotebookApp.iopub_data_rate_limit=1000000.0 (bytes/sec)\n",
            "NotebookApp.rate_limit_window=3.0 (secs)\n",
            "\n"
          ]
        },
        {
          "output_type": "stream",
          "name": "stdout",
          "text": [
            "[(18307001, 990), (18636995, 873), (16142831, 591), (14314727, 546), (3306354, 489), (4036172, 466), (14551473, 442), (7317283, 409), (4224440, 396), (14938664, 394), (3663849, 389), (9425157, 385), (7706340, 382), (303981, 341), (3362779, 333), (2794268, 319), (403585, 311), (16831542, 311), (1241849, 305), (11304669, 304), (625413, 287), (4483550, 286), (13215306, 283), (7081866, 279), (3483096, 278), (4151001, 269), (10589717, 263), (12284344, 255), (11605778, 251), (9149389, 244), (13020084, 239), (7893660, 236), (3382456, 235), (2830666, 233), (3627682, 233), (901742, 231), (3017764, 230), (1964969, 225), (833838, 223), (7369530, 220), (14030366, 218), (1074657, 214), (2845957, 213), (12523627, 212), (12839459, 212), (1488937, 211), (27306717, 211), (6236356, 209), (2453648, 207), (1856911, 205), (20966, 202), (1047719, 202), (6027734, 199), (2519765, 199), (1070235, 196), (25988203, 194), (11088709, 191), (5027882, 189), (248228, 188), (3174694, 188), (151343, 187), (2801735, 184), (20960604, 182), (361388, 180), (13120016, 180), (1489560, 178), (2575623, 176), (1673723, 174), (1874970, 174), (1160627, 172), (6003728, 171), (12540636, 171), (1594376, 170), (6167499, 170), (910396, 170), (54741, 169), (1945597, 168), (8543791, 168), (11430131, 166), (36658495, 166), (8564381, 163), (2165578, 161), (4093801, 161), (910261, 161), (41008758, 160), (304831, 158), (19826868, 157), (426381, 155), (2742005, 155), (910407, 153), (24600, 152), (3655406, 152), (16045118, 152), (7378311, 151), (6921392, 150), (20384490, 149), (201534, 148), (9506637, 148), (18694289, 148), (13107435, 147)]\n",
            "[(18307001, 'List of Nigar awards'), (18636995, 'Golden Trailer Awards'), (16142831, 'Gene Kelly Awards'), (14314727, 'List of Myanmar Motion Picture Academy Awards'), (3306354, 'List of awards and nominations received by Beyoncé'), (4036172, 'GayVN Awards'), (14551473, 'List of Academy Award records'), (7317283, 'Venus Award'), (4224440, 'Perth Dance Music Awards'), (14938664, 'Amusement Today'), (3663849, 'Ditmar Award results'), (9425157, 'Molière Award'), (7706340, 'West Australian Music Industry Awards'), (303981, 'Japan Academy Film Prize'), (3362779, 'JoBlo.com'), (2794268, 'Asian Television Awards'), (403585, 'Captain Marvel (DC Comics)'), (16831542, 'UK Rock Challenge'), (1241849, 'Canadian Car of the Year'), (11304669, 'James Beard Foundation Award'), (625413, 'British Comedy Awards'), (4483550, 'Publication history of Marvel Comics crossover events'), (13215306, 'List of awards and nominations received by Kanye West'), (7081866, 'Urban Music Awards'), (3483096, 'Alley Award'), (4151001, 'New York Film Critics Online'), (10589717, 'Carol Danvers'), (12284344, 'Marvel Omnibus'), (11605778, 'A. R. Rahman discography'), (9149389, 'Inside Soap Awards'), (13020084, 'List of awards and nominations for American Idol contestants'), (7893660, 'Fantastic Fest'), (3382456, 'Spike Video Game Awards'), (2830666, 'Nora Aunor'), (3627682, 'The British Soap Awards'), (901742, 'List of Colombian films'), (3017764, 'Anthony Awards'), (1964969, 'List of awards and nominations received by Britney Spears'), (833838, 'List of Marvel Comics first appearances'), (7369530, 'List of awards and nominations received by Shakira'), (14030366, 'List of awards and nominations received by Home and Away'), (1074657, 'Marvel Studios'), (2845957, 'Evening Standard British Film Awards'), (12523627, 'List of awards and nominations received by Justin Timberlake'), (12839459, 'Penguin Award'), (1488937, 'Sir Julius Vogel Award'), (27306717, 'Marvel Cinematic Universe'), (6236356, 'Screamfest Horror Film Festival'), (2453648, 'List of comic book supervillain debuts'), (1856911, 'AVN Awards'), (20966, 'Marvel Comics'), (1047719, 'Marvel Adventures'), (6027734, 'Mar del Plata International Film Festival'), (2519765, 'Marvel Masterworks'), (1070235, 'MOBO Awards'), (25988203, 'Marvel Ultimate Collection, Complete Epic and Epic Collection lines'), (11088709, 'Matilda Awards'), (5027882, 'Marvel Entertainment'), (248228, 'List of superheroines'), (3174694, 'List of Spider-Man titles'), (151343, 'The Best... Album in the World...Ever!'), (2801735, \"Hot d'Or\"), (20960604, 'List of limited series'), (361388, 'List of EGOT winners'), (13120016, 'List of people who have won multiple Academy Awards in a single year'), (1489560, 'Charles S. Roberts Award'), (2575623, 'British Fantasy Award'), (1673723, 'List of actors who played the president of the United States'), (1874970, 'List of awards and nominations received by Christina Aguilera'), (1160627, 'Marvel Family'), (6003728, 'List of black Academy Award winners and nominees'), (12540636, 'List of awards and nominations received by Meryl Streep'), (1594376, 'List of Singapore International Film Festival awards'), (6167499, 'MTV Video Music Brazil'), (910396, '1950s in comics'), (54741, 'Tony Awards'), (1945597, 'List of awards and nominations received by Madonna'), (8543791, 'Captain Marvel Jr.'), (11430131, 'Taurus World Stunt Awards'), (36658495, 'Marvel NOW!'), (8564381, 'List of awards and nominations received by A. R. Rahman'), (2165578, 'Traverse City Film Festival'), (4093801, 'Kora Awards'), (910261, '1965 in comics'), (41008758, 'Kamala Khan'), (304831, 'List of films considered the best'), (19826868, 'List of awards and nominations received by Chris Brown'), (426381, 'George Best'), (2742005, 'List of awards and nominations received by Alicia Keys'), (910407, '1940s in comics'), (24600, 'Pete Best'), (3655406, 'List of awards and nominations received by Jennifer Lopez'), (16045118, 'List of black Golden Globe Award winners and nominees'), (7378311, 'Erotixxx Award'), (6921392, 'Parsec Awards'), (20384490, 'Bhojpuri Film Awards'), (201534, 'Chicago (2002 film)'), (9506637, 'List of awards and nominations received by U2'), (18694289, 'List of awards and nominations received by Kate Winslet'), (13107435, 'List of awards and nominations received by Rihanna')]\n",
            "['semi']\n",
            "[[]]\n",
            "[]\n"
          ]
        }
      ]
    },
    {
      "cell_type": "markdown",
      "metadata": {
        "id": "6dW0y91OVu5J"
      },
      "source": [
        "# Run the app"
      ]
    },
    {
      "cell_type": "code",
      "execution_count": null,
      "metadata": {
        "id": "7opNkV6uRHIv"
      },
      "outputs": [],
      "source": [
        "# you need to upload your implementation of search_app.py\n",
        "import search_frontend as se"
      ]
    },
    {
      "cell_type": "code",
      "execution_count": null,
      "metadata": {
        "id": "oTGXXYEXV5l8"
      },
      "outputs": [],
      "source": [
        "# uncomment the code below and execute to reload the module when you make \n",
        "# changes to search_frontend.py (after you upload again).\n",
        "import importlib\n",
        "importlib.reload(se)"
      ]
    },
    {
      "cell_type": "code",
      "source": [
        "from flask_ngrok import run_with_ngrok\n",
        "run_with_ngrok(se.app) \n",
        "se.app.run()"
      ],
      "metadata": {
        "id": "6dpGaX3y2uKU"
      },
      "execution_count": null,
      "outputs": []
    },
    {
      "cell_type": "markdown",
      "metadata": {
        "id": "Na0MC_1nzDbi"
      },
      "source": [
        "# Testing your app\n",
        "\n",
        "Once your app is running you can query it. You can simply do that by navigating to the URL that ngrok gave you above or through code in a different python session. For example, once the frontend app is running, you can navigate to:\n",
        "http://YOUR_SERVER_DOMAIN/search?query=hello+world where YOUR_SERVER_DOMAIN is something like XXXX-XX-XX-XX-XX.ngrok.io, which is printed above in Colab or that is your external IP on GCP.\n",
        "\n",
        "The code below shows how to issue a query from python. This is also how our testing code will issue queries to your search engine, so make sure to test your search engine this way after you deploy it to GCP and before submission. Command line instructions for deploying your search engine to GCP are available at `run_frontend_in_gcp.sh`. Note that we will not only issue training queries to your search engine, but also test queries, i.e. queries that you've never seen before."
      ]
    },
    {
      "cell_type": "code",
      "execution_count": null,
      "metadata": {
        "id": "EM5ePrRHojbG"
      },
      "outputs": [],
      "source": [
        "import json\n",
        "\n",
        "with open('queries_train.json', 'rt') as f:\n",
        "  queries = json.load(f)"
      ]
    },
    {
      "cell_type": "code",
      "execution_count": null,
      "metadata": {
        "id": "gWimZWCOy3Ei"
      },
      "outputs": [],
      "source": [
        "def average_precision(true_list, predicted_list, k=40):\n",
        "    true_set = frozenset(true_list)\n",
        "    predicted_list = predicted_list[:k]\n",
        "    precisions = []\n",
        "    for i,doc_id in enumerate(predicted_list):        \n",
        "        if doc_id in true_set:\n",
        "            prec = (len(precisions)+1) / (i+1)            \n",
        "            precisions.append(prec)\n",
        "    if len(precisions) == 0:\n",
        "        return 0.0\n",
        "    return round(sum(precisions)/len(precisions),3)"
      ]
    },
    {
      "cell_type": "code",
      "execution_count": null,
      "metadata": {
        "id": "dYmNTq9u0ChK"
      },
      "outputs": [],
      "source": [
        "import requests\n",
        "from time import time\n",
        "# url = 'http://35.232.59.3:8080'\n",
        "# place the domain you got from ngrok or GCP IP below. \n",
        "url = 'http://XXXX-XX-XX-XX-XX.ngrok.io'\n",
        "\n",
        "qs_res = []\n",
        "for q, true_wids in queries.items():\n",
        "  duration, ap = None, None\n",
        "  t_start = time()\n",
        "  try:\n",
        "    res = requests.get(url + '/search', {'query': q}, timeout=35)\n",
        "    duration = time() - t_start\n",
        "    if res.status_code == 200:\n",
        "      pred_wids, _ = zip(*res.json())\n",
        "      ap = average_precision(true_wids, pred_wids)\n",
        "  except:\n",
        "    pass\n",
        "  \n",
        "  qs_res.append((q, duration, ap))"
      ]
    }
  ],
  "metadata": {
    "colab": {
      "provenance": []
    },
    "kernelspec": {
      "display_name": "Python 3",
      "name": "python3"
    },
    "language_info": {
      "name": "python"
    }
  },
  "nbformat": 4,
  "nbformat_minor": 0
}