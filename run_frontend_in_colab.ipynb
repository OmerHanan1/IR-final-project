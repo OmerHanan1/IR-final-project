{
  "cells": [
    {
      "cell_type": "code",
      "execution_count": null,
      "metadata": {
        "id": "bCPDHP7zTQJZ"
      },
      "outputs": [],
      "source": [
        "# download nltk stopwords\n",
        "import nltk\n",
        "from google.cloud import storage\n",
        "nltk.download('stopwords')"
      ]
    },
    {
      "cell_type": "code",
      "execution_count": 2,
      "metadata": {
        "id": "lAt6KT8xOgHH",
        "colab": {
          "base_uri": "https://localhost:8080/"
        },
        "outputId": "a849e4f0-091d-4bd4-aa0a-cc9c913aa9f1"
      },
      "outputs": [
        {
          "output_type": "stream",
          "name": "stdout",
          "text": [
            "Looking in indexes: https://pypi.org/simple, https://us-python.pkg.dev/colab-wheels/public/simple/\n",
            "Requirement already satisfied: pyspark in /usr/local/lib/python3.8/dist-packages (3.3.1)\n",
            "Requirement already satisfied: py4j==0.10.9.5 in /usr/local/lib/python3.8/dist-packages (from pyspark) (0.10.9.5)\n"
          ]
        }
      ],
      "source": [
        "# Install a particular version of `google-cloud-storage` because (oddly enough) \n",
        "# the  version on Colab and GCP is old. A dependency error below is okay.\n",
        "!pip install -q google-cloud-storage==1.43.0\n",
        "!pip install pyspark"
      ]
    },
    {
      "cell_type": "code",
      "execution_count": 3,
      "metadata": {
        "id": "-oKFly5jFLFn"
      },
      "outputs": [],
      "source": [
        "# authenticate below for Google Storage access as needed\n",
        "from google.colab import auth\n",
        "auth.authenticate_user()"
      ]
    },
    {
      "cell_type": "code",
      "execution_count": null,
      "metadata": {
        "id": "vDuikxFbN9B7"
      },
      "outputs": [],
      "source": [
        "# Copy one wikidumps files \n",
        "import os\n",
        "from pathlib import Path\n",
        "\n",
        "project_id = 'assignment3-370517'\n",
        "\n",
        "!gcloud config set project {project_id}\n",
        "\n",
        "bucket_name = 'amit-chen-bucket-1'\n",
        "\n",
        "postings_gcp_text = 'postings_gcp_text'\n",
        "postings_gcp_anchor = 'postings_gcp_anchor'\n",
        "postings_gcp_title = 'postings_gcp_title'\n",
        "postings_gcp_text = 'postings_gcp_text_stemmed'\n",
        "postings_gcp_anchor = 'postings_gcp_anchor_stemmed'\n",
        "postings_gcp_title = 'postings_gcp_title_stemmed'\n",
        "doc_len = 'dl'\n",
        "doc_title = 'dt'\n",
        "nf_body = 'nf'\n",
        "\n",
        "# uncoment data you want to upload from bucket \n",
        "\n",
        "!gsutil -m cp -r gs://{bucket_name}/{postings_gcp_text}/ . \n",
        "!gsutil -m cp -r gs://{bucket_name}/{postings_gcp_anchor}/ . \n",
        "!gsutil -m cp -r gs://{bucket_name}/{postings_gcp_title}/ .  \n",
        "!gsutil -m cp -r gs://{bucket_name}/{postings_gcp_text_stemmed}/ . \n",
        "!gsutil -m cp -r gs://{bucket_name}/{postings_gcp_anchor_stemmed}/ . \n",
        "!gsutil -m cp -r gs://{bucket_name}/{postings_gcp_title_stemmed}/ .  \n",
        "!gsutil -m cp -r gs://{bucket_name}/{nf_body}/ . \n",
        "!gsutil -m cp -r gs://{bucket_name}/{doc_len}/ . \n",
        "!gsutil -m cp -r gs://{bucket_name}/{doc_title}/ . "
      ]
    },
    {
      "cell_type": "code",
      "source": [
        "!mkdir pr/\n",
        "!mkdir pv/\n",
        "client = storage.Client()\n",
        "blobs = client.list_blobs(f\"{bucket_name}\")\n",
        "for b in blobs:\n",
        "    if \"part-00000-8b293cd5-fd79-47e7-a641-3d067da0c2b0-c000.csv.gz\" in b.name:\n",
        "      b.download_to_filename(\"pr/pr.csv.gz\")\n",
        "    if \"pageview_pageviews-202108-user.pkl\" in b.name:\n",
        "      b.download_to_filename(\"pv/pv.pkl\")"
      ],
      "metadata": {
        "id": "WtpZik475DY4"
      },
      "execution_count": 5,
      "outputs": []
    },
    {
      "cell_type": "code",
      "execution_count": null,
      "metadata": {
        "id": "FrBdFNYgiyab"
      },
      "outputs": [],
      "source": [
        "# install ngrok to emulate public IP / address\n",
        "!wget -N https://bin.equinox.io/c/4VmDzA7iaHb/ngrok-stable-linux-amd64.zip -O ngrok-stable-linux-amd64.zip\n",
        "!unzip -u ngrok-stable-linux-amd64.zip"
      ]
    },
    {
      "cell_type": "code",
      "execution_count": null,
      "metadata": {
        "id": "xA-_dKEZbsXW"
      },
      "outputs": [],
      "source": [
        "# TODO: sign up for an ngrok account\n",
        "# then put your ngrok token below, uncomment, and execute\n",
        "!./ngrok authtoken 2JsDuuUTH9LwAeBbnQqZXkbbdod_5NLnteyuKr4NCqq1Knyok"
      ]
    },
    {
      "cell_type": "code",
      "execution_count": null,
      "metadata": {
        "id": "nXn5PlyGORQr"
      },
      "outputs": [],
      "source": [
        "# install a ngrok python package and a version of flask that works with it in \n",
        "# colab\n",
        "!pip -q install flask-ngrok\n",
        "!pip -q install flask==0.12.2\n",
        "# !pip -q install flask_restful"
      ]
    },
    {
      "cell_type": "markdown",
      "metadata": {
        "id": "LWL3L3TIgI1S"
      },
      "source": [
        "# Unzip training files\n",
        "upload and run below code:"
      ]
    },
    {
      "cell_type": "code",
      "execution_count": null,
      "metadata": {
        "id": "gSdrBZ3YgYUI"
      },
      "outputs": [],
      "source": [
        "!unzip all_files_for_frontend.zip"
      ]
    },
    {
      "cell_type": "markdown",
      "metadata": {
        "id": "rOGL4_gg5GK8"
      },
      "source": [
        "# Messing Around 🦖"
      ]
    },
    {
      "cell_type": "code",
      "source": [
        "from flask import Flask, request, jsonify, render_template\n",
        "import gzip\n",
        "import pickle\n",
        "import pandas as pd\n",
        "from inverted_index_gcp import *\n",
        "\n",
        "INDEX_FILE = \"index\"\n",
        "POSTINGS_GCP_TEXT_INDEX_FOLDER_URL = \"postings_gcp_text\"\n",
        "POSTINGS_GCP_ANCHOR_INDEX_FOLDER_URL = \"postings_gcp_anchor\"\n",
        "POSTINGS_GCP_TITLE_INDEX_FOLDER_URL = \"postings_gcp_title\"\n",
        "POSTINGS_GCP_TEXT_STEMMED_INDEX_FOLDER_URL = \"postings_gcp_text_stemmed\"\n",
        "POSTINGS_GCP_ANCHOR_STEMMED_INDEX_FOLDER_URL = \"postings_gcp_anchor_stemmed\"\n",
        "POSTINGS_GCP_TITLE_STEMMED_INDEX_FOLDER_URL = \"postings_gcp_title_stemmed\"\n",
        "PAGE_RANK_URL = \"pr/pr.csv.gz\"\n",
        "PAGE_VIEW_URL = \"pv/pv.pkl\"\n",
        "DT_PATH = \"dt/dt.pkl\"\n",
        "DL_PATH = \"dl/dl.pkl\"\n",
        "NF_PATH = \"nf/nf.pkl\"\n",
        "\n",
        "# open files (inverted indexes etc...)\n",
        "inverted_index_body = InvertedIndex.read_index(POSTINGS_GCP_TEXT_INDEX_FOLDER_URL, INDEX_FILE)\n",
        "inverted_index_anchor = InvertedIndex.read_index(POSTINGS_GCP_ANCHOR_INDEX_FOLDER_URL, INDEX_FILE)\n",
        "inverted_index_title = InvertedIndex.read_index(POSTINGS_GCP_TITLE_INDEX_FOLDER_URL, INDEX_FILE)\n",
        "inverted_index_body_stemmed = InvertedIndex.read_index(POSTINGS_GCP_TEXT_STEMMED_INDEX_FOLDER_URL, INDEX_FILE)\n",
        "inverted_index_anchor_stemmed = InvertedIndex.read_index(POSTINGS_GCP_ANCHOR_STEMMED_INDEX_FOLDER_URL, INDEX_FILE)\n",
        "inverted_index_title_stemmed = InvertedIndex.read_index(POSTINGS_GCP_TITLE_STEMMED_INDEX_FOLDER_URL, INDEX_FILE)\n",
        "\n",
        "with open(DL_PATH, 'rb') as f:\n",
        "    DL = pickle.load(f)\n",
        "    DL_LEN = len(DL)\n",
        "\n",
        "with open(DT_PATH, 'rb') as f:\n",
        "    DT = pickle.load(f)\n",
        "\n",
        "with open(NF_PATH, 'rb') as f:\n",
        "    NF = pickle.load(f)\n",
        "\n",
        "with open(PAGE_VIEW_URL, 'rb') as f:\n",
        "    page_view = pickle.load(f)\n",
        "\n",
        "with gzip.open(PAGE_RANK_URL) as f:\n",
        "    page_rank = pd.read_csv(f, header=None, index_col=0).squeeze(\"columns\").to_dict()\n",
        "    max_pr_value = max(page_rank.values())\n",
        "    page_rank = {doc_id: rank/max_pr_value for doc_id, rank in page_rank.items()}"
      ],
      "metadata": {
        "id": "9EJyP5CnWHBt"
      },
      "execution_count": 64,
      "outputs": []
    },
    {
      "cell_type": "markdown",
      "source": [
        "# Utils\n"
      ],
      "metadata": {
        "id": "SqOYhe8ZhNIR"
      }
    },
    {
      "cell_type": "code",
      "source": [
        "import re\n",
        "import math\n",
        "from collections import Counter\n",
        "from nltk.corpus import stopwords\n",
        "\n",
        "def tokenize(text):\n",
        "    \"\"\"\n",
        "    This function aims in tokenize a text into a list of tokens. Moreover, it filter stopwords.\n",
        "    Parameters:\n",
        "    -----------\n",
        "    text: string , represting the text to tokenize.\n",
        "    Returns:\n",
        "    -----------\n",
        "    list of tokens (e.g., list of tokens).\n",
        "    \"\"\"\n",
        "    RE_WORD = re.compile(r\"\"\"[\\#\\@\\w](['\\-]?[\\w,]?[\\w.]?(?:['\\-]?[\\w,]?[\\w])){0,24}\"\"\", re.UNICODE)\n",
        "    english_stopwords = frozenset(stopwords.words('english'))\n",
        "    corpus_stopwords = [\"category\", \"references\", \"also\", \"external\", \"links\",\n",
        "                        \"may\", \"first\", \"see\", \"history\", \"people\", \"one\", \"two\",\n",
        "                        \"part\", \"thumb\", \"including\", \"second\", \"following\",\n",
        "                        \"many\", \"however\", \"would\", \"became\"]\n",
        "\n",
        "    all_stopwords = english_stopwords.union(corpus_stopwords)\n",
        "\n",
        "    list_of_tokens = [token.group() for token in RE_WORD.finditer(text.lower()) if token.group() not in all_stopwords]\n",
        "    return list_of_tokens\n",
        "\n",
        "def BM25(tokens, K, B, AVGDL, inverted_index, index_folder_url, DL, DL_LEN):\n",
        "    \n",
        "    doc_BM25_value = Counter()\n",
        "\n",
        "    for token in tokens:\n",
        "\n",
        "        # calc idf for specific token\n",
        "        try:\n",
        "          token_df = inverted_index.df[token]\n",
        "        except:\n",
        "            continue\n",
        "        token_idf = math.log(DL_LEN/token_df,10)\n",
        "\n",
        "        # loading posting list with (word, (doc_id, tf))\n",
        "        posting_list = inverted_index.read_posting_list(token, index_folder_url)\n",
        "        for page_id, word_freq in posting_list:\n",
        "            #normalized tf (by the length of document)\n",
        "            numerator = word_freq*(K+1)\n",
        "            denominator = word_freq + K*(1-B + (B*DL[page_id])/AVGDL)\n",
        "            doc_BM25_value[page_id] += token_idf*(numerator/denominator)\n",
        "        \n",
        "    sorted_doc_BM25_value = doc_BM25_value.most_common()\n",
        "    return sorted_doc_BM25_value\n",
        "\n",
        "def cossim(tokens, inverted_index, index_folder_url, DL, DL_LEN, NF):\n",
        "    \n",
        "    # get frequency of each token in query\n",
        "    query_freq = Counter(tokens)\n",
        "\n",
        "    numerator = Counter()\n",
        "    query_denominator = 0\n",
        "    weight_token_query = 0\n",
        "\n",
        "    query_len = len(tokens)\n",
        "    for token in tokens:\n",
        "\n",
        "        # calc idf for specific token\n",
        "        try:\n",
        "          token_df = inverted_index.df[token]\n",
        "        except:\n",
        "            continue\n",
        "        token_idf = math.log(DL_LEN/token_df,10)\n",
        "\n",
        "        # calc query_token_tf\n",
        "        tf_of_query_token = query_freq[token]/query_len\n",
        "        weight_token_query = tf_of_query_token*token_idf\n",
        "        query_denominator += math.pow(weight_token_query ,2)\n",
        "\n",
        "        # loading posting list with (word, (doc_id, tf))\n",
        "        posting_list = inverted_index.read_posting_list(token, index_folder_url)\n",
        "        for page_id, word_freq in posting_list:\n",
        "            #normalized tf (by the length of document)\n",
        "            try:\n",
        "                tf = (word_freq/DL[page_id])\n",
        "                weight_word_page = tf*token_idf\n",
        "                numerator[page_id] += weight_word_page*weight_token_query\n",
        "            except:\n",
        "                pass\n",
        "\n",
        "    cosim = Counter()\n",
        "    for page_id in numerator.keys():\n",
        "      cosim[page_id] = numerator[page_id]/((math.sqrt(query_denominator)*NF[page_id]))\n",
        "    \n",
        "    sorted_doc_cossim_value = cosim.most_common()\n",
        "    return sorted_doc_cossim_value\n"
      ],
      "metadata": {
        "id": "XsS7lBUEgg19"
      },
      "execution_count": 65,
      "outputs": []
    },
    {
      "cell_type": "code",
      "execution_count": 66,
      "metadata": {
        "id": "Yrl5Tvx521cE"
      },
      "outputs": [],
      "source": [
        "def search(query):\n",
        "    res = []\n",
        "    if len(query) == 0:\n",
        "      return res\n",
        "\n",
        "    # tokenizing the query\n",
        "    tokens = tokenize(query)\n",
        "\n",
        "    # cossim without stemming\n",
        "    sorted_doc_score_pairs = cossim(tokens, inverted_index_body, POSTINGS_GCP_TEXT_INDEX_FOLDER_URL, DL, DL_LEN, NF)\n",
        "    \n",
        "    # BM25\n",
        "    # K = ?\n",
        "    # B = ?\n",
        "    # AVGDL = 341.0890174848911\n",
        "    # sorted_doc_score_pairs = BM25(query, K, B, AVGDL, inverted_index_body, POSTINGS_GCP_TEXT_INDEX_FOLDER_URL, DL, DL_LEN)\n",
        "\n",
        "    # take first 100 \n",
        "    best = sorted_doc_score_pairs[:100]\n",
        "    print(best)\n",
        "\n",
        "    # take page titles according to id\n",
        "    res = [(x[0], DT[x[0]]) for x in best]\n",
        "\n",
        "\n",
        "def search_body(query):\n",
        "    res = []\n",
        "    if len(query) == 0:\n",
        "      return res\n",
        "    \n",
        "    # tokenizing the query\n",
        "    tokens = tokenize(query)\n",
        "\n",
        "    # cossim\n",
        "    sorted_doc_score_pairs = cossim(tokens, inverted_index_body, POSTINGS_GCP_TEXT_INDEX_FOLDER_URL, DL, DL_LEN, NF)\n",
        "    \n",
        "    # take first 100 \n",
        "    best = sorted_doc_score_pairs[:100]\n",
        "    print(best)\n",
        "\n",
        "    # take page titles according to id\n",
        "    res = [(x[0], DT[x[0]]) for x in best]\n",
        "\n",
        "    return res\n",
        "\n",
        "\n",
        "def search_title(query):\n",
        "    res = []\n",
        "    if len(query) == 0:\n",
        "      return res\n",
        "    # tokenizing the query\n",
        "    tokens = tokenize(query)\n",
        "\n",
        "    # loading posting list with (word, (doc_id, tf))\n",
        "    posting_lists = inverted_index_title.get_posting_lists(tokens, POSTINGS_GCP_TITLE_INDEX_FOLDER_URL)\n",
        "\n",
        "    tf_dict = {}\n",
        "    for posting in posting_lists:\n",
        "        for doc_id, tf in posting:\n",
        "            if doc_id in tf_dict:\n",
        "                tf_dict[doc_id] += 1\n",
        "            else:\n",
        "                tf_dict[doc_id] = 1\n",
        "\n",
        "    list_of_docs = sorted([(doc_id, score) for doc_id, score in tf_dict.items()], key=lambda x: x[1], reverse=True)\n",
        "    print(list_of_docs)\n",
        "    res = [(doc_id, DT[doc_id]) for doc_id, score in list_of_docs]\n",
        "    return res\n",
        "\n",
        "\n",
        "def search_anchor(query):\n",
        "    res = []\n",
        "    if len(query) == 0:\n",
        "      return res\n",
        "    # tokenizing the query\n",
        "    tokens = tokenize(query)\n",
        "\n",
        "    # loading posting list with (word, (doc_id, tf))\n",
        "    posting_lists = inverted_index_anchor.get_posting_lists(tokens, POSTINGS_GCP_ANCHOR_INDEX_FOLDER_URL)\n",
        "    \n",
        "    tf_dict = {}\n",
        "    for posting in posting_lists:\n",
        "        for doc_id, tf in posting:\n",
        "            if doc_id in tf_dict:\n",
        "                tf_dict[doc_id] += 1\n",
        "            else:\n",
        "                tf_dict[doc_id] = 1\n",
        "\n",
        "    list_of_docs = sorted([(doc_id, score) for doc_id, score in tf_dict.items()], key=lambda x: x[1], reverse=True)[:100]\n",
        "    print(list_of_docs)\n",
        "    for doc_id, score in list_of_docs:\n",
        "        try:\n",
        "            res.append((doc_id, DT[doc_id]))\n",
        "        except:\n",
        "            pass\n",
        "    return res\n",
        "\n",
        "\n",
        "def get_pagerank(wiki_ids):\n",
        "    res = []\n",
        "    if len(wiki_ids) == 0:\n",
        "      return res\n",
        "\n",
        "    for wiki_id in wiki_ids:\n",
        "      try:\n",
        "        res.append(page_rank[wiki_id])\n",
        "      except:\n",
        "        res.append(None)\n",
        "\n",
        "    return res\n",
        "\n",
        "\n",
        "def get_pageview(wiki_ids):\n",
        "    res = []\n",
        "    if len(wiki_ids) == 0:\n",
        "      return res\n",
        "      \n",
        "    for wiki_id in wiki_ids:\n",
        "      try:\n",
        "        res.append(page_rank[wiki_id])\n",
        "      except:\n",
        "        res.append(None)\n",
        "\n",
        "    return res\n"
      ]
    },
    {
      "cell_type": "markdown",
      "metadata": {
        "id": "WeueNwmN46jo"
      },
      "source": [
        "# Run Quries\n"
      ]
    },
    {
      "cell_type": "code",
      "execution_count": null,
      "metadata": {
        "id": "G-TGkfGu31iD"
      },
      "outputs": [],
      "source": [
        "print(search_anchor(\"information retrieval\"))\n",
        "# print(search_title(\"information retrieval\"))\n",
        "# print(get_pagerank([123456, 679125, 3978521]))\n",
        "# print(get_pageview([45687, 778985, 887795]))"
      ]
    },
    {
      "cell_type": "markdown",
      "metadata": {
        "id": "dURhb5t45FLZ"
      },
      "source": [
        "# Run App"
      ]
    },
    {
      "cell_type": "code",
      "execution_count": 6,
      "metadata": {
        "id": "7opNkV6uRHIv"
      },
      "outputs": [],
      "source": [
        "# you need to upload your implementation of search_app.py\n",
        "import search_frontend as se"
      ]
    },
    {
      "cell_type": "code",
      "execution_count": null,
      "metadata": {
        "id": "oTGXXYEXV5l8"
      },
      "outputs": [],
      "source": [
        "# uncomment the code below and execute to reload the module when you make \n",
        "# changes to search_frontend.py (after you upload again).\n",
        "import importlib\n",
        "importlib.reload(se)"
      ]
    },
    {
      "cell_type": "code",
      "execution_count": null,
      "metadata": {
        "colab": {
          "base_uri": "https://localhost:8080/"
        },
        "id": "6dpGaX3y2uKU",
        "outputId": "6d958093-8414-4c01-e13c-2754865c8626"
      },
      "outputs": [
        {
          "output_type": "stream",
          "name": "stderr",
          "text": [
            "INFO:werkzeug: * Running on http://127.0.0.1:5000/ (Press CTRL+C to quit)\n"
          ]
        },
        {
          "output_type": "stream",
          "name": "stdout",
          "text": [
            " * Running on http://527f-34-171-74-87.ngrok.io\n",
            " * Traffic stats available on http://127.0.0.1:4040\n"
          ]
        },
        {
          "output_type": "stream",
          "name": "stderr",
          "text": [
            "INFO:werkzeug:127.0.0.1 - - [13/Jan/2023 10:35:44] \"\u001b[37mGET /search?query=best+marvel+movie HTTP/1.1\u001b[0m\" 200 -\n"
          ]
        },
        {
          "output_type": "stream",
          "name": "stdout",
          "text": [
            "[(5027882, 0.7418604775444455), (39632709, 0.7386383876549714), (306960, 0.727912433618154), (1074657, 0.6954088809011663), (5727147, 0.692150715416282), (403579, 0.6704012023885402), (66113901, 0.6702747131550605), (20966, 0.6647393424182793), (8188167, 0.6526015206684286), (17448401, 0.6407888813584854), (15311317, 0.6395489475492644), (35871824, 0.6317080109629694), (17960196, 0.6280988925505265), (26552494, 0.6249622890377099), (33308367, 0.6136749489600388), (55994110, 0.606806116171739), (894151, 0.6044946941877017), (2453882, 0.6021268827554088), (41008758, 0.6016420599892961), (842924, 0.5990730161478861), (1047719, 0.5964203850912859), (44611175, 0.5915988925865847), (49287801, 0.5900108756833728), (5020000, 0.5850338052498854), (60132806, 0.5849072011312106), (42721570, 0.5811697812701522), (2802921, 0.5799848765278884), (66069085, 0.5792783868089857), (58488308, 0.577647024263518), (9728333, 0.5774331653897649), (10181183, 0.5758524365825953), (17586817, 0.5689786462985459), (1218903, 0.5684746771982068), (15615475, 0.5674411224511358), (97590, 0.5672233037509462), (377374, 0.5655714918176616), (955460, 0.5599404661127094), (1804101, 0.5525748677404442), (10589717, 0.5442341999230284), (14444588, 0.5419044900345692), (2881177, 0.5417708870710747), (842928, 0.5408009793787071), (31968788, 0.540765621617688), (8620492, 0.5403120825681931), (3927775, 0.5393485369242605), (4401969, 0.5386465577383004), (18975239, 0.5375790570240028), (2453884, 0.5365086176727838), (9491316, 0.5358632877542512), (910396, 0.5357578970394301), (13686413, 0.5314626062383832), (54475285, 0.5304808605068506), (26262356, 0.5290159321875474), (407721, 0.52614958771718), (44393460, 0.5208365111433659), (64182931, 0.5200496609496181), (61479705, 0.5186222101397533), (2801613, 0.5165339563485902), (2444780, 0.5143814206656618), (59748036, 0.5140414836388132), (663004, 0.513159463726643), (41081188, 0.511145977740142), (11951081, 0.5085998172066755), (20986, 0.5066350437763202), (7382198, 0.5054556101555844), (7122813, 0.5049516445228031), (27306717, 0.5047127040965739), (2302782, 0.49907046383539627), (6708880, 0.4946519914667211), (2672465, 0.494451690577613), (3740960, 0.49211566279099034), (1307319, 0.4836461639280981), (13034292, 0.48250703022968244), (1743852, 0.4806983978868467), (60419786, 0.478225393752456), (31624714, 0.47815773826456887), (13308382, 0.47786695520981864), (18396797, 0.477058768769279), (18835140, 0.4767520221725764), (25672630, 0.47653092902156835), (1160627, 0.47471442012767623), (53916696, 0.4740860155277441), (63922840, 0.4729863890517619), (8543791, 0.4719840415868399), (14422683, 0.47102255285804767), (63090183, 0.4685533969397366), (2261210, 0.46733665108957007), (5249058, 0.46715227459464614), (31737907, 0.46382282684908804), (910159, 0.463456602974924), (56045101, 0.4593765062654217), (3146929, 0.4580355870571151), (917026, 0.4575414186962313), (2642167, 0.45748242298931924), (8231840, 0.45695377087465533), (20026979, 0.45551118803277285), (888577, 0.4553275308795524), (12670360, 0.45456297600984896), (61442008, 0.4544654228538141), (7858837, 0.4544156970991875)]\n"
          ]
        },
        {
          "output_type": "stream",
          "name": "stderr",
          "text": [
            "INFO:werkzeug:127.0.0.1 - - [13/Jan/2023 10:35:48] \"\u001b[37mGET /search?query=How+do+kids+come+to+world%3F HTTP/1.1\u001b[0m\" 200 -\n"
          ]
        },
        {
          "output_type": "stream",
          "name": "stdout",
          "text": [
            "[(67353110, 0.6327325007068665), (37443868, 0.614093813315551), (54876830, 0.6120893626303608), (64465609, 0.5896588155142352), (32395701, 0.5770661658006019), (11144433, 0.5546529436617497), (2975520, 0.5544220339607618), (41926149, 0.5466112887880099), (63685864, 0.540088457735357), (36478536, 0.5291481458028973), (16378615, 0.5237052590977344), (14662779, 0.5224544819019318), (28035406, 0.5224054696852408), (44042056, 0.5141905013328242), (53493472, 0.5133994865967695), (52386471, 0.5024463907172028), (20982288, 0.49841247452867876), (43512740, 0.4963222740643153), (60924049, 0.48054005145025264), (12192723, 0.4768768304859761), (49671399, 0.46891121798410945), (61005804, 0.46412581211610343), (20971583, 0.45950300323450133), (28831741, 0.4588922933742863), (49207084, 0.44967846194731087), (6036970, 0.44965111323991447), (12582498, 0.4455036832088262), (11258329, 0.4387369641199225), (18790188, 0.4358839197325953), (8978727, 0.4349660482793815), (809425, 0.4349083802562859), (43657792, 0.43095474663599664), (14705147, 0.43080952041857623), (2914609, 0.4219998750589394), (8029729, 0.42015830137842197), (61581241, 0.4190679287844927), (49617427, 0.4175304456534703), (13260771, 0.41618923128873625), (17119695, 0.41600670445009524), (28768724, 0.41582760057826196), (2910599, 0.41332663849363793), (66703680, 0.41140516061687576), (7128263, 0.41060219854324487), (67346313, 0.4105736876585337), (15690284, 0.410038471851006), (1847144, 0.4078781285973888), (57955212, 0.4077208988669512), (11422129, 0.40667019720854847), (19553517, 0.4062863924824124), (36174786, 0.40609763648538694), (31006047, 0.4056084667435253), (229291, 0.40403850609323727), (1380383, 0.4033054122961399), (12597235, 0.40131734836617233), (7001983, 0.39523984155080016), (61574069, 0.3917456710115458), (1662099, 0.39151343500414054), (7305494, 0.3862341376304758), (8396133, 0.3835247634108171), (757129, 0.38078999236487304), (209596, 0.3781531099704191), (65779594, 0.37814769432153805), (24800699, 0.37745939949652474), (3094537, 0.3743265474992149), (9099166, 0.3731618413044391), (61386433, 0.3725035889268112), (12131680, 0.37218222310348187), (4868062, 0.3721163993738529), (7577979, 0.37037902006150225), (17117863, 0.3702291208867552), (43806633, 0.3701576673694059), (62565837, 0.3698101423969645), (3818448, 0.3691472164367577), (27190218, 0.36864274708586836), (9596795, 0.36611659905238353), (7387446, 0.3654890127626585), (62690487, 0.3635415325506339), (5806006, 0.36033676438448203), (56480301, 0.3578007811057871), (7401360, 0.3567566303839677), (56048389, 0.35296823179330217), (36588048, 0.3520495251386771), (3051582, 0.35191718446300946), (3241725, 0.3510162679418274), (16176895, 0.350674570266381), (33392020, 0.34902458197598907), (6638920, 0.34880734306884), (28992544, 0.34836221132941225), (884998, 0.3481480732373477), (24481971, 0.3478503815395102), (39914819, 0.34776883164178635), (67019362, 0.34764040258159895), (34675001, 0.3475818064461999), (454739, 0.3467686819079802), (19224747, 0.3459777971563571), (10732263, 0.3455225335671481), (3236800, 0.34444714390615083), (8338912, 0.34375393657121206), (36731133, 0.3433216875629544), (11354379, 0.34292531495712153)]\n"
          ]
        },
        {
          "output_type": "stream",
          "name": "stderr",
          "text": [
            "INFO:werkzeug:127.0.0.1 - - [13/Jan/2023 10:35:49] \"\u001b[37mGET /search?query=Information+retrieval HTTP/1.1\u001b[0m\" 200 -\n",
            "INFO:werkzeug:127.0.0.1 - - [13/Jan/2023 10:35:49] \"\u001b[37mGET /search?query=LinkedIn HTTP/1.1\u001b[0m\" 200 -\n"
          ]
        },
        {
          "output_type": "stream",
          "name": "stdout",
          "text": [
            "[(4840292, 0.9120781902233024), (15271, 0.824446489006415), (296950, 0.7549076527343074), (751691, 0.745894629314485), (1514191, 0.7033165714851726), (1981660, 0.6980471561215286), (18550455, 0.6899249714135194), (731640, 0.675536436937295), (10218640, 0.6552475176168817), (762092, 0.6190255440851121), (66284747, 0.6001039773040694), (2816394, 0.5801074317251137), (509624, 0.5480192001634694), (47901077, 0.5430970740165433), (905659, 0.5288420463675932), (1897206, 0.5159902273180529), (3328506, 0.5032356041696785), (60384473, 0.498519583986595), (24963841, 0.49633318169260565), (21106742, 0.4884811775752547), (743971, 0.4794820312178609), (9376116, 0.4742198206309924), (442684, 0.47094510960362146), (35901496, 0.46804696236933446), (24963451, 0.4646245157377308), (59558412, 0.46410375643437396), (59280201, 0.460699238375462), (20632884, 0.45393103157360887), (36794719, 0.44030837004295653), (16635934, 0.4401910887106289), (33516090, 0.43773160345893053), (10328235, 0.43627686962793016), (14473878, 0.4304180627118663), (261193, 0.4285980690079076), (509649, 0.4279668975899213), (149354, 0.41997953298077795), (2232087, 0.4052431045345768), (25421323, 0.39751189439648377), (33407925, 0.39341459054735894), (346470, 0.3923751531336806), (31335953, 0.39142143932683293), (10818378, 0.3898904220354672), (37180835, 0.3853025600502043), (504195, 0.3841051116961572), (36749242, 0.3835277697220696), (38156944, 0.3787407266492078), (36788307, 0.37664561281321934), (14109784, 0.3721473259203703), (11081803, 0.3704135030833393), (45638306, 0.36585364425375283), (11373842, 0.3654722707345198), (15624668, 0.36118524478566333), (12743167, 0.35505155834331814), (48623927, 0.3527431752113805), (44009082, 0.3487939264511274), (24997830, 0.34838394676413925), (48544304, 0.347523513874605), (17770654, 0.34592715099050686), (30882491, 0.3388620297317727), (17785794, 0.33833856497019377), (50003152, 0.33398744001427977), (8147091, 0.33263480459992734), (2930391, 0.3302512082934351), (4733451, 0.3266650931119721), (14156172, 0.3204785480966147), (26039201, 0.3203186220652423), (68195523, 0.3184812477833062), (24593158, 0.31636299734830925), (21218770, 0.3149183195156627), (44578960, 0.3145374255931489), (12715923, 0.31086598051879094), (62032856, 0.3063766254425071), (4694434, 0.306293682509711), (22049756, 0.3006594270307285), (39585214, 0.30024218156420485), (4999945, 0.2972037474424746), (26025104, 0.2953957562226789), (6779715, 0.2949420628371451), (630791, 0.2905775737140224), (1185840, 0.2886745410118207), (15101979, 0.28672535593218595), (22254915, 0.28625468073221016), (18374763, 0.28493424294010095), (57312392, 0.28412481688273183), (2843041, 0.28317138142793963), (32817039, 0.28230546159302555), (52102700, 0.2790783532291405), (3844607, 0.27890647545711095), (4641981, 0.2785215032833718), (10525892, 0.27832135548590603), (4877703, 0.2778836244888971), (38386204, 0.2777490714764107), (9895760, 0.27730238358333), (54954832, 0.27682796488143063), (1991624, 0.2753977704794445), (24979660, 0.27518163250078165), (9511414, 0.2739087614901056), (2855293, 0.2726347748342886), (12911443, 0.2721469787405049), (19937852, 0.2719223318414255)]\n",
            "[(970755, 0.9153857162702194), (50191962, 0.9133477921475014), (63641225, 0.7495671650298784), (36070366, 0.6851545698379411), (41726116, 0.6396762446658444), (62976368, 0.5535166796615957), (57636793, 0.5460042697790598), (57095061, 0.5407225821484423), (53321154, 0.46126140831233853), (35549457, 0.45998078296483136), (59144735, 0.4202545934666149), (49106425, 0.4171325978312817), (22291643, 0.3932404874344248), (55194684, 0.3816841154815246), (40413203, 0.36069957490893984), (38613414, 0.3533996394350269), (42531713, 0.3214510822667401), (50714809, 0.27697684845616405), (27769500, 0.2762372024508828), (40073397, 0.2685333666985872), (28015259, 0.26034864129521207), (68308072, 0.2568538220185701), (22674192, 0.2457671338616144), (37784208, 0.23587479309875722), (42672986, 0.23567434014774621), (28871639, 0.23454395611007156), (54197342, 0.23248744435837002), (12249721, 0.22798394872071692), (34324591, 0.22512807905833696), (50070773, 0.2211374459123694), (67910832, 0.21774434364439102), (55679006, 0.21732748788809952), (37258543, 0.21710283004192818), (21795752, 0.21543292368494044), (28666660, 0.212626402191548), (45248740, 0.21183955986772882), (13143931, 0.20798834736890479), (65086911, 0.20702308611944537), (21255174, 0.20691168980925068), (42887342, 0.20351072729092567), (40853416, 0.2021898329542375), (37810930, 0.20016473187775755), (39405918, 0.19880307888279322), (58416053, 0.19756828459195616), (51137597, 0.19743487569710108), (560176, 0.19685100485279602), (62872086, 0.19657114764059774), (37396421, 0.19474430262798545), (35934951, 0.19266023614472397), (64418727, 0.19250884183894149), (23693669, 0.1924328118415871), (15191296, 0.19236539493734708), (3591502, 0.19080064193538268), (22291773, 0.19030871529680055), (33058396, 0.1894494570494903), (65338185, 0.1882149655767305), (64549380, 0.18791292138360036), (68338141, 0.18405130585468607), (13951959, 0.18272969858872343), (48458785, 0.18176495021768563), (22762930, 0.1812068146429168), (56313056, 0.18110640896710542), (29720689, 0.17971129461493618), (37792684, 0.17900706289071266), (43141026, 0.1789800950331782), (35892717, 0.1789486259205432), (62585938, 0.1789442768951401), (44014825, 0.1778485242917997), (36703543, 0.17686301562702053), (42738347, 0.176753647950715), (68191472, 0.1761639325687012), (32571212, 0.1759572188460422), (31153146, 0.17580487200614509), (6654137, 0.17528474041834552), (29679807, 0.17473203215572233), (39623486, 0.17395216469788247), (64404276, 0.17295795030905625), (42009081, 0.17228283912222725), (25384630, 0.17197863044623926), (53251023, 0.17176843859559224), (27912768, 0.17162683546988358), (63335005, 0.16916609204816827), (55556535, 0.16849066324481135), (43651057, 0.16837016416116193), (8410116, 0.1683006040355372), (42188864, 0.1674295917079624), (48850086, 0.16740786231028962), (47562454, 0.1666850695501627), (37756284, 0.16660918467366786), (25192459, 0.16658879457996406), (49523301, 0.1649762536719417), (1633346, 0.16447337748688132), (36320868, 0.16387597495430245), (63183043, 0.16303862342132902), (44760759, 0.1625179911661796), (17995268, 0.16249416326887042), (67611948, 0.16120423851125015), (47108846, 0.16117823151671445), (17403692, 0.16042050675095845), (44189655, 0.15939062286269742)]\n"
          ]
        },
        {
          "output_type": "stream",
          "name": "stderr",
          "text": [
            "INFO:werkzeug:127.0.0.1 - - [13/Jan/2023 10:35:50] \"\u001b[37mGET /search?query=How+to+make+coffee%3F HTTP/1.1\u001b[0m\" 200 -\n",
            "INFO:werkzeug:127.0.0.1 - - [13/Jan/2023 10:35:50] \"\u001b[37mGET /search?query=Ritalin HTTP/1.1\u001b[0m\" 200 -\n"
          ]
        },
        {
          "output_type": "stream",
          "name": "stdout",
          "text": [
            "[(5612891, 0.8378245053464398), (604727, 0.8225849205868629), (13873200, 0.8049109552383734), (5612952, 0.792630505921637), (51613538, 0.7879825025259348), (23451648, 0.7872122130613156), (19399083, 0.7738771114743702), (27326872, 0.7719601584206971), (18931461, 0.7713503869684891), (667037, 0.7712887628559706), (42311274, 0.7596690203196034), (4506407, 0.7575697988089535), (482824, 0.7534951520550568), (7687063, 0.751477936345265), (62192965, 0.7503965795019629), (2165666, 0.7477231557273184), (38992003, 0.7453739388584312), (54428590, 0.7435907305280848), (2093706, 0.740090566087884), (33236555, 0.7338250275354503), (31605606, 0.7330777601088713), (27301828, 0.7316933315734168), (273707, 0.729957386451428), (32239401, 0.7271159122310752), (4604645, 0.7260806492026957), (17753292, 0.7248714283407236), (63520964, 0.722823586656893), (39365975, 0.7197791698031076), (52428480, 0.71680203166373), (34103233, 0.7146570145581055), (56923463, 0.7138989391163476), (33746534, 0.7138442675975553), (46916521, 0.7136349119068147), (44803276, 0.7129770095443139), (46726509, 0.7123012332111834), (28935529, 0.7093096964797192), (408360, 0.7068389498013659), (18272624, 0.7055965185273395), (14261247, 0.7055455478707883), (18768897, 0.7055126579905373), (1838317, 0.7043579514992223), (41963553, 0.7036265209588696), (38355071, 0.7021404655169423), (3348736, 0.7012287124860074), (85097, 0.7003038508370105), (19619306, 0.6989307075591565), (21207163, 0.6986919353283084), (1620561, 0.6980595886979378), (13078827, 0.6965484164269021), (41955505, 0.6904387122933189), (3517277, 0.6899738769945413), (52844819, 0.6883613424744192), (35728887, 0.6880384891594024), (18740889, 0.6878211188483713), (6944079, 0.6871498418831439), (3088905, 0.6865362163212428), (215424, 0.6841109224233438), (64248364, 0.6821007985117089), (38503245, 0.6820250255494856), (58087053, 0.6816277940946953), (46916705, 0.6814464421728795), (46899503, 0.6804325349351315), (25101599, 0.6767647229866492), (2962291, 0.67600841343501), (838057, 0.6759170695452009), (48696061, 0.6748227155091459), (42612222, 0.6746031382992959), (2166024, 0.6743430894262101), (18090581, 0.6714825425928073), (16821755, 0.6707624351483872), (58087187, 0.6702664148814299), (30860428, 0.6697141279435295), (56849806, 0.6674992028529926), (1646753, 0.6662739289895953), (32951486, 0.6653087721075494), (59505401, 0.6642285911085486), (26946115, 0.663293260660145), (23128797, 0.6614161379392258), (40131950, 0.660468705663628), (4260267, 0.6604411649159861), (16093572, 0.6601828717965348), (35717168, 0.6593540019725187), (1490022, 0.658920077726142), (67260266, 0.6565968779109974), (21777091, 0.6565652184278562), (30128150, 0.6562988289122867), (12051127, 0.655858598759234), (12589200, 0.6556884518544407), (5768012, 0.6520584232147044), (67261887, 0.6496297139518821), (31294695, 0.6479368421512385), (6332026, 0.6457111159006298), (5567241, 0.6441137934618849), (46878844, 0.643975492621011), (7566574, 0.6439468993321429), (40403987, 0.6422454427350187), (33763772, 0.6416335847441279), (38090700, 0.6405128555025554), (33495491, 0.6401439210612632), (31110433, 0.6391430500648123)]\n",
            "[(8802530, 0.6608100614056099), (24754461, 0.31912636723954674), (22611786, 0.3131908952863205), (2495940, 0.29358475858661137), (7594155, 0.2600566010712536), (6281833, 0.25627757635314113), (6428730, 0.2538328942615299), (2580091, 0.2411382343536052), (57068567, 0.22993177412870877), (7432624, 0.21602359034173754), (27753683, 0.2039512907037041), (19744477, 0.20065675272622804), (2111543, 0.19348204453191953), (9208944, 0.16324298891559946), (5721484, 0.16228186735879854), (42225661, 0.16156874590252865), (36394857, 0.15842075107322412), (3629917, 0.15299140083636667), (46904398, 0.13966594631982301), (205878, 0.13487815152165936), (20949376, 0.13382494876986958), (43629988, 0.13287699446633763), (59772700, 0.1306254413615935), (10909893, 0.11757027351884121), (8031252, 0.11605475769994085), (4408400, 0.11368475240073227), (39218734, 0.11298137070848098), (1790029, 0.1106940333681971), (56795983, 0.11028769597460268), (1546447, 0.10286551668040919), (5153806, 0.09876630425222713), (65959408, 0.09855711971153322), (1598204, 0.09577574297656806), (59040227, 0.09572785412853904), (1059781, 0.09151636675559735), (6848848, 0.08869855812740454), (49394981, 0.08304425471571728), (7594242, 0.08292422834878642), (8379632, 0.08240161263646475), (5497377, 0.07898032762432915), (3399703, 0.07741233773685552), (13153606, 0.07728030057407062), (57098932, 0.07660429756360164), (11579721, 0.0744750082637157), (18478302, 0.07325672977108774), (31917777, 0.07270237233684382), (10680464, 0.07216262490721655), (44114049, 0.07108727602565526), (964614, 0.07008438346873819), (1069078, 0.0687786369911227), (25589221, 0.06870310960379263), (869864, 0.06771444415166039), (54297047, 0.0673724427248535), (31729047, 0.0643237323312452), (4726434, 0.063519773695138), (50762105, 0.062465253876366554), (2936630, 0.061859938180248694), (15328500, 0.05949172356476165), (3075414, 0.058764853315265805), (49919178, 0.05810399891531635), (16936457, 0.0580887161687762), (16440147, 0.0574745457757151), (10903200, 0.057197535298832654), (683735, 0.056320413256293264), (1799076, 0.0554107417709708), (57762, 0.054313693685158836), (10671710, 0.053934291596609396), (7183233, 0.05209986817217956), (22006380, 0.05164906871823365), (2630426, 0.05157038631722865), (6603720, 0.05136218474907311), (46105, 0.05069042403870444), (9311172, 0.04928656393688031), (6390923, 0.04913804811781537), (1598178, 0.04846170152746165), (243759, 0.04833048491127284), (1186041, 0.04812242152973008), (43499155, 0.046172399094614645), (37681195, 0.04582503336539262), (33973815, 0.04544363036133221), (1723574, 0.045406922753590595), (3973397, 0.04373550631728941), (10637866, 0.04262218614575503), (39488884, 0.04026738085124116), (9916386, 0.039765260948211596), (38128011, 0.0397233893829068), (5061559, 0.03893248291223859), (180121, 0.03891769038797335), (195929, 0.03795048671621766), (66391, 0.03750729447661515), (713455, 0.03747687434734153), (12870213, 0.03718362766633514), (1238967, 0.03706572920835947), (2105763, 0.03695294685619104), (31114228, 0.03629515365914405), (463961, 0.03584574289403972), (3880397, 0.0358170111829987), (11192987, 0.03555009177466771), (43541985, 0.03434278938053639), (1140867, 0.0342278643792794)]\n"
          ]
        },
        {
          "output_type": "stream",
          "name": "stderr",
          "text": [
            "INFO:werkzeug:127.0.0.1 - - [13/Jan/2023 10:35:53] \"\u001b[37mGET /search?query=How+to+make+wine+at+home%3F HTTP/1.1\u001b[0m\" 200 -\n"
          ]
        },
        {
          "output_type": "stream",
          "name": "stdout",
          "text": [
            "[(4435069, 0.7429935630387207), (17991512, 0.7407188946541282), (27215002, 0.7344838682034899), (10342514, 0.7325028745367013), (38409410, 0.7320420302886558), (28742611, 0.7228389370271483), (7199869, 0.7213941905352801), (3880987, 0.7166805087417486), (67886744, 0.7115837030022866), (4389159, 0.7097866472898814), (41406891, 0.7097715879237874), (5400822, 0.7079405057183944), (32961, 0.7073941439426429), (19246495, 0.7000083854720175), (28887305, 0.6891644773754341), (8177057, 0.6853222007934948), (934026, 0.6826529208929455), (22779492, 0.6814872811103334), (18475503, 0.6768382757542233), (19244911, 0.6742272989451549), (2061874, 0.6719741878287496), (62815430, 0.6714065082856981), (3432446, 0.6700504528854961), (5654394, 0.6646322862030457), (15035526, 0.6640699946585439), (619575, 0.6630696888445576), (1942258, 0.6612236359213507), (14001249, 0.6607183479233285), (25788047, 0.6591818723586375), (17503317, 0.6583754871377472), (8814501, 0.6583030144066973), (17236054, 0.6554746338612036), (19429572, 0.6535678414052193), (4032210, 0.6526949681707925), (38409973, 0.6525642295179727), (38409536, 0.6519833603097044), (38409669, 0.6501875501781921), (9467381, 0.6492715971844989), (15115768, 0.6487236375800182), (52887681, 0.6481916796002211), (5231612, 0.6481900664195506), (22594107, 0.6451441159966398), (10408251, 0.6440743096433128), (4931687, 0.6437701806656739), (16730989, 0.6417175351940396), (29695919, 0.6400712581580033), (15661017, 0.63925722619382), (18552562, 0.636063031366459), (22173944, 0.6356817536635903), (3959588, 0.6320888372736521), (18629425, 0.6298391582910068), (54753481, 0.6294632746936907), (14139220, 0.6283896735020333), (16403027, 0.6278455150486457), (38409878, 0.6273058374340941), (48106653, 0.6268974588028718), (49576389, 0.6264205998883142), (64460847, 0.6253362865689376), (4326095, 0.6249727239253369), (418014, 0.6242007124781214), (20810258, 0.6238804017669908), (28750206, 0.6229465394408117), (33520160, 0.6215513272604595), (44292804, 0.620967655235816), (64061245, 0.6202883878900592), (15468138, 0.6202673232211899), (18647202, 0.6182927404925933), (19259304, 0.6173777013286014), (24563432, 0.6163482258540824), (18659205, 0.6161724006905616), (927688, 0.6123215525028876), (27558617, 0.6122316658368512), (21383393, 0.611855267658824), (22739040, 0.6107988087162982), (5624725, 0.6101770313443592), (24685034, 0.6090702267294745), (8958648, 0.6079336991239597), (7919897, 0.6067290660058201), (3219138, 0.6057099258976837), (27618937, 0.6056682558933086), (4745646, 0.6045427022963266), (33466034, 0.6044098214542551), (17264435, 0.604085630432384), (33779977, 0.6038139814456602), (28973689, 0.6035434706611406), (19075485, 0.6029713799462042), (34722655, 0.600364266334042), (37583, 0.5992294289569399), (58129585, 0.5990988263515425), (49248293, 0.5981227957365107), (4173662, 0.5963073209844587), (7751498, 0.5961627315322722), (5702207, 0.5956108251062414), (16857392, 0.5946553798358147), (24419667, 0.5940247560767562), (2065229, 0.5925153632403428), (11610862, 0.5895251318544021), (4683510, 0.5887841879012181), (3602925, 0.5886930893822115), (36642993, 0.5863452749104099)]\n"
          ]
        },
        {
          "output_type": "stream",
          "name": "stderr",
          "text": [
            "INFO:werkzeug:127.0.0.1 - - [13/Jan/2023 10:35:56] \"\u001b[37mGET /search?query=Most+expensive+city+in+the+world HTTP/1.1\u001b[0m\" 200 -\n"
          ]
        },
        {
          "output_type": "stream",
          "name": "stdout",
          "text": [
            "[(14900757, 0.7941962462806903), (1180765, 0.31930887447202966), (12028369, 0.3102117106787619), (5698231, 0.29937717361543037), (43613188, 0.2804103340482748), (5619296, 0.26182800146427265), (41050559, 0.2571711686037835), (48481721, 0.24386574473724143), (6137184, 0.2305063525796864), (11875674, 0.22252290230582042), (33467288, 0.2212853840615157), (37034773, 0.2116782827093187), (35133400, 0.21007636913951053), (2859572, 0.2100650021266578), (49543223, 0.20971813252205326), (41363048, 0.20489038708545174), (59509649, 0.20367735554837463), (261790, 0.20220864313291637), (38911950, 0.20053793558991978), (5924085, 0.19787935725158487), (3138655, 0.1932182275430871), (6801673, 0.19163249420613754), (898670, 0.1912438144536621), (66898061, 0.19063051576433243), (59115, 0.18928708053120294), (19385355, 0.18916656727118628), (14839052, 0.1869249064439023), (3718947, 0.1847892025687845), (48799578, 0.18342599206951002), (17522480, 0.18337517928270483), (68068565, 0.18271468878551003), (533449, 0.1811592759799611), (12068547, 0.1809463343415098), (11974382, 0.1805320807385857), (41570222, 0.17728656513327073), (62726850, 0.17643605680045124), (2305669, 0.1759206622865195), (59840757, 0.17488158505845022), (342238, 0.174355648452715), (61232994, 0.17343064817522988), (27829687, 0.16995480031805316), (543640, 0.16928422410415883), (33334787, 0.16914049014296406), (35626350, 0.16781648928118748), (35626452, 0.1675513801313351), (31564, 0.16702650974790045), (33727, 0.16693003184727517), (858660, 0.16646853613300008), (45679959, 0.16621445063351467), (64271, 0.1660462048525833), (60781368, 0.1645289741735695), (51053436, 0.1640671767121086), (290574, 0.16180098868374534), (35863242, 0.1616908906910074), (2558172, 0.16139391825697222), (38714, 0.16060347387908502), (48793069, 0.16038177271414295), (3701028, 0.16003034666180269), (2074704, 0.1596822015541284), (644041, 0.15965049947071494), (42118382, 0.15900100836515196), (225016, 0.15805658658466898), (160318, 0.1579777523811768), (9724329, 0.1576804993490474), (276722, 0.15764840994076187), (67098998, 0.15748051612629366), (48798834, 0.15716849924939197), (453602, 0.15704326992617104), (1949325, 0.15436919925910542), (14101552, 0.1543050346494418), (33923259, 0.15407940628793365), (9000077, 0.153030303865809), (2310791, 0.15243850310992355), (26057817, 0.15113065618690513), (46989910, 0.1510573232487686), (534511, 0.15097405724896293), (31297385, 0.15091823388895567), (19597401, 0.15085541409645778), (42782898, 0.1506937565352917), (2722052, 0.1506758712561136), (33350132, 0.150662608767606), (70841, 0.15029708554574264), (666079, 0.1500507160741213), (54482594, 0.15002904642898748), (27353116, 0.1497675502976393), (525145, 0.1496118955288131), (511568, 0.1495878797169386), (3998593, 0.1491364607446348), (62451, 0.1490259689048736), (12428752, 0.1485785988116955), (446147, 0.14843732555647163), (23013411, 0.1483762176551393), (41058585, 0.14830574964611082), (22382924, 0.14751420649053343), (2920842, 0.1474927338106697), (30808264, 0.14720643523492374), (50757607, 0.1470542708714597), (52215153, 0.14685373322242054), (46951324, 0.14675738471718192), (7533527, 0.14583670907486782)]\n"
          ]
        },
        {
          "output_type": "stream",
          "name": "stderr",
          "text": [
            "INFO:werkzeug:127.0.0.1 - - [13/Jan/2023 10:35:57] \"\u001b[37mGET /search?query=India HTTP/1.1\u001b[0m\" 200 -\n"
          ]
        },
        {
          "output_type": "stream",
          "name": "stdout",
          "text": [
            "[(16891417, 0.8768018933168197), (5864614, 0.8273291621474819), (4635441, 0.7944352094182655), (17774253, 0.7695645832436495), (31322278, 0.7452607396854641), (14604, 0.6940092265235832), (32567500, 0.6931012737121116), (4635597, 0.6877250707754151), (20522221, 0.6810644886463572), (9264722, 0.6806960680776916), (2307026, 0.6761747180225219), (19242991, 0.6731443194111776), (26408492, 0.6711152177216567), (32114973, 0.6658123181449714), (4108998, 0.6592654150691949), (19394173, 0.6547700775220622), (4330279, 0.6475869433490851), (1928513, 0.6453576099384258), (19232015, 0.6293855365572889), (3776800, 0.6233238498155437), (1020923, 0.6160005288457078), (24106259, 0.6149534464692409), (3315459, 0.5993567060839773), (23635692, 0.5984748720666486), (1417832, 0.5978257011500094), (14533, 0.5952676848842745), (18328956, 0.5896322318356663), (71232, 0.5871069425472776), (1248983, 0.584060700004344), (30986954, 0.5796055154748847), (6331742, 0.5782669114539837), (283772, 0.5774693157282711), (7166679, 0.5743748843749378), (720414, 0.5736777333910672), (10139138, 0.5711047991945972), (13485141, 0.5679498808471969), (24724270, 0.5677067662035995), (4426463, 0.5657046985056857), (17884694, 0.5622142623096925), (4208015, 0.5622014306792833), (34323584, 0.557956590490402), (16994364, 0.5577568248090217), (2837147, 0.5571941705304935), (18112464, 0.554717735932204), (2206967, 0.5540169453770194), (22127666, 0.5477023939726816), (1932597, 0.5473337022997448), (293133, 0.5440928557777451), (848489, 0.542604852778959), (32233946, 0.5415234487919367), (3667867, 0.5408375901321875), (977281, 0.5389361724801941), (16558368, 0.538698297561668), (1759337, 0.535810132056813), (36193743, 0.5353691855858951), (7231924, 0.5351364017931862), (17264574, 0.5343492173511407), (15343080, 0.5340810081665576), (43281, 0.5303577170859463), (4940030, 0.5302784685028151), (33253501, 0.5302472659010463), (7765366, 0.5262732173543834), (6449226, 0.5244138952146936), (2801288, 0.5240626098341432), (36303530, 0.5239989978321975), (1054908, 0.5232749972327922), (20518693, 0.5228594107917327), (19830652, 0.5228381176626562), (5116487, 0.5222474892477614), (26720737, 0.5209077419766257), (28890032, 0.5181112773238674), (23859009, 0.5163442704902522), (19842798, 0.5149654710156362), (3298895, 0.5137608883416297), (16658222, 0.5136891383279618), (2297597, 0.5128216624329988), (27433705, 0.5113737207478941), (29794284, 0.5081475381085464), (4200203, 0.5034005442052589), (26162242, 0.5017311056284963), (16446907, 0.5008498442143878), (11899945, 0.5008352326036899), (26766147, 0.4990287172611531), (1193781, 0.4983610018811461), (36665258, 0.49834310643599145), (31012039, 0.4981171758518253), (31752438, 0.49786894325947567), (35961731, 0.4975929568138119), (22909319, 0.4962979702648525), (7143596, 0.4936981255361104), (33495491, 0.49324760708282583), (33131666, 0.49227411497751655), (26682963, 0.491899348822557), (32760085, 0.49119375148127725), (23156904, 0.4911476122595822), (26457880, 0.49078173558801547), (22905094, 0.49066959227008244), (26529218, 0.4887180426984193), (1472206, 0.48795437875260855), (32151514, 0.4879472045267099)]\n"
          ]
        },
        {
          "output_type": "stream",
          "name": "stderr",
          "text": [
            "INFO:werkzeug:127.0.0.1 - - [13/Jan/2023 10:35:59] \"\u001b[37mGET /search?query=how+to+make+money+fast%3F HTTP/1.1\u001b[0m\" 200 -\n",
            "INFO:werkzeug:127.0.0.1 - - [13/Jan/2023 10:35:59] \"\u001b[37mGET /search?query=Netflix HTTP/1.1\u001b[0m\" 200 -\n"
          ]
        },
        {
          "output_type": "stream",
          "name": "stdout",
          "text": [
            "[(1899768, 0.543646382608942), (739435, 0.5020327252609942), (2287447, 0.48640209355259584), (1276539, 0.46833510033018333), (928908, 0.4591557748177819), (1870228, 0.417809247512572), (1276547, 0.4149911191508804), (16085822, 0.41061055840109734), (19944291, 0.3923469837491508), (390000, 0.3913885045999164), (10191516, 0.37518086000659684), (2371905, 0.37440567905044314), (1516835, 0.36769730636304976), (5844373, 0.3630816396663571), (217752, 0.362709167850898), (360101, 0.36236316601958624), (8983183, 0.3615106403961316), (3230600, 0.36010344921424786), (54923, 0.35749425311967065), (8905576, 0.3536081460795147), (23830729, 0.34303928222039004), (1407354, 0.34183283168608125), (2697263, 0.3414904119800352), (1132487, 0.3341283880837566), (12542421, 0.332545340847135), (1928632, 0.3307799305463567), (5921826, 0.32929879313648114), (333695, 0.3270569071061732), (211982, 0.32551227776580594), (8898866, 0.32441135652290526), (2407356, 0.3221114964522178), (586034, 0.3209230496331396), (2237778, 0.32059101516605987), (458096, 0.3189380875357795), (15092842, 0.31500945689688953), (12190601, 0.3124302722056604), (5578890, 0.3098156166046343), (12789839, 0.30876629945941975), (14610161, 0.30806874343677304), (5483682, 0.30711206887303877), (607653, 0.3067970390546727), (1271393, 0.3051531332680457), (3914099, 0.30327601249827146), (2763667, 0.3023003137762512), (22156522, 0.300781740271675), (7417602, 0.2997703779265875), (19153652, 0.298103057585317), (23234635, 0.2952005958597), (26017073, 0.29473044620095645), (1516834, 0.2935296693026487), (16160530, 0.2917662442027232), (1370831, 0.2900157130454862), (14134529, 0.2873542185708778), (17519943, 0.2858715425984675), (17284410, 0.2854056635531832), (2560871, 0.28370105463850004), (10098006, 0.28318472620368573), (7474448, 0.28304399815947234), (1573959, 0.2830216912614088), (6614632, 0.2812220830011789), (21160878, 0.2802692634670116), (285544, 0.2801442332475819), (28098927, 0.2799950133888155), (28825611, 0.2788279785012292), (48195, 0.2784115549989277), (8987438, 0.2775523043176891), (9481357, 0.27721299789450826), (2967511, 0.27706424906903065), (761731, 0.276899505193393), (1231123, 0.27687353437991236), (19187999, 0.27676219224291687), (3921228, 0.2759957255878086), (236999, 0.27591688777510087), (3345949, 0.27437797499440464), (2804877, 0.2720681613105103), (48266, 0.2707977614100165), (8716643, 0.2705835446852238), (6938424, 0.2705592891124715), (187886, 0.26757998162329116), (1104562, 0.2669505628148981), (28825495, 0.26032980676170675), (2337354, 0.2600098976340199), (3670504, 0.25985102473131677), (2996729, 0.2591415475611275), (745184, 0.25746387274707855), (1297457, 0.25592521667117607), (1137328, 0.25529845831067693), (2347597, 0.2551619477568572), (2150860, 0.25446919857814554), (25279006, 0.25298470578091714), (2942385, 0.2528194384931048), (6801673, 0.2527991118662972), (6938487, 0.251983307854723), (1581171, 0.24936894461780895), (17147457, 0.24922282205737847), (177037, 0.249137798598347), (737005, 0.24872314040755655), (6490640, 0.24803156756479042), (24650416, 0.24749345368345566), (10942970, 0.24734439332380292)]\n",
            "[(175537, 0.898034723473711), (56312051, 0.8873984239005309), (60156461, 0.8577111489151045), (50276542, 0.8316894178465455), (59579565, 0.7930360054906084), (50602056, 0.7731662197159), (50137861, 0.7707769673458889), (53650146, 0.7425093818749925), (63858114, 0.6958555333855158), (60934132, 0.6853259973944362), (68287738, 0.6756787697184873), (62794842, 0.667187524393603), (22726888, 0.6158186840288533), (68062905, 0.6079389282555979), (42530665, 0.6019828540306044), (59975013, 0.5516957355200578), (50276487, 0.5431446744436517), (62909483, 0.5386136811902636), (59624847, 0.5349780170024175), (65023305, 0.527396345895344), (64359336, 0.5252088229737069), (58862064, 0.5187955083983853), (17473625, 0.5175972068277365), (48555270, 0.5158105731074113), (65911573, 0.5078191910732841), (64045423, 0.5052808270095501), (53112528, 0.5008917509703024), (65861782, 0.4988231726143538), (54344025, 0.4905749566942636), (59080168, 0.4861125879011179), (61296772, 0.4810605147555523), (68289602, 0.4778482541712189), (58085451, 0.4769555579607779), (61511811, 0.4769342440956462), (60868470, 0.4758065769841489), (65387522, 0.47511713907212283), (61402602, 0.46907026057236006), (59715122, 0.4673141683076091), (61375060, 0.46147068554325044), (12256291, 0.46048557024732917), (61496399, 0.4598743093746558), (64670312, 0.4591672561856795), (61468197, 0.45630518011331106), (61360931, 0.4516902196428149), (58931395, 0.45101619865056747), (61425353, 0.45055290641910745), (61330197, 0.444410132168642), (66535758, 0.4437571915526801), (65267095, 0.4394817420361434), (59593813, 0.4388659812429508), (64253398, 0.437479131226399), (58735561, 0.436588013535318), (61346924, 0.43611616609576653), (54050045, 0.43520068063105455), (66501044, 0.4262006027591014), (66424446, 0.4236052235842299), (57301074, 0.4226593763105019), (68107106, 0.4226399603666975), (61082958, 0.4221633281707438), (44307005, 0.4214713143338259), (58489290, 0.42125916087400417), (55224495, 0.4191246380347865), (63832141, 0.414896620003062), (61402382, 0.4145830614961434), (61503969, 0.4129150498703243), (58353511, 0.4109771120650235), (61487253, 0.4101348048912076), (68174678, 0.40652558623797735), (39740438, 0.40549518535864354), (64776782, 0.40533303750615884), (62014279, 0.4036841849581828), (62377853, 0.40258027485944703), (64555525, 0.40144485912799427), (61294403, 0.4012864770164369), (59080126, 0.40108616260169727), (64634947, 0.4004396373640187), (59187942, 0.3997517527194554), (64056644, 0.398041567546638), (61318673, 0.39419812534386983), (56742070, 0.3930461497821179), (66949530, 0.3916484451521876), (59623587, 0.38993406310871115), (61482981, 0.38873215365470426), (65802073, 0.3857146957932607), (65183914, 0.3850694329736483), (62760153, 0.38504408173410953), (58660068, 0.3833826953793436), (50612943, 0.3829114371933839), (68344015, 0.38286937718265174), (62760259, 0.3818495636807043), (67923625, 0.38170965882097607), (44462996, 0.3804803803775139), (65513198, 0.3770382603428079), (64024642, 0.3770225464626154), (64385698, 0.3755814704368368), (51757246, 0.3755569631821746), (65345615, 0.37517281684920323), (57295913, 0.3742285444219924), (60021859, 0.3737293766225003), (66525946, 0.37351670910820484)]\n"
          ]
        },
        {
          "output_type": "stream",
          "name": "stderr",
          "text": [
            "INFO:werkzeug:127.0.0.1 - - [13/Jan/2023 10:36:00] \"\u001b[37mGET /search?query=Apple+computer HTTP/1.1\u001b[0m\" 200 -\n",
            "INFO:werkzeug:127.0.0.1 - - [13/Jan/2023 10:36:00] \"\u001b[37mGET /search?query=The+Simpsons HTTP/1.1\u001b[0m\" 200 -\n"
          ]
        },
        {
          "output_type": "stream",
          "name": "stdout",
          "text": [
            "[(5078775, 0.7878636877212544), (1344, 0.7754785194148389), (36071326, 0.7395569464601333), (17761044, 0.7258822178899054), (2117, 0.7208607399351628), (3896290, 0.705280870327566), (46378222, 0.702081029120931), (856, 0.6961358931153299), (2116, 0.6951136768930607), (6771637, 0.6926260348327609), (2593693, 0.6828068617900372), (38117537, 0.6766309487438485), (26328591, 0.6715659779016285), (646886, 0.6662221451511888), (3540442, 0.6641054307970343), (3043698, 0.6608593469834905), (54566027, 0.6561182421503527), (20116828, 0.6530242664477188), (60337415, 0.6468482918336086), (23818735, 0.6414635656572553), (37656556, 0.6398611846978234), (60328532, 0.6367930268262246), (46924608, 0.6337215778991295), (4399093, 0.6308551415882568), (43248659, 0.6150510354995944), (27099898, 0.6136444247752633), (13567431, 0.6117736108482763), (8953690, 0.6106534238006522), (6963544, 0.6099731217540388), (333284, 0.6063983958955618), (2843516, 0.6033598912124838), (65322537, 0.6015451193302547), (11377310, 0.600033886183186), (1328154, 0.593123154822615), (6835064, 0.5920342610711526), (65322906, 0.5886193401645561), (34251789, 0.5833280984302255), (27172704, 0.5830288998680314), (44840893, 0.5824437782493024), (46318869, 0.5804602406964792), (56081445, 0.5802559832465669), (2275, 0.5775827659119929), (51574501, 0.56868404689009), (48552897, 0.5662774260322906), (4399117, 0.5657253085518423), (1655028, 0.564201926250837), (1159939, 0.5637451562579936), (45444629, 0.5623684433900444), (187668, 0.5620267877758844), (6047626, 0.5613762742122831), (1701911, 0.5598518388553549), (63565439, 0.5562588405027977), (44953264, 0.5544687943061034), (3323030, 0.55439811317092), (17047860, 0.553110066605236), (24455276, 0.5512337338935326), (43782487, 0.5480306265254078), (782825, 0.5477649187995735), (1280893, 0.5463625744964554), (501016, 0.5455151409857605), (3438268, 0.544450540151726), (4375805, 0.544414720344242), (54509274, 0.5431059602187079), (3468687, 0.5419685831564552), (2548857, 0.5404013066728), (58848, 0.5398475100577319), (32672164, 0.5395720944489683), (6428471, 0.5380261195354838), (35005459, 0.5379274607023529), (711599, 0.5369177136603795), (60328680, 0.535354726336205), (4691, 0.5326306240777728), (64573107, 0.5284677319280973), (73262, 0.5255883917558352), (11833883, 0.5253713549996214), (3896256, 0.5253647781240978), (10938601, 0.5235267823694135), (3024106, 0.5219135782835771), (19841003, 0.5218660230772455), (47007515, 0.5212076569870396), (11065483, 0.520112070410952), (48552793, 0.5198451258187857), (55216958, 0.5180364988646992), (48810494, 0.5175346199255276), (45688399, 0.5165531243830161), (38276394, 0.5163136817423082), (3220218, 0.5160596708562224), (15357987, 0.5138949995065836), (21074568, 0.5122371630354605), (37494991, 0.512036824073173), (45459702, 0.5118831601706055), (5817541, 0.5116751422101379), (46928132, 0.511268890961115), (19655580, 0.5105357016773358), (18836441, 0.509135673576118), (4277038, 0.5087409009601923), (28921359, 0.5085583262832304), (40780688, 0.5059874784282128), (39638483, 0.5058653347894041), (9333997, 0.5045946364634811)]\n",
            "[(17989582, 0.9437347862418559), (59742078, 0.9336698675544676), (5398677, 0.884780509451883), (22423628, 0.8403863848669567), (40572206, 0.8302278447525909), (38408753, 0.7931724318039007), (29838, 0.7172896045879106), (10160715, 0.7113146788435434), (38394218, 0.6879878662951064), (6137094, 0.6843063357293665), (36665207, 0.6757964810898442), (20852645, 0.6602657706388901), (6800823, 0.6521997382293632), (9306179, 0.6433486519946651), (5316258, 0.617690864378196), (17989349, 0.6073126336750385), (33169733, 0.5983160173533972), (33350132, 0.5871756917795553), (42815656, 0.5780724455005742), (2733863, 0.573527445874861), (1347064, 0.5731810444490859), (14464155, 0.5607730147386362), (3666538, 0.5595753637581468), (2034912, 0.5582666495973793), (323170, 0.5546260928312031), (2956962, 0.5542835255646967), (66658488, 0.542508273783251), (2811620, 0.5389949015012191), (3845777, 0.5387730948546509), (21412104, 0.5358090176178957), (144500, 0.5331133988150747), (1791250, 0.5327340786930358), (21120848, 0.5321583771295261), (40008080, 0.531250044520485), (4939277, 0.5304922966503207), (1736976, 0.5302849019000927), (4853509, 0.5284764010393705), (2035000, 0.5238215314366111), (64526262, 0.523144513294015), (42602126, 0.5171222014557075), (223178, 0.5123189104604021), (1222285, 0.5112892504145599), (1722118, 0.5106342736583727), (37410690, 0.5102815179807619), (140332, 0.5100936510092372), (1764152, 0.5098290351531636), (1093883, 0.5095995424383395), (23963855, 0.5080039268653568), (3333929, 0.4976857223559641), (4895142, 0.4874757806631864), (28194879, 0.4853916855540273), (46626411, 0.4830234273511745), (1400558, 0.4659073585677397), (19266557, 0.4626982334692597), (1919500, 0.46158251250097837), (60938607, 0.4592529240452694), (2741433, 0.4591069447168517), (1782981, 0.4549938274428411), (226711, 0.45490327017572174), (6199876, 0.4536433462825695), (9410972, 0.4519624338996084), (24789504, 0.44702768623431727), (34023450, 0.4469046243470608), (45049579, 0.4443023783298145), (42248286, 0.4399885037049728), (34351, 0.43975839977555753), (10538843, 0.4332459277824546), (1385882, 0.43254869348348707), (3290554, 0.42921701717297095), (29394372, 0.4281625839816159), (222231, 0.4280989724309435), (4894574, 0.4273626814371779), (3126755, 0.4261948209915395), (5398547, 0.425299356153334), (40371058, 0.4229386990282548), (4852282, 0.4210209723575885), (42824296, 0.4209514378859626), (5505095, 0.419485403874653), (2080959, 0.41897550506177444), (40371075, 0.4173774118432134), (9840054, 0.41503438006472615), (11028525, 0.4144082092442216), (47123340, 0.4139564076522865), (30772222, 0.4138689591287359), (1825660, 0.41302998175576017), (915984, 0.41266545095913193), (1466966, 0.41073257759414283), (49387265, 0.4102319420522565), (5315937, 0.40978045356208836), (5153880, 0.4079069168352972), (4939044, 0.4069864852255032), (1790277, 0.4064028754554947), (1784993, 0.4059401303225365), (188572, 0.4056589528763027), (65262153, 0.40538139145436336), (16936433, 0.4033527147192762), (5525457, 0.4032854821260959), (667919, 0.4018823201209343), (4939087, 0.4007283285299294), (5199948, 0.39994587694098754)]\n"
          ]
        },
        {
          "output_type": "stream",
          "name": "stderr",
          "text": [
            "INFO:werkzeug:127.0.0.1 - - [13/Jan/2023 10:36:03] \"\u001b[37mGET /search?query=World+cup HTTP/1.1\u001b[0m\" 200 -\n"
          ]
        },
        {
          "output_type": "stream",
          "name": "stdout",
          "text": [
            "[(33727, 0.7383037596177142), (88178, 0.6388973638871162), (511825, 0.6025589435367817), (584860, 0.5521974567996458), (310124, 0.5382519895537976), (66968, 0.5316960393899222), (88184, 0.5268909200097175), (1154950, 0.5120406569659313), (701381, 0.5102926272765452), (1007536, 0.5098027739551978), (250687, 0.5032023349688715), (1108921, 0.4871543617683444), (11370, 0.4863589374632522), (617795, 0.4671250991157131), (592115, 0.45058469929581496), (655973, 0.4473342660719063), (865679, 0.44446729007608365), (748071, 0.43571729599057885), (377435, 0.4185034734700975), (266217, 0.4171639267638736), (463373, 0.40857278445166906), (827488, 0.40768194037212735), (860510, 0.40755994685001806), (52622, 0.40669219927377), (157233, 0.40223208849318315), (516542, 0.3960777128519465), (7239, 0.39491856964792577), (263861, 0.39009496073300176), (426859, 0.3898755977262871), (250204, 0.388841547369266), (20485, 0.3884777671770658), (509620, 0.3881530204633049), (40377, 0.3874730775883979), (60986, 0.38688959383436106), (337009, 0.386114008203582), (224741, 0.38535503425400364), (582488, 0.38474721514968807), (1056206, 0.3841685089272001), (486954, 0.3832928339146972), (250197, 0.38252044314408906), (1137439, 0.37958654390528684), (126460, 0.37799804984042534), (313189, 0.3764301141748881), (441474, 0.37499174242236505), (230656, 0.37062036981603824), (377431, 0.3694387571522188), (636792, 0.3669816136558676), (684861, 0.3655518200844016), (321027, 0.36468645516491066), (1177084, 0.36326937609503784), (225312, 0.35893527942351927), (244862, 0.35716190503593004), (147793, 0.35538952549795916), (617924, 0.355187275299254), (1150100, 0.3546761214560589), (443111, 0.3541707067643647), (1024940, 0.350968920730057), (59879, 0.35037251966586325), (11237, 0.34710567671557935), (616557, 0.34307207319766525), (230107, 0.3429302743502785), (208632, 0.3427540338136702), (163104, 0.33957076383648993), (303882, 0.33774723381764915), (144982, 0.33753203253220887), (224743, 0.33579883832478397), (103117, 0.33255468372660935), (224736, 0.3325412771302886), (272865, 0.32963390474936405), (224740, 0.3295570361714856), (916658, 0.32836364682557817), (218576, 0.327806959318089), (377437, 0.3249199212045149), (616567, 0.3248431555556248), (157227, 0.32468221044261153), (161161, 0.32351871023044465), (465812, 0.32343548892620727), (362466, 0.3234076162811415), (25406, 0.32323082710855017), (1006061, 0.3213336161483851), (308075, 0.3198726371984386), (224727, 0.3189531818922158), (628242, 0.31892125073211636), (629560, 0.31678265805830186), (61629, 0.3164212427937584), (254079, 0.3160747605609809), (1130049, 0.3151895082028997), (1013063, 0.315003509309764), (9904, 0.3135845915934724), (1017436, 0.31237672007921946), (276972, 0.3122742030478221), (224742, 0.3121151851624815), (1125764, 0.3118362520269935), (1083920, 0.3106050034046036), (222889, 0.30981822863796304), (600364, 0.30976770020136996), (1125416, 0.30849387548112583), (406496, 0.3068055149038624), (403179, 0.3059570108296509), (392975, 0.30481054402906665)]\n"
          ]
        },
        {
          "output_type": "stream",
          "name": "stderr",
          "text": [
            "INFO:werkzeug:127.0.0.1 - - [13/Jan/2023 10:36:04] \"\u001b[37mGET /search?query=How+to+lose+weight%3F HTTP/1.1\u001b[0m\" 200 -\n"
          ]
        },
        {
          "output_type": "stream",
          "name": "stdout",
          "text": [
            "[(65484056, 0.687254953377173), (36661251, 0.6153332395632272), (42169986, 0.6060148588508968), (35375144, 0.5850703779370712), (3549164, 0.5787064481831276), (4763277, 0.5771880629518572), (62693167, 0.5706146887390631), (3674162, 0.5689773205472354), (5926921, 0.567355467966247), (49299122, 0.5621457555783571), (6182877, 0.56096968484036), (3008060, 0.5502728080121212), (43574875, 0.5483656030302346), (30176489, 0.5407192431964554), (7659797, 0.5369038491125943), (47427091, 0.5105034705449424), (68230723, 0.5056320539932604), (43158470, 0.4957551308857894), (26435514, 0.4932773095180763), (5024962, 0.47624665044227926), (50870843, 0.47339719555873666), (44132626, 0.4716459704780696), (27248907, 0.470991827606374), (48732546, 0.47032461615464227), (2114141, 0.4679859131291644), (23413960, 0.46058244016968297), (48934337, 0.45937478348404664), (4158437, 0.4555103565869669), (28498472, 0.45444019487498444), (8652125, 0.4519599237853307), (23414617, 0.44478910532600036), (60211493, 0.4398428783970162), (62845936, 0.438189450650096), (27360069, 0.43750989418023756), (28311889, 0.43726457051889134), (400199, 0.43359035937441226), (33931, 0.43130475814458324), (43472346, 0.430908041559548), (63518895, 0.43063317095702525), (54648373, 0.43023121307760853), (39963493, 0.4237649997197749), (31429041, 0.4204527023243176), (65939870, 0.4183266185933482), (65859922, 0.4183162019172522), (35281209, 0.417163729817897), (22875022, 0.414275134310287), (33989236, 0.41419974303370544), (28198251, 0.40848716424645853), (65004286, 0.4073739159088), (1995486, 0.4056755436798761), (61224044, 0.40456024743958663), (37261538, 0.3988931317731146), (29930090, 0.3959249973976536), (22258530, 0.39463384265433077), (40196738, 0.39462740010177416), (49317035, 0.39203968424988656), (20455395, 0.3910701051834117), (44276539, 0.3908242921852251), (45387674, 0.3901805370929425), (7336718, 0.3885415297431659), (6415254, 0.38790213116951033), (9947735, 0.38784679645731207), (2356970, 0.38729159042418526), (1060920, 0.38638580513681275), (1962706, 0.38388483333636525), (1148926, 0.3832145101420532), (35281096, 0.38127437703384975), (29735179, 0.3808898557336193), (27268344, 0.3786620636122622), (49328579, 0.3771376259067453), (59339411, 0.3766914129125444), (318380, 0.37500622874268524), (52512371, 0.3716821654051351), (28396636, 0.37123939129964634), (6286355, 0.3690057040827608), (56535215, 0.36655406110236444), (5646268, 0.3634613957991017), (10955109, 0.36127952057121426), (48958800, 0.3607480808406719), (44574, 0.359098214534184), (61607703, 0.3588193717732634), (36576043, 0.3578723424764488), (24510913, 0.3555653470219432), (4180990, 0.35402552326723136), (25362559, 0.35187590546143066), (10447682, 0.34849220722742036), (52968623, 0.3440793612509833), (14476384, 0.3433599145663908), (1958879, 0.34334919393909247), (727293, 0.3432979295348661), (37622156, 0.33760208146489346), (29243665, 0.33560952887597006), (30039487, 0.3338735131020953), (62306014, 0.3338133394805491), (594473, 0.3337693452878143), (52924169, 0.3330784069024729), (15581883, 0.33198348867227395), (2029766, 0.32931448016311693), (29829474, 0.32352888343042613), (8772747, 0.3191656406930809)]\n"
          ]
        },
        {
          "output_type": "stream",
          "name": "stderr",
          "text": [
            "INFO:werkzeug:127.0.0.1 - - [13/Jan/2023 10:36:04] \"\u001b[37mGET /search?query=Java HTTP/1.1\u001b[0m\" 200 -\n"
          ]
        },
        {
          "output_type": "stream",
          "name": "stdout",
          "text": [
            "[(15628, 0.9419987335697285), (61252439, 0.93526528082216), (16528, 0.90275005889844), (15881, 0.8676548578788508), (4718446, 0.8577746604831041), (16812303, 0.8235090367291813), (69336, 0.8154459191566746), (57820409, 0.8104436312509697), (2257691, 0.8075996234263502), (54993399, 0.8004465249410151), (41893580, 0.7967822058397968), (38134332, 0.7871694495516345), (47555381, 0.7788901734337671), (10069674, 0.7767747282108759), (24070385, 0.7680913875242565), (16831098, 0.7620237977004082), (5516020, 0.752706096208621), (66978953, 0.7469317340014401), (8786357, 0.7420949172635593), (59426888, 0.7373810164269934), (8244918, 0.7347173675176059), (1763516, 0.7332697095677282), (16718543, 0.7289600163046359), (1688277, 0.7263813304309431), (5457138, 0.7187053695722354), (2070564, 0.7178706677559525), (35642213, 0.7174345446761347), (8422052, 0.7170938815355146), (1688253, 0.7139782038294576), (67302429, 0.7107753680640679), (2641984, 0.706786806038002), (20553764, 0.6993411773398021), (24005782, 0.6973578731121814), (5157538, 0.6892286260285568), (2053131, 0.6827406071680028), (3176460, 0.6736557384019122), (57820263, 0.6727706777771748), (2252832, 0.6727297332494541), (49286497, 0.6705035935206547), (9036753, 0.6663555664115028), (24326521, 0.6655974278365979), (43172667, 0.6651130031031581), (320443, 0.6634575799177929), (10402170, 0.6634107321356942), (127604, 0.6623068001713857), (52323572, 0.6567616822053327), (417562, 0.6559746382704927), (59426934, 0.6553738056981604), (59426909, 0.6540801615272002), (7771171, 0.6485833654950399), (1003043, 0.6470117575866704), (38321273, 0.64632924494913), (385258, 0.6448584527182057), (3820941, 0.6445800053037799), (44562730, 0.6445024201250038), (3446669, 0.6421243017996902), (8937402, 0.6415768268742882), (28465635, 0.6406376616307776), (24920873, 0.6376002258531338), (4674178, 0.6364173632352288), (4221272, 0.6362800803868881), (47554194, 0.6355983542187366), (43460343, 0.628211995308992), (43641732, 0.6242880737733612), (1956739, 0.6210662356780973), (10131791, 0.6196317466415562), (29005530, 0.6190646280753992), (16840885, 0.6181084863062468), (38680880, 0.6177598588445801), (33133720, 0.6177432579985741), (42922, 0.6174727578978811), (5863400, 0.6166445280030991), (42870, 0.6138029479427372), (453584, 0.6135359797889557), (21981310, 0.6114052239961875), (15188443, 0.6109759346648301), (1483064, 0.6095189819514012), (2482714, 0.6059239830069327), (44675725, 0.6026793671520742), (1496061, 0.600690270600296), (21006877, 0.6000586616588938), (53078721, 0.5993507087746356), (338879, 0.5992713764908906), (14248002, 0.5971274001499314), (2457823, 0.5953323928270361), (8619797, 0.593500615934311), (39350506, 0.5929067480591069), (8602424, 0.59203567735201), (26112038, 0.5919981434572976), (12960400, 0.5893864328447841), (10038938, 0.583505240987514), (10772582, 0.5820026327122989), (24326544, 0.5807061024871023), (2001574, 0.5797590881080099), (177789, 0.5795284541369946), (14910351, 0.5794584390390675), (1179384, 0.5792060222658796), (42423982, 0.5790712245006441), (16776738, 0.5783011180061962), (2078369, 0.575165781383319)]\n"
          ]
        },
        {
          "output_type": "stream",
          "name": "stderr",
          "text": [
            "INFO:werkzeug:127.0.0.1 - - [13/Jan/2023 10:36:06] \"\u001b[37mGET /search?query=Air+Jordan HTTP/1.1\u001b[0m\" 200 -\n"
          ]
        },
        {
          "output_type": "stream",
          "name": "stdout",
          "text": [
            "[(1394509, 0.8831845433291612), (18941209, 0.7880298792303365), (150109, 0.7787550103923073), (11681334, 0.767468771763938), (16278877, 0.7655926996767949), (57238888, 0.7330737583231786), (34915647, 0.7315104751393646), (2855993, 0.6995618259493835), (36415003, 0.6934836756681587), (25020485, 0.690845366955473), (6199097, 0.6838978961194547), (480455, 0.6678582418081651), (31583084, 0.6660174036997776), (59986033, 0.6594368563608828), (59805922, 0.6585734525940498), (59986028, 0.6585734525940498), (2012410, 0.652934479699707), (30974750, 0.6501817208019562), (15332689, 0.6463206581565017), (6032831, 0.6462193978186322), (26172998, 0.6461236635703446), (12323589, 0.6445600670862692), (15723, 0.6426163997334411), (57250904, 0.6422370694894437), (30974753, 0.640849132848664), (2437337, 0.6405806175854467), (30974744, 0.6400657989801051), (2308773, 0.6360446080872878), (1371219, 0.633833252643675), (26173045, 0.6287598329240056), (26173024, 0.6287367168597005), (26173029, 0.628642546903809), (26173046, 0.62859733052423), (26173021, 0.6285306926479065), (26173026, 0.6284975500762228), (26173023, 0.6284350947794142), (26173013, 0.6281563271046084), (26173015, 0.6280326883094209), (28180831, 0.6280309916514003), (26173020, 0.6280118228604635), (26173008, 0.6280047614901586), (26173012, 0.627782104931051), (26173010, 0.6277673585071024), (26173009, 0.6276521398527322), (26173007, 0.6274966781565385), (9565245, 0.6262358186786758), (5545192, 0.6234993119057741), (41282737, 0.6231927110292147), (44919687, 0.6179244504445552), (44910913, 0.6141297227048629), (26172995, 0.6121360096756644), (44919677, 0.6098695032220827), (44451160, 0.6064565506708215), (1786988, 0.6050214933099943), (4688682, 0.6038448104933956), (45347797, 0.6024417082279226), (11573260, 0.6009197259772214), (21339593, 0.6000931638429096), (662617, 0.5978368400775004), (677016, 0.596314382499855), (825891, 0.5957181075743584), (44919656, 0.5955259695232898), (697722, 0.594053142231783), (1312037, 0.5933153532566064), (55829829, 0.5932596366219594), (26173048, 0.5931062027213624), (26173047, 0.5929809787548568), (26173042, 0.5928851529577562), (44919653, 0.5922703944968996), (30974763, 0.5919909236705331), (26172999, 0.5917726903822109), (26172996, 0.591559713832876), (26173001, 0.5914895480384622), (44929546, 0.5913994612390359), (2644250, 0.5872583490120703), (1238368, 0.5870264260574936), (45647527, 0.5866811171408752), (29385175, 0.5865666731243426), (26173005, 0.5865615209219953), (8821313, 0.5857162735513736), (30928454, 0.5855805582529164), (63405916, 0.5842944101950983), (39313282, 0.5820265056599649), (2082821, 0.5810824737350924), (48010428, 0.5810363469968307), (44919648, 0.5803741236803902), (44919684, 0.5801110453776098), (4501894, 0.5768608173233927), (56601888, 0.5756633192457186), (1713090, 0.5747989713836034), (66871998, 0.5746610857295408), (42121261, 0.5738544483798439), (41247631, 0.5731155040495908), (20455, 0.5727737422067581), (43253453, 0.5717280682589044), (30374440, 0.5704283704900889), (47910, 0.5690320142834114), (774428, 0.5665149180608482), (28697123, 0.5660997455394714), (7187211, 0.5654984801850363)]\n"
          ]
        },
        {
          "output_type": "stream",
          "name": "stderr",
          "text": [
            "INFO:werkzeug:127.0.0.1 - - [13/Jan/2023 10:36:06] \"\u001b[37mGET /search?query=how+to+deal+with+depression%3F HTTP/1.1\u001b[0m\" 200 -\n"
          ]
        },
        {
          "output_type": "stream",
          "name": "stdout",
          "text": [
            "[(90460, 0.6802296843011926), (2663493, 0.6343098775930264), (27989318, 0.5580908124914724), (56519274, 0.5552444165097304), (13190302, 0.5507498636571341), (38289, 0.5417380853491812), (8389, 0.5377248747188815), (367358, 0.5174373247278633), (57325596, 0.5078760465830444), (42730418, 0.491527613453708), (20558148, 0.48791829524455915), (19283335, 0.4683189372690346), (7527514, 0.4683178248030964), (34161835, 0.4677906243639473), (51590116, 0.4651045213907333), (25258288, 0.45936124212948914), (39354276, 0.45585500083062275), (2367697, 0.45401167921709434), (22481627, 0.4529148638538715), (18550003, 0.45051517477418207), (38108482, 0.45012863517966173), (40819579, 0.44840520181841464), (11893034, 0.4479086041773392), (43600438, 0.44369951538271074), (21211994, 0.43907079915285674), (16280876, 0.43836634067636787), (39323552, 0.43808651870145454), (33585190, 0.43756273247891275), (2343883, 0.43557119162592106), (840273, 0.4317420283855649), (31841434, 0.42860504490109247), (35500653, 0.4174002220881273), (4804828, 0.4155158508969429), (5148171, 0.4116880241681163), (4906497, 0.4086023430752174), (64716299, 0.4067651780011883), (30875783, 0.40646507999672254), (56471308, 0.40402712386167655), (39218436, 0.4025476123257623), (16407460, 0.40118303269758465), (717119, 0.39680124609650846), (3371948, 0.3961183201398869), (20537354, 0.39570820923356737), (45310, 0.3956528765061423), (58397339, 0.39374065546337694), (1852664, 0.3932637771591674), (50251798, 0.39305745756666916), (2685269, 0.3889859576364188), (455150, 0.3886618670383798), (43875835, 0.3850008139069265), (64718565, 0.379517072746558), (27166808, 0.37848168918572267), (3025441, 0.3756342223620949), (22368946, 0.37313051947212694), (7111218, 0.3729133273366971), (20182884, 0.37230306976312294), (27979656, 0.37221553672599006), (8570473, 0.3694683286428462), (60611538, 0.3684196627997914), (9377297, 0.36831007539565525), (29806465, 0.36568645422044394), (1879108, 0.36377881842028237), (65499917, 0.3634886298620349), (28910056, 0.36201024030579515), (19064282, 0.3562170977759731), (16788610, 0.3555096042446449), (4628448, 0.34919367194429507), (4084700, 0.34827582621026), (48816876, 0.34768434039277585), (3134743, 0.3459428461770626), (30338473, 0.34529277007023396), (8606393, 0.34335590672694893), (30846934, 0.3416615084183202), (10477250, 0.339473788511184), (27982883, 0.339134339104558), (62446464, 0.3382598486475548), (25223037, 0.33721183446379865), (12351188, 0.3369644258081341), (20001914, 0.3365157749171991), (19477293, 0.3361015236227423), (53341495, 0.33560427550410216), (27424180, 0.33481572826465544), (23285571, 0.33377631327242757), (43291988, 0.3322922085962379), (10998232, 0.3313139477824883), (50664848, 0.32866469067282633), (51834319, 0.32834336920116164), (39375697, 0.32652580836209977), (1637832, 0.3246169203704068), (24257148, 0.3244789885293053), (47799096, 0.32357140849003924), (29528057, 0.3225707310228945), (20842678, 0.3203477242734097), (10574343, 0.32029497801829676), (10690259, 0.320241919387579), (791518, 0.319140579387173), (5920921, 0.31790711969119484), (28357752, 0.31738850876721453), (20529621, 0.31513217419559075), (411803, 0.3136903345872872)]\n"
          ]
        },
        {
          "output_type": "stream",
          "name": "stderr",
          "text": [
            "INFO:werkzeug:127.0.0.1 - - [13/Jan/2023 10:36:08] \"\u001b[37mGET /search?query=How+do+you+make+gold HTTP/1.1\u001b[0m\" 200 -\n",
            "INFO:werkzeug:127.0.0.1 - - [13/Jan/2023 10:36:08] \"\u001b[37mGET /search?query=Marijuana HTTP/1.1\u001b[0m\" 200 -\n"
          ]
        },
        {
          "output_type": "stream",
          "name": "stdout",
          "text": [
            "[(680582, 0.6838722408372057), (12240, 0.6803141599116121), (1291393, 0.5507653828571742), (248084, 0.5322922769199611), (37412, 0.5210120214721966), (1551612, 0.519536448151967), (1020809, 0.49884802194484745), (140672, 0.4942407717096928), (1714688, 0.4860732280941407), (59248, 0.4715827592462173), (251087, 0.4672064773486843), (491320, 0.46697890404842834), (1056205, 0.4619085083743154), (1816430, 0.4445620560780353), (55719, 0.4372113076368793), (1333268, 0.4328049963767584), (1457194, 0.42330464535725454), (59251, 0.4177752840010157), (2104478, 0.41348849649460273), (58296, 0.412405978323274), (1073399, 0.4028208852866632), (1713508, 0.4019007889994232), (1109819, 0.40108246743731524), (250687, 0.40083534488102157), (2416673, 0.3964600198426959), (469488, 0.3941829111394496), (1532191, 0.38961484976938343), (1714658, 0.38655481078046683), (2043300, 0.38574604187191136), (156331, 0.3804918390458169), (1686492, 0.37863783365561837), (1919886, 0.3746454480967526), (1875159, 0.37312364491910877), (2020882, 0.3701360795806256), (1138146, 0.3688303664403298), (48923, 0.36559870719865545), (2319173, 0.36459204895923025), (1386629, 0.3605141289112008), (764070, 0.3563754645265083), (690032, 0.3504428444141074), (2220420, 0.3497734752883704), (1560082, 0.3473286115316425), (68258, 0.34559485535549306), (1555283, 0.34500227487664814), (440357, 0.3439827847179546), (1696084, 0.34137795023034584), (472919, 0.3408469287274975), (581650, 0.3407451127430237), (900771, 0.33851738531176756), (184979, 0.3381746748679812), (108401, 0.33584197948214173), (1799274, 0.3339613633793527), (948066, 0.3281394429159011), (659597, 0.32663255972595534), (1085526, 0.32435981454621665), (390698, 0.32128094557726944), (886856, 0.320391788069423), (1073361, 0.32037434476482524), (1986505, 0.31991140207272295), (1687318, 0.3135430243589831), (2015573, 0.30882130401185875), (1725828, 0.3082372140162), (565653, 0.307760732089918), (723000, 0.3049732925076846), (293076, 0.3041874525484716), (17293, 0.30407331043728875), (900695, 0.30355216603215707), (1345759, 0.30274605713187763), (475296, 0.29748668290951025), (1633405, 0.2974506774192785), (2054315, 0.29411262612572314), (817474, 0.2919129610857006), (613119, 0.29109289014454504), (730228, 0.28814604565676216), (50567, 0.28758814984086634), (2279831, 0.2872615433573159), (1765919, 0.2862608901305256), (991584, 0.2847707791108175), (730229, 0.28417780113192015), (1027324, 0.2827608731761837), (2244517, 0.28227908734302315), (1944138, 0.2802256830037747), (1312625, 0.2800112875786059), (1070942, 0.27863680517289313), (301428, 0.2774716858341647), (56135, 0.2766287792618282), (1978363, 0.27380558149775536), (451489, 0.27327660690952704), (996437, 0.27014215989164975), (1036598, 0.2695752766395296), (407203, 0.2685705936570054), (244354, 0.26849283706799826), (1879286, 0.26688957102553224), (1686501, 0.26651740264837254), (526488, 0.26637541774648443), (1356272, 0.2637715386481547), (2064815, 0.26320602862560066), (1924285, 0.260392917408538), (1438020, 0.2600594401570312), (2104842, 0.25844875425584385)]\n",
            "[(63761424, 0.8706781036724757), (25069021, 0.7607467026713389), (39329296, 0.7516346107942702), (34985652, 0.7413986084078437), (50035599, 0.7351271027232908), (1461440, 0.717276564950509), (49719430, 0.7166535833789882), (42499944, 0.7157995750843916), (5084026, 0.7042820941845896), (33391234, 0.7018733638682225), (197036, 0.6928411782275261), (5507458, 0.6928344440455398), (20735369, 0.6871040784379682), (52211723, 0.6802754576279624), (35588776, 0.6781429783114524), (59760987, 0.6697821374277902), (6851368, 0.6686580433028353), (61198242, 0.6554512092761219), (52209994, 0.6529701815786142), (60612651, 0.6509229312479343), (21877038, 0.6501061176664126), (47499649, 0.6431991619964578), (40587035, 0.6394379591503784), (2304236, 0.6392243187064942), (383537, 0.6347388916152812), (53289635, 0.6305162031051816), (27902510, 0.6286969320573234), (29433259, 0.6268721712850066), (32598134, 0.621934431536751), (52490641, 0.6209237739864016), (50386788, 0.6111028217241044), (51017622, 0.6064062177120542), (28985374, 0.6037964833012704), (52209213, 0.6028219734290876), (59760961, 0.5944851170365629), (19920359, 0.5924682174090156), (19455440, 0.5923105486301475), (31364770, 0.5811889782290539), (43329517, 0.573674776958206), (47626327, 0.5660517112685278), (26237650, 0.5599876308482861), (38998350, 0.5532869156898251), (41003711, 0.5439911614475158), (21152739, 0.5363980004990573), (56634958, 0.5335953995378588), (39605897, 0.5326563084390658), (1227367, 0.5286991398506381), (43071573, 0.526089617395587), (60465745, 0.5235004514605932), (191901, 0.5184277400621803), (32885226, 0.5181368257552625), (47642059, 0.5153081430947383), (30870593, 0.5145966943265086), (19357, 0.5107689028395633), (52210188, 0.5106519232363133), (21693638, 0.5098986989800554), (25093824, 0.5080291969400348), (20566488, 0.5039858931930434), (52342294, 0.5030715808005823), (47408567, 0.5004270249864007), (26899390, 0.49998261544316835), (46490915, 0.4949925846918558), (26879959, 0.4947714251408809), (56214696, 0.4942741512374416), (26916417, 0.49328731031173134), (47246786, 0.4931172870844847), (1462692, 0.49104287455808365), (45544389, 0.4909710962244791), (1473650, 0.49065282301785307), (3893415, 0.4872315496705817), (56590104, 0.477739822576884), (19920357, 0.47688174541872663), (65361866, 0.47649617318403714), (31393091, 0.4741594323417268), (28367073, 0.4732422678221248), (43517614, 0.4728629309191878), (2398355, 0.4703837854804753), (47639578, 0.470357604624961), (33388422, 0.4703520240464192), (10139998, 0.46869186264162227), (41687820, 0.4680194642362227), (44381500, 0.4665079536598364), (50616532, 0.46260853492856385), (51637137, 0.46228053526217383), (1937094, 0.46088907265830714), (735324, 0.4582142921564178), (47130957, 0.457203830362148), (16982720, 0.45711729318350597), (17125108, 0.4529176752466741), (15459087, 0.45215540702102225), (52209782, 0.4505376225740815), (37019293, 0.4476941045341706), (52231647, 0.447679552676629), (11096367, 0.4460085973860721), (5011857, 0.44480503888844264), (38352485, 0.44467739491950065), (41797136, 0.4438591318887597), (37113311, 0.4437102924800552), (64834502, 0.44292316512808316), (53466036, 0.4426509193758718)]\n"
          ]
        },
        {
          "output_type": "stream",
          "name": "stderr",
          "text": [
            "INFO:werkzeug:127.0.0.1 - - [13/Jan/2023 10:36:09] \"\u001b[37mGET /search?query=How+to+make+hummus HTTP/1.1\u001b[0m\" 200 -\n"
          ]
        },
        {
          "output_type": "stream",
          "name": "stdout",
          "text": [
            "[(75065, 0.8301056421815538), (48876576, 0.7394545022637522), (24230253, 0.6215703042235067), (56494240, 0.5814057566057937), (16162840, 0.5649728328268548), (52682605, 0.5471377650105922), (10122293, 0.4776531385688064), (37785018, 0.4711215411159379), (5764910, 0.3789920402359637), (67420826, 0.36256399162063796), (7329519, 0.33101163950932566), (47886970, 0.3006051899066869), (24480734, 0.22864581218082292), (67648017, 0.18264864495950417), (32282924, 0.18122522080222742), (10607956, 0.17610733071077625), (7897152, 0.17592444509592206), (11146241, 0.17199220966064904), (48044401, 0.16887988761575254), (62119914, 0.16188851040900817), (11287682, 0.16179957024817393), (33050336, 0.15768158227576692), (53830078, 0.1502375247939319), (35870536, 0.149896472499566), (45221944, 0.1463431234382978), (53903055, 0.14388940576589626), (49643204, 0.14254030735954884), (3508935, 0.14228551008368037), (11447140, 0.14210610741462332), (22736969, 0.13932148901422983), (5327757, 0.1387026408980645), (29748788, 0.13621067196874698), (11577897, 0.132436612384723), (7144242, 0.1306886626066813), (62189747, 0.12849648362013616), (468774, 0.12652369386783718), (31497735, 0.12345579409958525), (62166289, 0.12235767342334669), (47863605, 0.12119343708126568), (3099917, 0.11687713392841693), (658992, 0.11598454951936779), (42947658, 0.11179811432099461), (62193803, 0.10978876816244254), (65576422, 0.10802083597795967), (66992283, 0.10501368483182186), (20657443, 0.10374449992704064), (289691, 0.09928087909087217), (65439220, 0.09892238553342013), (16386186, 0.09855944213787317), (2578570, 0.09532604861708421), (3260137, 0.09480124577973746), (56863893, 0.09432680974335766), (56727622, 0.09066614633393011), (41648016, 0.08999454915958735), (18991646, 0.08941185668834674), (3548013, 0.08827869375182691), (47566549, 0.08796479472513749), (28904907, 0.08681680067952371), (2101750, 0.08652134783387351), (53640441, 0.0862394296663515), (31502193, 0.08564000513477582), (61965573, 0.08307491406404408), (39613295, 0.08288936713779922), (59910236, 0.08283322558032676), (6557552, 0.08252145861082254), (50650060, 0.08180201165642621), (5334377, 0.08115515071824313), (47887280, 0.07993656543427219), (67828283, 0.07972705655397634), (41287786, 0.0793071708962676), (39865535, 0.07926919616371236), (18310148, 0.07811337530184029), (14893401, 0.07775586069094557), (176194, 0.077022499296581), (44744171, 0.07636579824638207), (6066140, 0.07593703874216948), (57146, 0.07519225769528252), (52692137, 0.07518433963702463), (1626287, 0.0748030969724503), (25546586, 0.07475977330716581), (19424729, 0.07410802967082684), (47689445, 0.0723916429986265), (2053043, 0.07155842447450626), (5663804, 0.07124429393597416), (42006157, 0.0705161049106402), (195352, 0.07028052314735148), (607255, 0.06999958901193208), (47863662, 0.06874565710886617), (40427638, 0.06770971261589119), (23619350, 0.06763848404596781), (65427122, 0.0669913563487492), (47051384, 0.06689724862695465), (2243880, 0.0653922821891421), (29744304, 0.06502550139090688), (39044782, 0.06394390239019387), (4689340, 0.06302400755638222), (4549303, 0.06283242009793102), (44379872, 0.060654834286016306), (3536515, 0.05986845495131045), (4925720, 0.05949524981961725)]\n"
          ]
        },
        {
          "output_type": "stream",
          "name": "stderr",
          "text": [
            "INFO:werkzeug:127.0.0.1 - - [13/Jan/2023 10:36:09] \"\u001b[37mGET /search?query=Winter HTTP/1.1\u001b[0m\" 200 -\n",
            "INFO:werkzeug:127.0.0.1 - - [13/Jan/2023 10:36:09] \"\u001b[37mGET /search?query=Rick+and+Morty HTTP/1.1\u001b[0m\" 200 -\n"
          ]
        },
        {
          "output_type": "stream",
          "name": "stdout",
          "text": [
            "[(34061, 0.5996274497371072), (34069, 0.4323414892516225), (54012, 0.3959824265653829), (58564, 0.39005988315561707), (49369, 0.34614570069780914), (10990, 0.3363205733571281), (38950, 0.32816896531712375), (38862, 0.2981230373246185), (40381, 0.29150495632935614), (777, 0.27627333891043415), (72319, 0.270383888319352), (33055, 0.2654504890404091), (42195, 0.24355488026896055), (40385, 0.2420427638871932), (65561, 0.24150599971529196), (40629, 0.23371767102463567), (32336, 0.2334818181146282), (71557, 0.23328466485655433), (22171, 0.2271298173512515), (80508, 0.217841838792754), (38843, 0.21338214285875706), (49643, 0.2047856358963378), (49096, 0.19340101566816037), (38678, 0.1886550114151062), (36772, 0.18062192861587914), (39641, 0.18054453229586134), (42004, 0.17632126845172705), (40591, 0.1653928124139127), (39634, 0.1633564248743669), (52997, 0.16103717481256588), (40017, 0.1466424450127125), (40048, 0.14263798524388424), (39693, 0.14227027598032882), (31908, 0.13765528801102014), (40015, 0.13710510830523726), (66811, 0.1354303625753144), (39639, 0.13522986752589566), (40384, 0.13244494105973773), (62905, 0.12998365505186849), (40058, 0.12991827829197558), (84358, 0.12640810276329328), (67537, 0.12366642325621563), (22576, 0.12263494680368725), (39646, 0.12043974238683818), (39632, 0.11947606143887837), (47466, 0.11788701489472275), (40055, 0.11684296772881714), (59671, 0.1141187542598079), (39644, 0.10953856580641641), (76125, 0.10772252241192176), (39637, 0.10719081649456068), (86186, 0.10596488276651944), (54379, 0.10594453654869566), (38957, 0.1037759265511948), (59896, 0.10217691562599127), (42713, 0.10213365219144645), (67671, 0.10200916001538225), (37779, 0.10181217914170489), (89620, 0.10174031624407139), (83243, 0.1007395088020093), (40377, 0.0982011924895467), (39643, 0.0953821778212803), (35289, 0.09448471718769688), (28483, 0.09447786331756562), (2939, 0.09273073083907023), (79274, 0.09182278751218234), (40057, 0.09107979776991702), (74644, 0.08965604641775558), (57915, 0.08873783414098728), (14067, 0.08846255035427086), (39642, 0.08793351982107957), (4548, 0.08772260470645228), (28478, 0.08695390567342212), (40628, 0.08680097390265779), (73640, 0.08585814003294176), (67318, 0.08383207246154022), (71088, 0.08260265475624666), (52433, 0.08213827680452018), (34988, 0.08206398018554886), (67651, 0.07893095801752073), (38988, 0.07866829411137632), (40056, 0.0771275614724839), (12681, 0.07696281039708537), (66722, 0.07690089424412945), (40673, 0.0750867639057562), (33924, 0.0745798734553707), (36786, 0.07449995135749733), (89598, 0.0732425263919521), (43864, 0.07317822452175564), (15147, 0.07303509477602388), (61921, 0.07284921931636205), (32378, 0.07282092036822588), (1285, 0.07278311036332136), (22126, 0.07269342705040051), (35461, 0.07102880589109584), (3049, 0.07014148162222243), (67160, 0.06940958180326456), (44805, 0.06904004920459941), (64014, 0.06865860005672933), (16686, 0.06865840992255608)]\n",
            "[(876902, 0.8066044315762928), (41699729, 0.7794467231980373), (49134382, 0.767911798439017), (55339294, 0.6741971858032269), (62322971, 0.6251018859416321), (41283158, 0.6127009824708523), (49128142, 0.603084849126321), (67830379, 0.6028750049894621), (49260717, 0.599791366553269), (63656330, 0.5847236772812829), (63656365, 0.5803018783153485), (49134425, 0.5787188980134862), (62417836, 0.5648582702967432), (49170369, 0.564017428150984), (64706034, 0.563481808201959), (51082764, 0.5548615455999814), (49029294, 0.5358831806877482), (55339299, 0.5356724886015249), (3623516, 0.532115216218029), (55339286, 0.5292490307898883), (47762921, 0.5113725627969621), (42311608, 0.4963277180474021), (55708102, 0.4951865748388189), (41185040, 0.49457585459749914), (3902371, 0.4764243001269672), (49127974, 0.47629646393422986), (52262559, 0.4759072624749038), (26091326, 0.4738505332596344), (49131475, 0.4717059061872945), (68010196, 0.4627994141795553), (1360002, 0.45919801067390537), (62417839, 0.4547010073422895), (21696582, 0.4532378106226507), (54046846, 0.4334440989895989), (61805032, 0.4221879464547032), (55795905, 0.41895163376768857), (49134386, 0.4111415708912772), (51759111, 0.41051906399414834), (6177571, 0.39935948343922123), (63656367, 0.3943060400093708), (63656361, 0.38594710246157515), (49131508, 0.3859152724781633), (49131135, 0.37629028800308456), (49134428, 0.37047572700554143), (65323078, 0.3691048146743366), (61394258, 0.367233667505591), (63871287, 0.3662542914068898), (27806593, 0.3527623518326916), (62417830, 0.35217344266203565), (53093027, 0.3490459854679448), (55339278, 0.34192467055391135), (30505766, 0.34142926075748653), (49170339, 0.34089230657150393), (54251265, 0.33732836512926656), (53699540, 0.3317823002932396), (52262572, 0.32355637387778163), (43794574, 0.3180741386805848), (849460, 0.31507243567369), (65819511, 0.31483446158711514), (47818757, 0.3124256086822725), (62384567, 0.31151196906949813), (55339301, 0.3014945017273915), (17057954, 0.2935483258467715), (46334540, 0.29259057455162213), (57390230, 0.29177848054434913), (67520032, 0.28703119038444463), (41154855, 0.2863334459016039), (2254508, 0.28124563390713875), (42894533, 0.28045719105533823), (43794572, 0.27732159792337924), (1906155, 0.26863408277405), (850080, 0.26638488597253707), (55272644, 0.2662675819667046), (52851287, 0.265348247848434), (37031916, 0.2641600499635967), (8675614, 0.26373224027116937), (6132795, 0.26311114571235117), (55339284, 0.26305112568908307), (954269, 0.26131244999895753), (849430, 0.25717481772351364), (58105850, 0.25490477737923917), (207985, 0.2537249763237393), (36917578, 0.2528620213251961), (62009673, 0.2526098820899183), (8471556, 0.2517996758195068), (61868842, 0.24901914527677196), (54802759, 0.2487802375855474), (55339303, 0.2344943764798513), (66745119, 0.23241545700298516), (618598, 0.23082132169723765), (5088389, 0.23065386564722748), (32466311, 0.2284201868031413), (45267282, 0.22547811998003156), (63656371, 0.2204774549730082), (1553427, 0.21922404034201495), (171031, 0.21572960871513963), (649620, 0.21523665568609182), (42417986, 0.2147935429077977), (8010015, 0.21183443076991035), (15049836, 0.2109413566017113)]\n"
          ]
        },
        {
          "output_type": "stream",
          "name": "stderr",
          "text": [
            "INFO:werkzeug:127.0.0.1 - - [13/Jan/2023 10:36:11] \"\u001b[37mGET /search?query=Natural+Language+processing HTTP/1.1\u001b[0m\" 200 -\n"
          ]
        },
        {
          "output_type": "stream",
          "name": "stdout",
          "text": [
            "[(2891758, 0.7078977508425989), (486551, 0.6763833079007732), (4045546, 0.6302121911051711), (35857899, 0.5871247591218158), (546083, 0.5450194167350728), (9900070, 0.5437307176227674), (6277593, 0.5302697294812071), (1661566, 0.4921785190494869), (2853312, 0.48251732122542534), (2854975, 0.48251732122542534), (2854980, 0.48251732122542534), (2854984, 0.48251732122542534), (3632204, 0.48251732122542534), (27608493, 0.48251732122542534), (28285013, 0.48251732122542534), (31731899, 0.48251732122542534), (32235818, 0.48251732122542534), (38193383, 0.48251732122542534), (42848709, 0.48251732122542534), (42848744, 0.48251732122542534), (2853319, 0.4825173212254253), (13711549, 0.4825173212254253), (33214093, 0.4825173212254253), (35233764, 0.4825173212254253), (40484086, 0.4825173212254253), (45155414, 0.48228143750637564), (36323189, 0.47732178151459903), (30972465, 0.4748476809961815), (4151133, 0.46483032924382384), (20715140, 0.46445043942786274), (21173, 0.46419960731566806), (34741517, 0.46292277763397516), (40751, 0.46289931503409854), (252008, 0.45564449092130976), (47948690, 0.4426193963509021), (3507324, 0.44233308323935755), (38885369, 0.44233308323935755), (40476086, 0.44233308323935755), (1945765, 0.4419125986328389), (5576666, 0.43707226210178574), (7577329, 0.433666685183349), (64750, 0.4287158752161393), (3241063, 0.428513332253988), (612756, 0.425352023695766), (37764426, 0.4242978030751304), (41961, 0.42349890721003647), (13366874, 0.421656101875534), (24736980, 0.42087359060109314), (29613563, 0.41488894736316323), (102295, 0.4135960305147831), (2150306, 0.41233066130371576), (14425911, 0.4064197527450755), (9736729, 0.40597827034239137), (45527510, 0.40431584105952056), (29775949, 0.4036259857587886), (29324, 0.40204231032822263), (52966709, 0.4018788842526766), (2157883, 0.40178427701907404), (39028431, 0.3988902773153771), (7860584, 0.3982458840265896), (1361082, 0.3970022172227486), (7656830, 0.39593400780910454), (37196381, 0.39374729971900013), (3765027, 0.3924727547173737), (715701, 0.3923472932600793), (1255882, 0.3905604107536513), (36501659, 0.3899636407472237), (40489033, 0.38985306214976306), (1191600, 0.38982858362663314), (373867, 0.3896848116188303), (6948595, 0.3894934424664549), (1094802, 0.3864690907574166), (636444, 0.38612678852722665), (40468444, 0.3858724581118849), (1847118, 0.38516333590287466), (19875257, 0.3849962280960535), (53122691, 0.384178510289291), (45573515, 0.38310051257988104), (31417289, 0.3814760240011359), (31329046, 0.38125883031345886), (37911337, 0.38047462590694725), (16501681, 0.3797632151124197), (466099, 0.37856972224043944), (35488840, 0.3785000467609867), (35796056, 0.37500641297623616), (5595619, 0.3696699687836945), (380237, 0.36903743559248486), (57568914, 0.3679980756643322), (1737517, 0.36789947507273835), (18095448, 0.367120060013981), (795837, 0.3654782599767478), (40483916, 0.36511700776201755), (5096041, 0.36486783807894957), (62517727, 0.3638608794600154), (27608629, 0.36373375637906963), (30672993, 0.36373375637906963), (983997, 0.3637337563790696), (1286904, 0.3637337563790696), (1596390, 0.3637337563790696), (1704371, 0.3637337563790696)]\n"
          ]
        },
        {
          "output_type": "stream",
          "name": "stderr",
          "text": [
            "INFO:werkzeug:127.0.0.1 - - [13/Jan/2023 10:36:14] \"\u001b[37mGET /search?query=World+Cup+2022 HTTP/1.1\u001b[0m\" 200 -\n"
          ]
        },
        {
          "output_type": "stream",
          "name": "stdout",
          "text": [
            "[(62872154, 0.7959228764811981), (63163166, 0.7609282473373377), (40250945, 0.7212078743418093), (48768943, 0.6920044187073328), (68313940, 0.6868407397768517), (67445313, 0.6759250793039283), (67177420, 0.6756260899937299), (67569202, 0.6463716993278468), (60254944, 0.6440532969812657), (68265989, 0.6265928347419845), (68305631, 0.6154647262035434), (67397628, 0.6127330351261987), (64153522, 0.6028649388610073), (62490330, 0.6022802109986036), (65152088, 0.5979597961734713), (861667, 0.5849699572887361), (65197246, 0.5849371618139806), (60397115, 0.5802757589647567), (67241646, 0.5772478861513912), (65153103, 0.5767233863493876), (65138499, 0.5760613112187312), (68265274, 0.5719966393772091), (65189433, 0.56898080233078), (51453600, 0.5681247495572822), (65138585, 0.5676617091400751), (65104566, 0.5659442284660932), (67403091, 0.5636574111272), (65153029, 0.5625524720905528), (65197214, 0.5621140188361238), (65104861, 0.5568559551548079), (65105515, 0.5549930402688068), (65105782, 0.5484732220531892), (68265304, 0.5469123354319911), (65152171, 0.5438825528878545), (66004104, 0.5408842746335785), (68141447, 0.5388021230652041), (65138599, 0.5379411109026049), (65103969, 0.5360993639746575), (52412, 0.5311671527876893), (65107254, 0.5307474749055529), (68139898, 0.5278173204258274), (65151419, 0.5219694843103687), (66505678, 0.5179188310534061), (67565917, 0.5168304986288217), (66418066, 0.5157046290112113), (65152714, 0.5087327677625477), (65104209, 0.5086128310201119), (65152439, 0.504865938162256), (65092580, 0.5008098620295843), (65188415, 0.4985261176331873), (68290563, 0.49334608199529023), (65106316, 0.4922314846517559), (67098214, 0.49082631860278314), (67461886, 0.4878924426826238), (1874791, 0.48570891485454293), (65105240, 0.47398482937192027), (65151694, 0.47046573520818413), (66292760, 0.4704379872247879), (63938297, 0.46906634123442525), (68238237, 0.4675953109964382), (68142015, 0.4662464276707535), (67896838, 0.4598390342445336), (57724867, 0.4592785397926325), (2528616, 0.4574539559806127), (67401533, 0.4574197692826745), (68144061, 0.45718200422298205), (68144201, 0.45641403348346693), (67767628, 0.4555345378284159), (68144046, 0.4550788208642211), (68144027, 0.4522881723095331), (68144271, 0.4504993683597036), (68144253, 0.45033957810616093), (68144295, 0.4494867343198977), (68299877, 0.4491186764578166), (25260952, 0.4489951365708597), (68144190, 0.4484154531476515), (68147640, 0.4477047037482945), (68144091, 0.4476924435535822), (68144237, 0.44762191918108074), (68144007, 0.44758494980116287), (68144217, 0.44578270478115517), (68067178, 0.44527446887316474), (68144310, 0.4446244665030301), (68144174, 0.4444643853190568), (65189351, 0.44445364318529007), (51175693, 0.4439079390079561), (67656307, 0.44244644056669913), (68144123, 0.4403488716051724), (68144286, 0.4387195420995982), (65138724, 0.4381513383251615), (65151923, 0.4333929225898502), (61078763, 0.42498377731140236), (65189412, 0.42249304513273156), (65683611, 0.41861986029990517), (68130647, 0.41841103369382565), (66806246, 0.41771807956457385), (63484001, 0.41738903321114557), (68118845, 0.4167945149750493), (67942124, 0.41627418850534376), (67767641, 0.41573158682058375)]\n"
          ]
        },
        {
          "output_type": "stream",
          "name": "stderr",
          "text": [
            "INFO:werkzeug:127.0.0.1 - - [13/Jan/2023 10:36:14] \"\u001b[37mGET /search?query=Dolly+the+sheep HTTP/1.1\u001b[0m\" 200 -\n",
            "INFO:werkzeug:127.0.0.1 - - [13/Jan/2023 10:36:14] \"\u001b[37mGET /search?query=cigarettes HTTP/1.1\u001b[0m\" 200 -\n"
          ]
        },
        {
          "output_type": "stream",
          "name": "stdout",
          "text": [
            "[(192685, 0.7337788681828463), (62605848, 0.7035571022033261), (9146, 0.6640014224874895), (15525547, 0.6255643174381109), (684894, 0.5953248851803702), (1462860, 0.5874458962846749), (7931740, 0.584676531859316), (17158563, 0.5744173780242439), (66021052, 0.5623944189380948), (3260611, 0.554330525273228), (51194108, 0.5468643618698482), (31315948, 0.5451572877553359), (53734671, 0.5236893059994859), (13676135, 0.5207233655302438), (1895130, 0.5069110093715692), (9649607, 0.5011349192407352), (1843778, 0.5010394325253376), (2968233, 0.49730320815442475), (38951684, 0.49713714860862424), (15632671, 0.4959278347385602), (20672385, 0.4954715997241534), (690469, 0.493229748574384), (20876683, 0.49121523170599973), (11073540, 0.4887606750152122), (43217052, 0.4873497358644372), (27484164, 0.4833721706966498), (22644717, 0.47973030006383494), (3512162, 0.4796590246581956), (20396076, 0.4783122111544194), (99032, 0.47530668079098104), (39792862, 0.4697938315725317), (37237191, 0.4694697720448175), (38383354, 0.4683862919393416), (13011078, 0.4664374420739463), (915258, 0.46289134148920635), (27945371, 0.46275119537354475), (15511884, 0.45921047575895946), (4400554, 0.4561318647326295), (27374873, 0.4555082657966482), (14544308, 0.4546489230480459), (36674649, 0.45423911204141176), (23123370, 0.4541346760233066), (24524266, 0.4522564570058555), (63031051, 0.450787337076762), (38362519, 0.4503549703748482), (15957525, 0.4432060435434131), (2980764, 0.4428109650540787), (15550372, 0.44193263443402614), (39756729, 0.44049198133531875), (39943014, 0.4400197019219297), (9638399, 0.43967081118951495), (3365206, 0.4373993220956718), (38999845, 0.43724585046285447), (3634350, 0.436318465798262), (5025294, 0.43093151025492105), (1473859, 0.43053073922760615), (1110037, 0.43003961298102106), (3495069, 0.42285436249603314), (57257665, 0.42245203690375965), (31461253, 0.42113752579105224), (10650558, 0.4199826274685317), (35869884, 0.41931640229064476), (2697408, 0.41831568011660214), (17140760, 0.4180818807079592), (2439204, 0.4176065715365378), (48083572, 0.4162829213022774), (18422940, 0.4132896095216953), (67723022, 0.41034812681294935), (16498630, 0.40975425849867075), (4769691, 0.40971789144842535), (56612718, 0.40931750429340513), (43133354, 0.40902507030851015), (58910917, 0.40876211550828145), (12872401, 0.40749116299248345), (7455202, 0.4058644317625145), (36838566, 0.403479531154974), (32429195, 0.40181771108684133), (45333903, 0.4012885226372022), (43724531, 0.4005750853463893), (17572479, 0.40003574422014926), (913362, 0.39898643593436833), (36837893, 0.3980604662472448), (46453689, 0.39782976492404865), (1301844, 0.39665383935593274), (9196804, 0.39455305614755387), (1596361, 0.393809182743982), (48647443, 0.3923905865445482), (18385833, 0.3918855898729007), (50048843, 0.3912035471976293), (51935791, 0.391128004091573), (63490499, 0.39052693921738113), (15204080, 0.3898633021309302), (630637, 0.3898017088505917), (13013168, 0.38956048144667926), (16191126, 0.3884572069523396), (67226610, 0.38801966960565126), (1586075, 0.38788401014275886), (46526289, 0.3874776591383188), (7024876, 0.3854682018037983), (21049146, 0.3854594925329014)]\n",
            "[(5801264, 0.7223261660709865), (40593794, 0.6472221142205903), (16439814, 0.6156986737497147), (23146, 0.5815332883515143), (5123727, 0.5721380007126766), (1353592, 0.5662728283418237), (17596651, 0.5654642640238527), (2761281, 0.5620212333712822), (41324212, 0.5536048040493746), (550004, 0.5512084494278491), (22536011, 0.5179568122324675), (47090637, 0.5154917865626992), (1556887, 0.49886282420918726), (37037828, 0.49070905195070436), (2994105, 0.48626773674023277), (9793755, 0.4854028913701861), (6244176, 0.4701875029534409), (48412672, 0.46259867198432), (28060853, 0.46234116961382327), (3709356, 0.461877410015946), (41502748, 0.45992770042852166), (28085369, 0.45888840586377294), (21206842, 0.44135292316479163), (38327, 0.43096381987139365), (28463548, 0.4257451919452123), (50164035, 0.4245021840339916), (1024627, 0.4168365065062975), (8655214, 0.41577856344666714), (4870997, 0.411678451213918), (9254970, 0.41007221528094673), (3613631, 0.40841280336080027), (3017413, 0.40284474715368435), (1287604, 0.395035357125717), (54258598, 0.39428787774700513), (34004831, 0.38283472890086856), (51993482, 0.38166145037892696), (29185456, 0.38042865345113847), (11938696, 0.37845156126974916), (34168772, 0.37758447109426796), (23884157, 0.37652181841279925), (976448, 0.3730958978821928), (8244918, 0.3715632506612513), (44454302, 0.37071737556474976), (598673, 0.36956190886202706), (2449138, 0.36617452377311643), (16765986, 0.3585135755912029), (10471942, 0.3573227566004186), (2236126, 0.35595592661641473), (22922620, 0.35378667755781196), (691170, 0.3533877561033097), (22937233, 0.3528059424143664), (3867762, 0.3525392147586644), (13834142, 0.3507428297682989), (47420645, 0.3500777970046243), (39084693, 0.3498619537828399), (38593945, 0.34640150402968184), (53294749, 0.3461462845996898), (3533021, 0.3450257589233311), (27114323, 0.3437746044632251), (9219579, 0.3382471471325173), (1460994, 0.3375364977360514), (50681778, 0.334844904729428), (1395189, 0.3317749533345616), (6258530, 0.33166101159317996), (2773786, 0.32983294322454854), (32852238, 0.32855569186478567), (27148981, 0.3275167969735884), (4576717, 0.3271858752529816), (27148738, 0.32520750231700873), (14369050, 0.32168100939149036), (21052322, 0.3208198311269509), (14501317, 0.32001662971386746), (41255095, 0.31954022926401676), (10491793, 0.3178121369972121), (1910732, 0.31571267831503347), (26786482, 0.31420916503455965), (18713424, 0.31369290209757966), (6538171, 0.3130340054633125), (8770048, 0.31122341833250544), (10324637, 0.30929146855156203), (22500560, 0.30584360187631043), (1433593, 0.3050413180142968), (20587357, 0.30390622347499463), (34612799, 0.2993757461089154), (1036131, 0.29827244697820343), (23663723, 0.29301404761916916), (4050333, 0.2925169033535618), (28194246, 0.2900169315093144), (2536648, 0.2898579695230966), (4871238, 0.2892995725056891), (7756873, 0.28547036171375134), (46326633, 0.2854461000811895), (49358567, 0.2827540150593608), (52968677, 0.2821289073379278), (39008699, 0.28166840653610703), (2188990, 0.28016780313468326), (1199251, 0.27929377617324214), (14555660, 0.27773336092257417), (32695480, 0.2728962723262059), (41124323, 0.27257599109075936)]\n"
          ]
        },
        {
          "output_type": "stream",
          "name": "stderr",
          "text": [
            "INFO:werkzeug:127.0.0.1 - - [13/Jan/2023 10:36:19] \"\u001b[37mGET /search?query=What+is+the+best+place+to+live+in%3F HTTP/1.1\u001b[0m\" 200 -\n"
          ]
        },
        {
          "output_type": "stream",
          "name": "stdout",
          "text": [
            "[(1861944, 0.645210979915685), (2347978, 0.5177365555704602), (6902155, 0.4930020242635897), (5617195, 0.4781133687572856), (4789487, 0.4658955156341635), (7081866, 0.46288553297333157), (538871, 0.4580292765779094), (10905655, 0.438307098866161), (2250249, 0.4315462618232814), (9860955, 0.42689773401540687), (6680309, 0.4244035513509471), (2403481, 0.4225335665490819), (810230, 0.4212820354967698), (6236356, 0.41844175689488977), (7317283, 0.4184001538012158), (5681949, 0.4095901656269586), (6873605, 0.4057795419505675), (4151001, 0.40217148397123054), (5221695, 0.40155257298160024), (172707, 0.39998708040251413), (4118257, 0.3956071093415681), (978461, 0.39447684613539613), (8010446, 0.3937978105125669), (7758365, 0.3921622778453916), (1668452, 0.3862698671730832), (2065009, 0.38316243434743635), (4634538, 0.38308209787824027), (2573205, 0.38306189181855554), (7528266, 0.3776267274576423), (5857965, 0.37255034748113824), (12259587, 0.371842324792009), (2493224, 0.36891711395327975), (4394394, 0.3653045249680931), (2760730, 0.36387533359281526), (4395735, 0.36267911278426124), (7378311, 0.3576234388839045), (493466, 0.3570379726577012), (4224440, 0.3568609950161037), (2352459, 0.3544637800979274), (2852459, 0.35314082378616407), (7493068, 0.3503189350609889), (7420265, 0.35022597708535136), (10618982, 0.3487892837816778), (2642735, 0.34804361597213285), (1135872, 0.3458003910021316), (7668594, 0.3429729337610552), (2244332, 0.3424600036127365), (7105090, 0.34226150700947183), (4036172, 0.3419471267732354), (8587775, 0.33902947422539675), (3257157, 0.33694777172021373), (1488937, 0.33616916363767324), (1789999, 0.33527609166097544), (1213759, 0.3350349948945256), (1764789, 0.3342303676685514), (4640643, 0.3341987342017133), (3064461, 0.3328853176924894), (8280256, 0.33237151062588144), (2411899, 0.33176643541205175), (1960776, 0.33160587761377935), (1605298, 0.3302709420374278), (9425157, 0.32988459604280307), (2801735, 0.3298078876822949), (2243596, 0.3293414149292182), (2743109, 0.3278722110562318), (4162970, 0.3274893276263001), (8310261, 0.3273953027328776), (8561778, 0.32682916548527097), (8492063, 0.32594656774168107), (4978261, 0.3251344351576969), (2715939, 0.32507315435515105), (6582452, 0.32328402858888944), (7386725, 0.32322764167481677), (7299768, 0.322879336792337), (1070235, 0.32226787383175237), (7706340, 0.32129993912472454), (9410141, 0.3207025629142724), (3558066, 0.320116313609659), (188012, 0.319806262236799), (3947842, 0.31871856792197145), (3790919, 0.31845651593662005), (5255249, 0.31833358316396565), (4377181, 0.3180900423337654), (7819231, 0.31732656522574504), (6754433, 0.3171257704962823), (6133913, 0.3154248711162791), (6381027, 0.31530414455453576), (4510587, 0.31445801663257633), (6872356, 0.31235443658535306), (7692130, 0.3117046756031751), (1687514, 0.31105031682788986), (3276835, 0.3109546844743179), (2845957, 0.3087134091161771), (6484027, 0.3078823553233547), (2177252, 0.3076215008031021), (4883634, 0.3075861678176199), (7721574, 0.30682641481592604), (6027734, 0.30669338434971594), (3721176, 0.3062204994596564), (8264078, 0.30603243064832836)]\n"
          ]
        },
        {
          "output_type": "stream",
          "name": "stderr",
          "text": [
            "INFO:werkzeug:127.0.0.1 - - [13/Jan/2023 10:36:19] \"\u001b[37mGET /search?query=Elon+musk HTTP/1.1\u001b[0m\" 200 -\n"
          ]
        },
        {
          "output_type": "stream",
          "name": "stdout",
          "text": [
            "[(41309419, 0.7646797367763), (43407192, 0.7598646256681968), (66430882, 0.7193937299058891), (50399439, 0.7173041328786111), (803102, 0.6847561965686744), (65212863, 0.6812022910581487), (48778030, 0.6739679848726008), (65175052, 0.660447383994081), (4666466, 0.6412584201264464), (909036, 0.636831432373363), (33986468, 0.625045276232102), (22248960, 0.6182486150027602), (220806, 0.6166157276584527), (29414816, 0.6105698615512644), (58173986, 0.6082444976045213), (127628, 0.5958248428616006), (47190535, 0.5886617105267613), (21523886, 0.573477895137428), (68289769, 0.5734283470243533), (1001122, 0.570716826777269), (20339194, 0.5524507923660585), (41318207, 0.5463486470062628), (21450611, 0.5446081981485498), (45186981, 0.5409909509652617), (60955975, 0.539076591511531), (32151967, 0.5360295533520133), (6973013, 0.5354259821250418), (58212588, 0.534838738516725), (4555268, 0.5305579494112737), (61490363, 0.5290911181554261), (48703999, 0.5241650607796684), (5399134, 0.5202516165556192), (42171501, 0.517051504799878), (33964400, 0.514412809782796), (59482698, 0.5137088238887318), (44764782, 0.5086730530208529), (3040653, 0.5080726353629723), (8046414, 0.501088258207321), (4363181, 0.5000184368520294), (5721649, 0.49942551467707896), (41321989, 0.4934557732238388), (41319141, 0.49096731164027246), (41319253, 0.48238645742021413), (61394737, 0.4816415812078172), (24019437, 0.48149849829544644), (4625240, 0.47289983364664184), (41319185, 0.46827788360795647), (37813899, 0.4671300806179712), (54769714, 0.4642667467225193), (318270, 0.4641531626404513), (34809375, 0.46218774319260214), (24956646, 0.46122856214849145), (12540820, 0.460388977817605), (30137135, 0.45680015921775113), (40063055, 0.4567374313358339), (2614738, 0.4541910398441435), (53615490, 0.44187097396753844), (63631499, 0.43716387547888647), (22263517, 0.43686360533389557), (22442576, 0.43561363794311253), (68238186, 0.4332499509765754), (584836, 0.42982008367919433), (32383521, 0.42785892013918847), (41318420, 0.4194305964068544), (58421400, 0.4176309517537072), (10817661, 0.4127191062634659), (1923823, 0.40725648544668036), (15016135, 0.40712152541223895), (5398891, 0.4061150153964956), (13478982, 0.4047414039894106), (1321802, 0.40451055285265747), (21169599, 0.403423029222388), (3046703, 0.403279131885394), (3541895, 0.4031330501277657), (68146980, 0.4017634040436393), (4369169, 0.4014649924455117), (22444773, 0.3983741984711619), (5395117, 0.39639801832094035), (256010, 0.389382370782966), (6866267, 0.38890745555883355), (27915012, 0.38377166656569844), (22176717, 0.38257404599361683), (48880024, 0.37712146282835546), (56144073, 0.37355124035661985), (60784789, 0.37172862290346975), (57342552, 0.3715976896397782), (60029267, 0.3703576147913428), (23101038, 0.37031692296544766), (53215263, 0.37016971660078735), (8029183, 0.36943209651093895), (12508270, 0.3659485038516762), (25014114, 0.35903313311682583), (6836366, 0.3558038171378251), (45383351, 0.34928990079883787), (58638621, 0.3480963482607972), (42742247, 0.34651773893129667), (34117445, 0.34497625635235796), (21389299, 0.34367087998553564), (47794250, 0.34202309607644277), (4214774, 0.34131994565594526)]\n"
          ]
        },
        {
          "output_type": "stream",
          "name": "stderr",
          "text": [
            "INFO:werkzeug:127.0.0.1 - - [13/Jan/2023 10:36:20] \"\u001b[37mGET /search?query=How+do+you+breed+flowers%3F HTTP/1.1\u001b[0m\" 200 -\n"
          ]
        },
        {
          "output_type": "stream",
          "name": "stdout",
          "text": [
            "[(9507921, 0.7072223773176642), (39676695, 0.6931306004992936), (801773, 0.6669144095164994), (895650, 0.658343329569042), (13780186, 0.6510321689725893), (20897928, 0.6446115467224508), (15446490, 0.6269068769762832), (44066718, 0.6259695015147796), (60649381, 0.6170155448043436), (51118248, 0.5818676638384633), (64576596, 0.5763163004891468), (3550726, 0.5685086220197231), (32908252, 0.5608336937392411), (24016757, 0.5605059318141773), (59673454, 0.5591305244944705), (17843999, 0.5539164484612574), (30510881, 0.5498781410675636), (37570236, 0.547173132660456), (5116464, 0.5420410538421726), (921491, 0.5103395854033316), (5861432, 0.5063389283043987), (6947021, 0.5027451246884785), (1810335, 0.5020757359856827), (37260437, 0.4970848739469803), (21957462, 0.4968248786070023), (62781095, 0.49620880078404084), (20041575, 0.4933006639945657), (7525682, 0.49024362518720915), (798084, 0.48302323111916756), (4914967, 0.4812593134370859), (43426910, 0.4779331376123281), (39588381, 0.4756147154875435), (11785063, 0.47125888542077726), (66171290, 0.46563730836514755), (13931450, 0.46365050892642984), (48575141, 0.4619481548655538), (4256349, 0.4544179180821416), (33498127, 0.4536984146229684), (20519780, 0.45199026423456906), (34245365, 0.45013022331625707), (274123, 0.4483206485125288), (5913723, 0.44539289205985755), (31030544, 0.44459151322973944), (3094365, 0.44432748818296813), (22133283, 0.44423917377141153), (30613867, 0.44398477612199166), (32742529, 0.443067911898841), (1194397, 0.4408066544604817), (30885143, 0.4403381224415867), (57915671, 0.44019331479188334), (15651881, 0.4373600983944367), (22789005, 0.436971148614188), (22877360, 0.43684675835842474), (63387444, 0.43644351988550106), (41206111, 0.4347260667172976), (50592576, 0.43208378353452487), (13988598, 0.4315205286866889), (10271826, 0.4313644959117406), (38443721, 0.42899860987936816), (4149681, 0.428607194387272), (66043941, 0.42736001791813255), (11379772, 0.42705877935066483), (26682019, 0.4261670137724288), (12515054, 0.4254271478189744), (63895, 0.4243796388140978), (40576909, 0.42184027809969227), (24107925, 0.4214186885179925), (9389541, 0.4212046219735804), (22065738, 0.420665154241324), (10852699, 0.420457018495842), (3180544, 0.4182075238723477), (11341681, 0.41772097635223476), (11960959, 0.4167078726020752), (58368158, 0.41627075793475876), (52333962, 0.41589347686065425), (18102265, 0.41567775818759506), (33694022, 0.41552583060470655), (28660394, 0.41509357761846605), (55189275, 0.41411603341925535), (43383692, 0.41359668020336077), (14343742, 0.41352415481412436), (26363371, 0.4132819011541661), (65837673, 0.41274697457194615), (52069460, 0.4119083017869846), (10532486, 0.4088355050046806), (32881632, 0.40699403165232284), (22068322, 0.4065707896624136), (22069231, 0.40557413100797374), (11339156, 0.40501486638854384), (517101, 0.40428659323130683), (26348310, 0.4033585443723696), (267933, 0.4032102032151996), (57255211, 0.4028193961364494), (17011238, 0.4023116182693801), (173757, 0.4015182230716483), (58075242, 0.4006074498074242), (30821503, 0.39980533017300823), (847723, 0.3994923220035463), (5272223, 0.3977067364903953), (65697122, 0.397033198542992)]\n"
          ]
        }
      ],
      "source": [
        "from flask_ngrok import run_with_ngrok\n",
        "run_with_ngrok(se.app) \n",
        "se.app.run()"
      ]
    },
    {
      "cell_type": "markdown",
      "metadata": {
        "id": "Na0MC_1nzDbi"
      },
      "source": [
        "# Testing your app\n",
        "\n",
        "Once your app is running you can query it. You can simply do that by navigating to the URL that ngrok gave you above or through code in a different python session. For example, once the frontend app is running, you can navigate to:\n",
        "http://YOUR_SERVER_DOMAIN/search?query=hello+world where YOUR_SERVER_DOMAIN is something like XXXX-XX-XX-XX-XX.ngrok.io, which is printed above in Colab or that is your external IP on GCP.\n",
        "\n",
        "The code below shows how to issue a query from python. This is also how our testing code will issue queries to your search engine, so make sure to test your search engine this way after you deploy it to GCP and before submission. Command line instructions for deploying your search engine to GCP are available at `run_frontend_in_gcp.sh`. Note that we will not only issue training queries to your search engine, but also test queries, i.e. queries that you've never seen before."
      ]
    },
    {
      "cell_type": "code",
      "execution_count": null,
      "metadata": {
        "id": "EM5ePrRHojbG"
      },
      "outputs": [],
      "source": [
        "import json\n",
        "\n",
        "with open('queries_train.json', 'rt') as f:\n",
        "  queries = json.load(f)"
      ]
    },
    {
      "cell_type": "code",
      "execution_count": null,
      "metadata": {
        "id": "gWimZWCOy3Ei"
      },
      "outputs": [],
      "source": [
        "def average_precision(true_list, predicted_list, k=40):\n",
        "    true_set = frozenset(true_list)\n",
        "    predicted_list = predicted_list[:k]\n",
        "    precisions = []\n",
        "    for i,doc_id in enumerate(predicted_list):        \n",
        "        if doc_id in true_set:\n",
        "            prec = (len(precisions)+1) / (i+1)            \n",
        "            precisions.append(prec)\n",
        "    if len(precisions) == 0:\n",
        "        return 0.0\n",
        "    return round(sum(precisions)/len(precisions),3)"
      ]
    },
    {
      "cell_type": "code",
      "execution_count": null,
      "metadata": {
        "id": "dYmNTq9u0ChK"
      },
      "outputs": [],
      "source": [
        "import requests\n",
        "from time import time\n",
        "# url = 'http://35.232.59.3:8080'\n",
        "# place the domain you got from ngrok or GCP IP below. \n",
        "url = 'http://cded-35-192-160-143.ngrok.io'\n",
        "\n",
        "qs_res = []\n",
        "for q, true_wids in queries.items():\n",
        "  duration, ap = None, None\n",
        "  t_start = time()\n",
        "  try:\n",
        "    res = requests.get(url + '/search_body', {'query': q}, timeout=35)\n",
        "    duration = time() - t_start\n",
        "    if res.status_code == 200:\n",
        "      pred_wids, _ = zip(*res.json())\n",
        "      ap = average_precision(true_wids, pred_wids)\n",
        "  except:\n",
        "    pass\n",
        "  \n",
        "  qs_res.append((q, duration, ap))\n",
        "print(qs_res)"
      ]
    }
  ],
  "metadata": {
    "colab": {
      "provenance": []
    },
    "kernelspec": {
      "display_name": "Python 3",
      "name": "python3"
    },
    "language_info": {
      "name": "python"
    }
  },
  "nbformat": 4,
  "nbformat_minor": 0
}